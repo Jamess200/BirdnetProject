{
 "cells": [
  {
   "cell_type": "code",
   "execution_count": 1,
   "metadata": {},
   "outputs": [],
   "source": [
    "import pandas as pd\n",
    "import json"
   ]
  },
  {
   "cell_type": "code",
   "execution_count": 2,
   "metadata": {},
   "outputs": [
    {
     "name": "stdout",
     "output_type": "stream",
     "text": [
      "JSON data has been successfully converted to CSV and saved to C:\\Git\\birdnetTest\\BirdNET_results6.csv\n"
     ]
    }
   ],
   "source": [
    "# Read the JSON file\n",
    "json_file_path = 'C:\\\\Git\\\\birdnetTest\\\\BirdNET_results6.json'\n",
    "\n",
    "with open(json_file_path, 'r', encoding='utf-8') as file:\n",
    "    data = json.load(file)\n",
    "\n",
    "# List to hold the flattened data\n",
    "flattened_data = []\n",
    "\n",
    "# Flatten the JSON structure\n",
    "for filename, records in data.items():\n",
    "    for record in records:\n",
    "        record['filename'] = filename\n",
    "        flattened_data.append(record)\n",
    "\n",
    "# Convert the flattened data to a DataFrame\n",
    "df = pd.DataFrame(flattened_data)\n",
    "\n",
    "# Convert the DataFrame to CSV\n",
    "csv_file_path = 'C:\\\\Git\\\\birdnetTest\\\\BirdNET_results6.csv'\n",
    "df.to_csv(csv_file_path, index=False)\n",
    "\n",
    "print(f\"JSON data has been successfully converted to CSV and saved to {csv_file_path}\")"
   ]
  }
 ],
 "metadata": {
  "kernelspec": {
   "display_name": "Python 3",
   "language": "python",
   "name": "python3"
  },
  "language_info": {
   "codemirror_mode": {
    "name": "ipython",
    "version": 3
   },
   "file_extension": ".py",
   "mimetype": "text/x-python",
   "name": "python",
   "nbconvert_exporter": "python",
   "pygments_lexer": "ipython3",
   "version": "3.8.10"
  }
 },
 "nbformat": 4,
 "nbformat_minor": 2
}
