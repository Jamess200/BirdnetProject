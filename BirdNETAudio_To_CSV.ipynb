{
  "nbformat": 4,
  "nbformat_minor": 0,
  "metadata": {
    "colab": {
      "provenance": [],
      "mount_file_id": "https://github.com/Jamess200/birdnetTest/blob/James_Branch/Inital_BN_Test.ipynb",
      "authorship_tag": "ABX9TyNN9hLrYOjpIvnt7KQ+03M1",
      "include_colab_link": true
    },
    "kernelspec": {
      "name": "python3",
      "display_name": "Python 3"
    },
    "language_info": {
      "name": "python"
    }
  },
  "cells": [
    {
      "cell_type": "markdown",
      "metadata": {
        "id": "view-in-github",
        "colab_type": "text"
      },
      "source": [
        "<a href=\"https://colab.research.google.com/github/Jamess200/BirdnetProject/blob/main/BirdNETAudio_To_CSV.ipynb\" target=\"_parent\"><img src=\"https://colab.research.google.com/assets/colab-badge.svg\" alt=\"Open In Colab\"/></a>"
      ]
    },
    {
      "cell_type": "code",
      "source": [
        "#@title Mount Google Drive\n",
        "# Mount Google Drive to access files stored in it\n",
        "from google.colab import drive\n",
        "drive.mount('/content/drive')"
      ],
      "metadata": {
        "colab": {
          "base_uri": "https://localhost:8080/"
        },
        "id": "UBQ0gb-zJaF7",
        "outputId": "2b305f8c-857d-4f2d-894e-f7e7f602b0db"
      },
      "execution_count": 1,
      "outputs": [
        {
          "output_type": "stream",
          "name": "stdout",
          "text": [
            "Mounted at /content/drive\n"
          ]
        }
      ]
    },
    {
      "cell_type": "code",
      "source": [
        "#@title Change Directory\n",
        "# Change the working directory to a specific path in your Google Drive\n",
        "%cd /content/drive/MyDrive/"
      ],
      "metadata": {
        "colab": {
          "base_uri": "https://localhost:8080/"
        },
        "id": "6STr5lGE9sFd",
        "outputId": "72dc5a11-f50b-4fbd-df3c-3a213180388d"
      },
      "execution_count": 3,
      "outputs": [
        {
          "output_type": "stream",
          "name": "stdout",
          "text": [
            "/content/drive/MyDrive\n"
          ]
        }
      ]
    },
    {
      "cell_type": "code",
      "source": [
        "#@title Set Up Repository Path & Clone Repository\n",
        "import os\n",
        "# Define path in Google Drive where you want to clone the repository\n",
        "repo_path = '/content/drive/MyDrive/'\n",
        "\n",
        "# Check if directory already exists, create it if not\n",
        "if not os.path.exists(repo_path):\n",
        "    os.makedirs(repo_path)\n",
        "\n",
        "# Change working directory to defined path\n",
        "os.chdir(repo_path)\n",
        "\n",
        "# Clone the repository if doesnt exist, otherwise pull latest changes\n",
        "if not os.path.exists(os.path.join(repo_path, 'BirdnetProject')):\n",
        "    !git clone https://github.com/Jamess200/BirdnetProject\n",
        "else:\n",
        "    os.chdir('BirdnetProject')\n",
        "    !git pull\n",
        "\n",
        "# Verify cloned repository\n",
        "!ls"
      ],
      "metadata": {
        "colab": {
          "base_uri": "https://localhost:8080/"
        },
        "id": "CPfnA6GjBNJs",
        "outputId": "df25e200-9565-439c-8f73-9dbd3f9e1f5d"
      },
      "execution_count": 4,
      "outputs": [
        {
          "output_type": "stream",
          "name": "stdout",
          "text": [
            "remote: Enumerating objects: 14, done.\u001b[K\n",
            "remote: Counting objects:   7% (1/14)\u001b[K\rremote: Counting objects:  14% (2/14)\u001b[K\rremote: Counting objects:  21% (3/14)\u001b[K\rremote: Counting objects:  28% (4/14)\u001b[K\rremote: Counting objects:  35% (5/14)\u001b[K\rremote: Counting objects:  42% (6/14)\u001b[K\rremote: Counting objects:  50% (7/14)\u001b[K\rremote: Counting objects:  57% (8/14)\u001b[K\rremote: Counting objects:  64% (9/14)\u001b[K\rremote: Counting objects:  71% (10/14)\u001b[K\rremote: Counting objects:  78% (11/14)\u001b[K\rremote: Counting objects:  85% (12/14)\u001b[K\rremote: Counting objects:  92% (13/14)\u001b[K\rremote: Counting objects: 100% (14/14)\u001b[K\rremote: Counting objects: 100% (14/14), done.\u001b[K\n",
            "remote: Compressing objects:  10% (1/10)\u001b[K\rremote: Compressing objects:  20% (2/10)\u001b[K\rremote: Compressing objects:  30% (3/10)\u001b[K\rremote: Compressing objects:  40% (4/10)\u001b[K\rremote: Compressing objects:  50% (5/10)\u001b[K\rremote: Compressing objects:  60% (6/10)\u001b[K\rremote: Compressing objects:  70% (7/10)\u001b[K\rremote: Compressing objects:  80% (8/10)\u001b[K\rremote: Compressing objects:  90% (9/10)\u001b[K\rremote: Compressing objects: 100% (10/10)\u001b[K\rremote: Compressing objects: 100% (10/10), done.\u001b[K\n",
            "remote: Total 12 (delta 4), reused 5 (delta 2), pack-reused 0\u001b[K\n",
            "Unpacking objects: 100% (12/12), 7.40 KiB | 7.00 KiB/s, done.\n",
            "From https://github.com/Jamess200/BirdnetProject\n",
            "   ca26a34..4ab1b10  main       -> origin/main\n",
            "Updating ca26a34..4ab1b10\n",
            "Fast-forward\n",
            " Files/Lost_Data_Prediction.ipynb | 376 \u001b[32m+++++++++++++++++++++++++++++++++++++++++++++++++++++++++++\u001b[m\n",
            " 1 file changed, 376 insertions(+)\n",
            " create mode 100644 Files/Lost_Data_Prediction.ipynb\n",
            "Files  README.md\n"
          ]
        }
      ]
    },
    {
      "cell_type": "code",
      "execution_count": 5,
      "metadata": {
        "colab": {
          "base_uri": "https://localhost:8080/"
        },
        "id": "YoUfTX4x9MPW",
        "outputId": "26edab37-fb7c-4c08-af0a-e08b9592f79a"
      },
      "outputs": [
        {
          "output_type": "stream",
          "name": "stdout",
          "text": [
            "Collecting birdnetlib\n",
            "  Downloading birdnetlib-0.17.2-py3-none-any.whl.metadata (4.3 kB)\n",
            "Requirement already satisfied: matplotlib>=3.5.3 in /usr/local/lib/python3.10/dist-packages (from birdnetlib) (3.7.1)\n",
            "Collecting pydub==0.25.1 (from birdnetlib)\n",
            "  Downloading pydub-0.25.1-py2.py3-none-any.whl.metadata (1.4 kB)\n",
            "Requirement already satisfied: requests>=2.28.1 in /usr/local/lib/python3.10/dist-packages (from birdnetlib) (2.31.0)\n",
            "Collecting watchdog==2.1.9 (from birdnetlib)\n",
            "  Downloading watchdog-2.1.9-py3-none-manylinux2014_x86_64.whl.metadata (33 kB)\n",
            "Requirement already satisfied: contourpy>=1.0.1 in /usr/local/lib/python3.10/dist-packages (from matplotlib>=3.5.3->birdnetlib) (1.2.1)\n",
            "Requirement already satisfied: cycler>=0.10 in /usr/local/lib/python3.10/dist-packages (from matplotlib>=3.5.3->birdnetlib) (0.12.1)\n",
            "Requirement already satisfied: fonttools>=4.22.0 in /usr/local/lib/python3.10/dist-packages (from matplotlib>=3.5.3->birdnetlib) (4.53.1)\n",
            "Requirement already satisfied: kiwisolver>=1.0.1 in /usr/local/lib/python3.10/dist-packages (from matplotlib>=3.5.3->birdnetlib) (1.4.5)\n",
            "Requirement already satisfied: numpy>=1.20 in /usr/local/lib/python3.10/dist-packages (from matplotlib>=3.5.3->birdnetlib) (1.26.4)\n",
            "Requirement already satisfied: packaging>=20.0 in /usr/local/lib/python3.10/dist-packages (from matplotlib>=3.5.3->birdnetlib) (24.1)\n",
            "Requirement already satisfied: pillow>=6.2.0 in /usr/local/lib/python3.10/dist-packages (from matplotlib>=3.5.3->birdnetlib) (9.4.0)\n",
            "Requirement already satisfied: pyparsing>=2.3.1 in /usr/local/lib/python3.10/dist-packages (from matplotlib>=3.5.3->birdnetlib) (3.1.2)\n",
            "Requirement already satisfied: python-dateutil>=2.7 in /usr/local/lib/python3.10/dist-packages (from matplotlib>=3.5.3->birdnetlib) (2.8.2)\n",
            "Requirement already satisfied: charset-normalizer<4,>=2 in /usr/local/lib/python3.10/dist-packages (from requests>=2.28.1->birdnetlib) (3.3.2)\n",
            "Requirement already satisfied: idna<4,>=2.5 in /usr/local/lib/python3.10/dist-packages (from requests>=2.28.1->birdnetlib) (3.7)\n",
            "Requirement already satisfied: urllib3<3,>=1.21.1 in /usr/local/lib/python3.10/dist-packages (from requests>=2.28.1->birdnetlib) (2.0.7)\n",
            "Requirement already satisfied: certifi>=2017.4.17 in /usr/local/lib/python3.10/dist-packages (from requests>=2.28.1->birdnetlib) (2024.7.4)\n",
            "Requirement already satisfied: six>=1.5 in /usr/local/lib/python3.10/dist-packages (from python-dateutil>=2.7->matplotlib>=3.5.3->birdnetlib) (1.16.0)\n",
            "Downloading birdnetlib-0.17.2-py3-none-any.whl (61.1 MB)\n",
            "\u001b[2K   \u001b[90m━━━━━━━━━━━━━━━━━━━━━━━━━━━━━━━━━━━━━━━━\u001b[0m \u001b[32m61.1/61.1 MB\u001b[0m \u001b[31m16.1 MB/s\u001b[0m eta \u001b[36m0:00:00\u001b[0m\n",
            "\u001b[?25hDownloading pydub-0.25.1-py2.py3-none-any.whl (32 kB)\n",
            "Downloading watchdog-2.1.9-py3-none-manylinux2014_x86_64.whl (78 kB)\n",
            "\u001b[2K   \u001b[90m━━━━━━━━━━━━━━━━━━━━━━━━━━━━━━━━━━━━━━━━\u001b[0m \u001b[32m78.4/78.4 kB\u001b[0m \u001b[31m4.2 MB/s\u001b[0m eta \u001b[36m0:00:00\u001b[0m\n",
            "\u001b[?25hInstalling collected packages: pydub, watchdog, birdnetlib\n",
            "Successfully installed birdnetlib-0.17.2 pydub-0.25.1 watchdog-2.1.9\n",
            "Collecting tflite-runtime\n",
            "  Downloading tflite_runtime-2.14.0-cp310-cp310-manylinux2014_x86_64.whl.metadata (1.4 kB)\n",
            "Requirement already satisfied: numpy>=1.23.2 in /usr/local/lib/python3.10/dist-packages (from tflite-runtime) (1.26.4)\n",
            "Downloading tflite_runtime-2.14.0-cp310-cp310-manylinux2014_x86_64.whl (2.4 MB)\n",
            "\u001b[2K   \u001b[90m━━━━━━━━━━━━━━━━━━━━━━━━━━━━━━━━━━━━━━━━\u001b[0m \u001b[32m2.4/2.4 MB\u001b[0m \u001b[31m10.7 MB/s\u001b[0m eta \u001b[36m0:00:00\u001b[0m\n",
            "\u001b[?25hInstalling collected packages: tflite-runtime\n",
            "Successfully installed tflite-runtime-2.14.0\n",
            "Collecting resampy\n",
            "  Downloading resampy-0.4.3-py3-none-any.whl.metadata (3.0 kB)\n",
            "Requirement already satisfied: numpy>=1.17 in /usr/local/lib/python3.10/dist-packages (from resampy) (1.26.4)\n",
            "Requirement already satisfied: numba>=0.53 in /usr/local/lib/python3.10/dist-packages (from resampy) (0.60.0)\n",
            "Requirement already satisfied: llvmlite<0.44,>=0.43.0dev0 in /usr/local/lib/python3.10/dist-packages (from numba>=0.53->resampy) (0.43.0)\n",
            "Downloading resampy-0.4.3-py3-none-any.whl (3.1 MB)\n",
            "\u001b[2K   \u001b[90m━━━━━━━━━━━━━━━━━━━━━━━━━━━━━━━━━━━━━━━━\u001b[0m \u001b[32m3.1/3.1 MB\u001b[0m \u001b[31m24.2 MB/s\u001b[0m eta \u001b[36m0:00:00\u001b[0m\n",
            "\u001b[?25hInstalling collected packages: resampy\n",
            "Successfully installed resampy-0.4.3\n",
            "Collecting ffmpeg\n",
            "  Downloading ffmpeg-1.4.tar.gz (5.1 kB)\n",
            "  Preparing metadata (setup.py) ... \u001b[?25l\u001b[?25hdone\n",
            "Building wheels for collected packages: ffmpeg\n",
            "  Building wheel for ffmpeg (setup.py) ... \u001b[?25l\u001b[?25hdone\n",
            "  Created wheel for ffmpeg: filename=ffmpeg-1.4-py3-none-any.whl size=6083 sha256=96256b5671f85f98de6cdb433d3bd6cc17e69e2e8316a4baa5027a3fe92e3b17\n",
            "  Stored in directory: /root/.cache/pip/wheels/8e/7a/69/cd6aeb83b126a7f04cbe7c9d929028dc52a6e7d525ff56003a\n",
            "Successfully built ffmpeg\n",
            "Installing collected packages: ffmpeg\n",
            "Successfully installed ffmpeg-1.4\n"
          ]
        }
      ],
      "source": [
        "#@title Install Required Python Packages\n",
        "# Install required packages\n",
        "!pip3 install birdnetlib\n",
        "!pip3 install tflite-runtime\n",
        "!pip3 install resampy\n",
        "!pip3 install ffmpeg"
      ]
    },
    {
      "cell_type": "code",
      "source": [
        "#@title Import Necessary Libraries\n",
        "# Import necessary libraries\n",
        "import resampy\n",
        "import birdnetlib\n",
        "import tflite_runtime\n",
        "import ffmpeg\n",
        "import pandas as pd\n",
        "from birdnetlib import Recording\n",
        "from birdnetlib.analyzer import Analyzer\n",
        "from datetime import datetime"
      ],
      "metadata": {
        "id": "ue-RsKMmISyR"
      },
      "execution_count": 6,
      "outputs": []
    },
    {
      "cell_type": "code",
      "source": [
        "#@title Set Up Directory and File Paths\n",
        "# Define the directory where the data is stored\n",
        "dataDir = '/content/drive/MyDrive/XC/'\n",
        "\n",
        "# List all files in the directory\n",
        "file_names = os.listdir(dataDir)\n",
        "\n",
        "# Print the file names to verify the data files\n",
        "print(file_names)"
      ],
      "metadata": {
        "colab": {
          "base_uri": "https://localhost:8080/"
        },
        "id": "9ke3hNq79dxN",
        "outputId": "88408dad-b49e-4089-9ce3-62ced7719e5d"
      },
      "execution_count": 7,
      "outputs": [
        {
          "output_type": "stream",
          "name": "stdout",
          "text": [
            "['XC871476 - Soundscape.wav']\n"
          ]
        }
      ]
    },
    {
      "cell_type": "code",
      "source": [
        "#@title Initialise BirdNET Analyzer\n",
        "# Initialise the BirdNET-Analyzer model\n",
        "analyzer = Analyzer()\n",
        "# Define the coordinates and date for the recordings\n",
        "testamp = [52.911,-2.4441] # near Market Drayton year=2024, month=4, day=20"
      ],
      "metadata": {
        "colab": {
          "base_uri": "https://localhost:8080/"
        },
        "id": "ZDJ6voT6KQ8k",
        "outputId": "d17219ed-c3b7-4d53-bed0-a4c98227fa04"
      },
      "execution_count": 8,
      "outputs": [
        {
          "output_type": "stream",
          "name": "stdout",
          "text": [
            "Labels loaded.\n",
            "load model True\n",
            "Model loaded.\n",
            "Labels loaded.\n",
            "load_species_list_model\n",
            "Meta model loaded.\n"
          ]
        }
      ]
    },
    {
      "cell_type": "code",
      "execution_count": 9,
      "metadata": {
        "id": "HLU34dwg2fR4",
        "outputId": "37976121-ed1e-444d-f576-3a26d385054b",
        "colab": {
          "base_uri": "https://localhost:8080/"
        },
        "collapsed": true
      },
      "outputs": [
        {
          "output_type": "stream",
          "name": "stdout",
          "text": [
            "read_audio_data\n",
            "read_audio_data: complete, read  35 chunks.\n",
            "analyze_recording XC871476 - Soundscape.wav\n",
            "recording has lon/lat\n",
            "set_predicted_species_list_from_position\n",
            "return_predicted_species_list\n",
            "15\n",
            "145 species loaded.\n"
          ]
        }
      ],
      "source": [
        "#@title Analyse Audio Files and Store Results\n",
        "# Create a dictionary to store the results\n",
        "results = {}\n",
        "# Loop through all file names\n",
        "for file_name in file_names:\n",
        "    try:\n",
        "      # Include the correct path to the data files\n",
        "      file_path = os.path.join(dataDir, file_name)\n",
        "      recording = Recording(\n",
        "          analyzer,\n",
        "          file_path,  # path to the recording file\n",
        "          lat=testamp[0], # latitude of the recording location\n",
        "          lon=testamp[1], # longitude of the recording location\n",
        "          date=datetime(year=2024, month=4, day=20), # use date or week_48\n",
        "          min_conf=0.25,\n",
        "      )\n",
        "      # Analyse the recording and store the result in the dictionary\n",
        "      recording.analyze()\n",
        "      results[file_name] = recording.detections\n",
        "    except Exception as e:\n",
        "      print(f\"Error processing {file_name}: {e}\")"
      ]
    },
    {
      "cell_type": "code",
      "source": [
        "#@title Convert Results to DataFrame and Save as CSV\n",
        "# Flatten the results dictionary\n",
        "flattened_data = []\n",
        "for filename, records in results.items():\n",
        "    for record in records:\n",
        "        record['filename'] = filename\n",
        "        flattened_data.append(record)\n",
        "\n",
        "# Convert the flattened data to a DataFrame\n",
        "df = pd.DataFrame(flattened_data)\n",
        "\n",
        "# Save the DataFrame to a CSV file\n",
        "csv_file_path = '/content/drive/MyDrive/BirdnetProject/Files/data/CSV_data/XC/test.csv'\n",
        "df.to_csv(csv_file_path, index=False)\n",
        "\n",
        "# Confirm that the results have been saved successfully\n",
        "print(f\"Results have been successfully converted to CSV and saved to {csv_file_path}\")"
      ],
      "metadata": {
        "colab": {
          "base_uri": "https://localhost:8080/"
        },
        "id": "Wr3GNxvlQCUe",
        "outputId": "232fc8d0-bf08-4a18-bd43-71c50301043a"
      },
      "execution_count": 10,
      "outputs": [
        {
          "output_type": "stream",
          "name": "stdout",
          "text": [
            "Results have been successfully converted to CSV and saved to /content/drive/MyDrive/BirdnetProject/Files/data/CSV_data/XC/test.csv\n"
          ]
        }
      ]
    },
    {
      "cell_type": "code",
      "source": [
        "#@title Load and Verify CSV Data\n",
        "# Load the saved CSV file into a DataFrame to verify the contents\n",
        "csv_file_path = '/content/drive/MyDrive/BirdnetProject/Files/data/CSV_data/XC/test.csv'\n",
        "df = pd.read_csv(csv_file_path)\n",
        "\n",
        "# Print the DataFrame to verify the data\n",
        "print(df.head)"
      ],
      "metadata": {
        "colab": {
          "base_uri": "https://localhost:8080/"
        },
        "id": "Norue-hirY7b",
        "outputId": "3b7458a1-8229-4508-9fd9-1ca303439e5a"
      },
      "execution_count": 11,
      "outputs": [
        {
          "output_type": "stream",
          "name": "stdout",
          "text": [
            "<bound method NDFrame.head of            common_name          scientific_name  start_time  end_time  \\\n",
            "0    Eurasian Blackcap       Sylvia atricapilla         3.0       6.0   \n",
            "1    Eurasian Blackcap       Sylvia atricapilla         6.0       9.0   \n",
            "2    Eurasian Blackcap       Sylvia atricapilla        12.0      15.0   \n",
            "3   Eurasian Blackbird            Turdus merula        18.0      21.0   \n",
            "4    Eurasian Blackcap       Sylvia atricapilla        21.0      24.0   \n",
            "5    Eurasian Blackcap       Sylvia atricapilla        24.0      27.0   \n",
            "6    Eurasian Blackcap       Sylvia atricapilla        27.0      30.0   \n",
            "7    Eurasian Blackcap       Sylvia atricapilla        30.0      33.0   \n",
            "8                 Rook        Corvus frugilegus        33.0      36.0   \n",
            "9    Eurasian Blackcap       Sylvia atricapilla        33.0      36.0   \n",
            "10   Eurasian Blackcap       Sylvia atricapilla        39.0      42.0   \n",
            "11   Eurasian Blackcap       Sylvia atricapilla        42.0      45.0   \n",
            "12   Eurasian Blackcap       Sylvia atricapilla        45.0      48.0   \n",
            "13   Eurasian Blackcap       Sylvia atricapilla        63.0      66.0   \n",
            "14   Eurasian Blackcap       Sylvia atricapilla        75.0      78.0   \n",
            "15   Eurasian Blackcap       Sylvia atricapilla        84.0      87.0   \n",
            "16     Common Redstart  Phoenicurus phoenicurus        90.0      93.0   \n",
            "17   Eurasian Blackcap       Sylvia atricapilla       102.0     105.0   \n",
            "\n",
            "    confidence                                    label  \\\n",
            "0     0.490236     Sylvia atricapilla_Eurasian Blackcap   \n",
            "1     0.586808     Sylvia atricapilla_Eurasian Blackcap   \n",
            "2     0.568825     Sylvia atricapilla_Eurasian Blackcap   \n",
            "3     0.417446         Turdus merula_Eurasian Blackbird   \n",
            "4     0.774901     Sylvia atricapilla_Eurasian Blackcap   \n",
            "5     0.307450     Sylvia atricapilla_Eurasian Blackcap   \n",
            "6     0.260904     Sylvia atricapilla_Eurasian Blackcap   \n",
            "7     0.425616     Sylvia atricapilla_Eurasian Blackcap   \n",
            "8     0.298395                   Corvus frugilegus_Rook   \n",
            "9     0.297974     Sylvia atricapilla_Eurasian Blackcap   \n",
            "10    0.412475     Sylvia atricapilla_Eurasian Blackcap   \n",
            "11    0.547419     Sylvia atricapilla_Eurasian Blackcap   \n",
            "12    0.448180     Sylvia atricapilla_Eurasian Blackcap   \n",
            "13    0.278712     Sylvia atricapilla_Eurasian Blackcap   \n",
            "14    0.288750     Sylvia atricapilla_Eurasian Blackcap   \n",
            "15    0.333177     Sylvia atricapilla_Eurasian Blackcap   \n",
            "16    0.317776  Phoenicurus phoenicurus_Common Redstart   \n",
            "17    0.759546     Sylvia atricapilla_Eurasian Blackcap   \n",
            "\n",
            "                     filename  \n",
            "0   XC871476 - Soundscape.wav  \n",
            "1   XC871476 - Soundscape.wav  \n",
            "2   XC871476 - Soundscape.wav  \n",
            "3   XC871476 - Soundscape.wav  \n",
            "4   XC871476 - Soundscape.wav  \n",
            "5   XC871476 - Soundscape.wav  \n",
            "6   XC871476 - Soundscape.wav  \n",
            "7   XC871476 - Soundscape.wav  \n",
            "8   XC871476 - Soundscape.wav  \n",
            "9   XC871476 - Soundscape.wav  \n",
            "10  XC871476 - Soundscape.wav  \n",
            "11  XC871476 - Soundscape.wav  \n",
            "12  XC871476 - Soundscape.wav  \n",
            "13  XC871476 - Soundscape.wav  \n",
            "14  XC871476 - Soundscape.wav  \n",
            "15  XC871476 - Soundscape.wav  \n",
            "16  XC871476 - Soundscape.wav  \n",
            "17  XC871476 - Soundscape.wav  >\n"
          ]
        }
      ]
    },
    {
      "cell_type": "code",
      "source": [],
      "metadata": {
        "id": "CWSfo33QEApG"
      },
      "execution_count": null,
      "outputs": []
    }
  ]
}