{
  "nbformat": 4,
  "nbformat_minor": 0,
  "metadata": {
    "colab": {
      "provenance": [],
      "authorship_tag": "ABX9TyM1SZYfJG/O+srQnDY7vszv",
      "include_colab_link": true
    },
    "kernelspec": {
      "name": "python3",
      "display_name": "Python 3"
    },
    "language_info": {
      "name": "python"
    }
  },
  "cells": [
    {
      "cell_type": "markdown",
      "metadata": {
        "id": "view-in-github",
        "colab_type": "text"
      },
      "source": [
        "<a href=\"https://colab.research.google.com/github/Jamess200/BirdnetProject/blob/main/WebCrawler4Birds.ipynb\" target=\"_parent\"><img src=\"https://colab.research.google.com/assets/colab-badge.svg\" alt=\"Open In Colab\"/></a>"
      ]
    },
    {
      "cell_type": "code",
      "source": [
        "import requests\n",
        "from bs4 import BeautifulSoup\n",
        "import pandas as pd"
      ],
      "metadata": {
        "id": "GnML0-db3pKN"
      },
      "execution_count": 6,
      "outputs": []
    },
    {
      "cell_type": "code",
      "source": [
        "#@title Fetch and Parse Webpage Content\n",
        "# URL of the webpage to scrape\n",
        "url = \"https://birdnet.cornell.edu/species-list/\"\n",
        "\n",
        "# Fetch the content from the URL\n",
        "response = requests.get(url)\n",
        "soup = BeautifulSoup(response.content, \"html.parser\")\n",
        "\n",
        "# Initialise lists to store the common and scientific names\n",
        "common_names = []\n",
        "scientific_names = []"
      ],
      "metadata": {
        "id": "Brh4bTRx3uEu"
      },
      "execution_count": 7,
      "outputs": []
    },
    {
      "cell_type": "code",
      "source": [
        "#@title Extract Bird Names\n",
        "# Find all paragraphs in the webpage\n",
        "for p in soup.find_all(\"p\"):\n",
        "    # Check if the paragraph contains both strong and em tags\n",
        "    if p.find(\"strong\") and p.find(\"em\"):\n",
        "        # Extract common name and scientific name\n",
        "        common_name = p.find(\"strong\").get_text().strip()\n",
        "        scientific_name = p.find(\"em\").get_text().strip()\n",
        "        # Append the names to the lists\n",
        "        common_names.append(common_name)\n",
        "        scientific_names.append(scientific_name)"
      ],
      "metadata": {
        "id": "dIKKvGy50Q-k"
      },
      "execution_count": 9,
      "outputs": []
    },
    {
      "cell_type": "code",
      "source": [
        "#@title Create DataFrame and Save to Excel\n",
        "# Create a DataFrame from the lists\n",
        "df = pd.DataFrame({\n",
        "    \"Common Name\": common_names,\n",
        "    \"Scientific Name\": scientific_names\n",
        "})\n",
        "\n",
        "# Save the DataFrame to an Excel file\n",
        "df.to_excel(\"bird_species_list.xlsx\", index=False)\n",
        "\n",
        "print(\"Data has been saved to bird_species_list.xlsx\")"
      ],
      "metadata": {
        "colab": {
          "base_uri": "https://localhost:8080/"
        },
        "id": "8c-dtn4i31fo",
        "outputId": "9520fa63-673e-48d5-e08c-1f07747cf9e3"
      },
      "execution_count": 10,
      "outputs": [
        {
          "output_type": "stream",
          "name": "stdout",
          "text": [
            "Data has been saved to bird_species_list.xlsx\n"
          ]
        }
      ]
    },
    {
      "cell_type": "code",
      "source": [],
      "metadata": {
        "id": "ZN29OIkm36Mn"
      },
      "execution_count": null,
      "outputs": []
    }
  ]
}