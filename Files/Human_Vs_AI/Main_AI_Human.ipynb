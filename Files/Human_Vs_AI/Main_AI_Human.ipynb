{
  "nbformat": 4,
  "nbformat_minor": 0,
  "metadata": {
    "colab": {
      "provenance": [],
      "mount_file_id": "https://github.com/Jamess200/birdnetTest/blob/James_Branch/Inital_BN_Test.ipynb",
      "authorship_tag": "ABX9TyNiQC5Nk3SejI6eCuQxd/s6",
      "include_colab_link": true
    },
    "kernelspec": {
      "name": "python3",
      "display_name": "Python 3"
    },
    "language_info": {
      "name": "python"
    }
  },
  "cells": [
    {
      "cell_type": "markdown",
      "metadata": {
        "id": "view-in-github",
        "colab_type": "text"
      },
      "source": [
        "<a href=\"https://colab.research.google.com/github/Jamess200/BirdnetProject/blob/main/Main_AI_Human.ipynb\" target=\"_parent\"><img src=\"https://colab.research.google.com/assets/colab-badge.svg\" alt=\"Open In Colab\"/></a>"
      ]
    },
    {
      "cell_type": "code",
      "source": [
        "#@title Mount Google Drive\n",
        "# Mount Google Drive to access files stored in it\n",
        "from google.colab import drive\n",
        "drive.mount('/content/drive')"
      ],
      "metadata": {
        "colab": {
          "base_uri": "https://localhost:8080/"
        },
        "id": "UBQ0gb-zJaF7",
        "outputId": "5d248652-6785-4757-d0e3-f6905a121eb2"
      },
      "execution_count": 1,
      "outputs": [
        {
          "output_type": "stream",
          "name": "stdout",
          "text": [
            "Mounted at /content/drive\n"
          ]
        }
      ]
    },
    {
      "cell_type": "code",
      "source": [
        "#@title Change Directory\n",
        "# Change the working directory to a specific path in your Google Drive\n",
        "%cd /content/drive/MyDrive/"
      ],
      "metadata": {
        "colab": {
          "base_uri": "https://localhost:8080/"
        },
        "id": "6STr5lGE9sFd",
        "outputId": "f4844b47-ca57-44ff-85e6-d45b6e20b403"
      },
      "execution_count": 2,
      "outputs": [
        {
          "output_type": "stream",
          "name": "stdout",
          "text": [
            "/content/drive/MyDrive\n"
          ]
        }
      ]
    },
    {
      "cell_type": "code",
      "source": [
        "#@title Set Up Repository Path & Clone Repository\n",
        "import os\n",
        "# Define path in Google Drive where you want to clone the repository\n",
        "repo_path = '/content/drive/MyDrive/'\n",
        "\n",
        "# Check if directory already exists, create it if not\n",
        "if not os.path.exists(repo_path):\n",
        "    os.makedirs(repo_path)\n",
        "\n",
        "# Change working directory to defined path\n",
        "os.chdir(repo_path)\n",
        "\n",
        "# Clone the repository if doesnt exist, otherwise pull latest changes\n",
        "if not os.path.exists(os.path.join(repo_path, 'BirdnetProject')):\n",
        "    !git clone https://github.com/Jamess200/BirdnetProject\n",
        "else:\n",
        "    os.chdir('BirdnetProject')\n",
        "    !git pull\n",
        "\n",
        "# Verify cloned repository\n",
        "!ls"
      ],
      "metadata": {
        "colab": {
          "base_uri": "https://localhost:8080/"
        },
        "id": "CPfnA6GjBNJs",
        "outputId": "5e784dd2-b8d5-4649-882d-01d4d3b82a56"
      },
      "execution_count": 4,
      "outputs": [
        {
          "output_type": "stream",
          "name": "stdout",
          "text": [
            "Already up to date.\n",
            "Files  README.md\n"
          ]
        }
      ]
    },
    {
      "cell_type": "code",
      "execution_count": 5,
      "metadata": {
        "colab": {
          "base_uri": "https://localhost:8080/"
        },
        "id": "YoUfTX4x9MPW",
        "outputId": "ae0f91af-dd02-438c-d594-dd0241d7ab4f"
      },
      "outputs": [
        {
          "output_type": "stream",
          "name": "stdout",
          "text": [
            "Collecting birdnetlib\n",
            "  Downloading birdnetlib-0.17.2-py3-none-any.whl.metadata (4.3 kB)\n",
            "Requirement already satisfied: matplotlib>=3.5.3 in /usr/local/lib/python3.10/dist-packages (from birdnetlib) (3.7.1)\n",
            "Collecting pydub==0.25.1 (from birdnetlib)\n",
            "  Downloading pydub-0.25.1-py2.py3-none-any.whl.metadata (1.4 kB)\n",
            "Requirement already satisfied: requests>=2.28.1 in /usr/local/lib/python3.10/dist-packages (from birdnetlib) (2.31.0)\n",
            "Collecting watchdog==2.1.9 (from birdnetlib)\n",
            "  Downloading watchdog-2.1.9-py3-none-manylinux2014_x86_64.whl.metadata (33 kB)\n",
            "Requirement already satisfied: contourpy>=1.0.1 in /usr/local/lib/python3.10/dist-packages (from matplotlib>=3.5.3->birdnetlib) (1.2.1)\n",
            "Requirement already satisfied: cycler>=0.10 in /usr/local/lib/python3.10/dist-packages (from matplotlib>=3.5.3->birdnetlib) (0.12.1)\n",
            "Requirement already satisfied: fonttools>=4.22.0 in /usr/local/lib/python3.10/dist-packages (from matplotlib>=3.5.3->birdnetlib) (4.53.1)\n",
            "Requirement already satisfied: kiwisolver>=1.0.1 in /usr/local/lib/python3.10/dist-packages (from matplotlib>=3.5.3->birdnetlib) (1.4.5)\n",
            "Requirement already satisfied: numpy>=1.20 in /usr/local/lib/python3.10/dist-packages (from matplotlib>=3.5.3->birdnetlib) (1.26.4)\n",
            "Requirement already satisfied: packaging>=20.0 in /usr/local/lib/python3.10/dist-packages (from matplotlib>=3.5.3->birdnetlib) (24.1)\n",
            "Requirement already satisfied: pillow>=6.2.0 in /usr/local/lib/python3.10/dist-packages (from matplotlib>=3.5.3->birdnetlib) (9.4.0)\n",
            "Requirement already satisfied: pyparsing>=2.3.1 in /usr/local/lib/python3.10/dist-packages (from matplotlib>=3.5.3->birdnetlib) (3.1.2)\n",
            "Requirement already satisfied: python-dateutil>=2.7 in /usr/local/lib/python3.10/dist-packages (from matplotlib>=3.5.3->birdnetlib) (2.8.2)\n",
            "Requirement already satisfied: charset-normalizer<4,>=2 in /usr/local/lib/python3.10/dist-packages (from requests>=2.28.1->birdnetlib) (3.3.2)\n",
            "Requirement already satisfied: idna<4,>=2.5 in /usr/local/lib/python3.10/dist-packages (from requests>=2.28.1->birdnetlib) (3.7)\n",
            "Requirement already satisfied: urllib3<3,>=1.21.1 in /usr/local/lib/python3.10/dist-packages (from requests>=2.28.1->birdnetlib) (2.0.7)\n",
            "Requirement already satisfied: certifi>=2017.4.17 in /usr/local/lib/python3.10/dist-packages (from requests>=2.28.1->birdnetlib) (2024.7.4)\n",
            "Requirement already satisfied: six>=1.5 in /usr/local/lib/python3.10/dist-packages (from python-dateutil>=2.7->matplotlib>=3.5.3->birdnetlib) (1.16.0)\n",
            "Downloading birdnetlib-0.17.2-py3-none-any.whl (61.1 MB)\n",
            "\u001b[2K   \u001b[90m━━━━━━━━━━━━━━━━━━━━━━━━━━━━━━━━━━━━━━━━\u001b[0m \u001b[32m61.1/61.1 MB\u001b[0m \u001b[31m12.3 MB/s\u001b[0m eta \u001b[36m0:00:00\u001b[0m\n",
            "\u001b[?25hDownloading pydub-0.25.1-py2.py3-none-any.whl (32 kB)\n",
            "Downloading watchdog-2.1.9-py3-none-manylinux2014_x86_64.whl (78 kB)\n",
            "\u001b[2K   \u001b[90m━━━━━━━━━━━━━━━━━━━━━━━━━━━━━━━━━━━━━━━━\u001b[0m \u001b[32m78.4/78.4 kB\u001b[0m \u001b[31m5.0 MB/s\u001b[0m eta \u001b[36m0:00:00\u001b[0m\n",
            "\u001b[?25hInstalling collected packages: pydub, watchdog, birdnetlib\n",
            "Successfully installed birdnetlib-0.17.2 pydub-0.25.1 watchdog-2.1.9\n",
            "Collecting tflite-runtime\n",
            "  Downloading tflite_runtime-2.14.0-cp310-cp310-manylinux2014_x86_64.whl.metadata (1.4 kB)\n",
            "Requirement already satisfied: numpy>=1.23.2 in /usr/local/lib/python3.10/dist-packages (from tflite-runtime) (1.26.4)\n",
            "Downloading tflite_runtime-2.14.0-cp310-cp310-manylinux2014_x86_64.whl (2.4 MB)\n",
            "\u001b[2K   \u001b[90m━━━━━━━━━━━━━━━━━━━━━━━━━━━━━━━━━━━━━━━━\u001b[0m \u001b[32m2.4/2.4 MB\u001b[0m \u001b[31m42.7 MB/s\u001b[0m eta \u001b[36m0:00:00\u001b[0m\n",
            "\u001b[?25hInstalling collected packages: tflite-runtime\n",
            "Successfully installed tflite-runtime-2.14.0\n",
            "Collecting resampy\n",
            "  Downloading resampy-0.4.3-py3-none-any.whl.metadata (3.0 kB)\n",
            "Requirement already satisfied: numpy>=1.17 in /usr/local/lib/python3.10/dist-packages (from resampy) (1.26.4)\n",
            "Requirement already satisfied: numba>=0.53 in /usr/local/lib/python3.10/dist-packages (from resampy) (0.60.0)\n",
            "Requirement already satisfied: llvmlite<0.44,>=0.43.0dev0 in /usr/local/lib/python3.10/dist-packages (from numba>=0.53->resampy) (0.43.0)\n",
            "Downloading resampy-0.4.3-py3-none-any.whl (3.1 MB)\n",
            "\u001b[2K   \u001b[90m━━━━━━━━━━━━━━━━━━━━━━━━━━━━━━━━━━━━━━━━\u001b[0m \u001b[32m3.1/3.1 MB\u001b[0m \u001b[31m60.7 MB/s\u001b[0m eta \u001b[36m0:00:00\u001b[0m\n",
            "\u001b[?25hInstalling collected packages: resampy\n",
            "Successfully installed resampy-0.4.3\n",
            "Collecting ffmpeg\n",
            "  Downloading ffmpeg-1.4.tar.gz (5.1 kB)\n",
            "  Preparing metadata (setup.py) ... \u001b[?25l\u001b[?25hdone\n",
            "Building wheels for collected packages: ffmpeg\n",
            "  Building wheel for ffmpeg (setup.py) ... \u001b[?25l\u001b[?25hdone\n",
            "  Created wheel for ffmpeg: filename=ffmpeg-1.4-py3-none-any.whl size=6083 sha256=4695dab3a69f63977fc7f3c9ce81db68d18eb31991eca9d2f3f7b4b4e2c250bb\n",
            "  Stored in directory: /root/.cache/pip/wheels/8e/7a/69/cd6aeb83b126a7f04cbe7c9d929028dc52a6e7d525ff56003a\n",
            "Successfully built ffmpeg\n",
            "Installing collected packages: ffmpeg\n",
            "Successfully installed ffmpeg-1.4\n",
            "Collecting pygbif\n",
            "  Downloading pygbif-0.6.4-py3-none-any.whl.metadata (12 kB)\n",
            "Requirement already satisfied: requests>2.7 in /usr/local/lib/python3.10/dist-packages (from pygbif) (2.31.0)\n",
            "Collecting requests-cache (from pygbif)\n",
            "  Downloading requests_cache-1.2.1-py3-none-any.whl.metadata (9.9 kB)\n",
            "Collecting geojson-rewind (from pygbif)\n",
            "  Downloading geojson_rewind-1.1.0-py3-none-any.whl.metadata (4.5 kB)\n",
            "Collecting geomet (from pygbif)\n",
            "  Downloading geomet-1.1.0-py3-none-any.whl.metadata (11 kB)\n",
            "Collecting appdirs>=1.4.3 (from pygbif)\n",
            "  Downloading appdirs-1.4.4-py2.py3-none-any.whl.metadata (9.0 kB)\n",
            "Requirement already satisfied: matplotlib in /usr/local/lib/python3.10/dist-packages (from pygbif) (3.7.1)\n",
            "Requirement already satisfied: charset-normalizer<4,>=2 in /usr/local/lib/python3.10/dist-packages (from requests>2.7->pygbif) (3.3.2)\n",
            "Requirement already satisfied: idna<4,>=2.5 in /usr/local/lib/python3.10/dist-packages (from requests>2.7->pygbif) (3.7)\n",
            "Requirement already satisfied: urllib3<3,>=1.21.1 in /usr/local/lib/python3.10/dist-packages (from requests>2.7->pygbif) (2.0.7)\n",
            "Requirement already satisfied: certifi>=2017.4.17 in /usr/local/lib/python3.10/dist-packages (from requests>2.7->pygbif) (2024.7.4)\n",
            "Requirement already satisfied: click in /usr/local/lib/python3.10/dist-packages (from geomet->pygbif) (8.1.7)\n",
            "Requirement already satisfied: contourpy>=1.0.1 in /usr/local/lib/python3.10/dist-packages (from matplotlib->pygbif) (1.2.1)\n",
            "Requirement already satisfied: cycler>=0.10 in /usr/local/lib/python3.10/dist-packages (from matplotlib->pygbif) (0.12.1)\n",
            "Requirement already satisfied: fonttools>=4.22.0 in /usr/local/lib/python3.10/dist-packages (from matplotlib->pygbif) (4.53.1)\n",
            "Requirement already satisfied: kiwisolver>=1.0.1 in /usr/local/lib/python3.10/dist-packages (from matplotlib->pygbif) (1.4.5)\n",
            "Requirement already satisfied: numpy>=1.20 in /usr/local/lib/python3.10/dist-packages (from matplotlib->pygbif) (1.26.4)\n",
            "Requirement already satisfied: packaging>=20.0 in /usr/local/lib/python3.10/dist-packages (from matplotlib->pygbif) (24.1)\n",
            "Requirement already satisfied: pillow>=6.2.0 in /usr/local/lib/python3.10/dist-packages (from matplotlib->pygbif) (9.4.0)\n",
            "Requirement already satisfied: pyparsing>=2.3.1 in /usr/local/lib/python3.10/dist-packages (from matplotlib->pygbif) (3.1.2)\n",
            "Requirement already satisfied: python-dateutil>=2.7 in /usr/local/lib/python3.10/dist-packages (from matplotlib->pygbif) (2.8.2)\n",
            "Requirement already satisfied: attrs>=21.2 in /usr/local/lib/python3.10/dist-packages (from requests-cache->pygbif) (23.2.0)\n",
            "Collecting cattrs>=22.2 (from requests-cache->pygbif)\n",
            "  Downloading cattrs-23.2.3-py3-none-any.whl.metadata (10 kB)\n",
            "Requirement already satisfied: platformdirs>=2.5 in /usr/local/lib/python3.10/dist-packages (from requests-cache->pygbif) (4.2.2)\n",
            "Collecting url-normalize>=1.4 (from requests-cache->pygbif)\n",
            "  Downloading url_normalize-1.4.3-py2.py3-none-any.whl.metadata (3.1 kB)\n",
            "Requirement already satisfied: exceptiongroup>=1.1.1 in /usr/local/lib/python3.10/dist-packages (from cattrs>=22.2->requests-cache->pygbif) (1.2.2)\n",
            "Requirement already satisfied: typing-extensions!=4.6.3,>=4.1.0 in /usr/local/lib/python3.10/dist-packages (from cattrs>=22.2->requests-cache->pygbif) (4.12.2)\n",
            "Requirement already satisfied: six>=1.5 in /usr/local/lib/python3.10/dist-packages (from python-dateutil>=2.7->matplotlib->pygbif) (1.16.0)\n",
            "Downloading pygbif-0.6.4-py3-none-any.whl (64 kB)\n",
            "\u001b[2K   \u001b[90m━━━━━━━━━━━━━━━━━━━━━━━━━━━━━━━━━━━━━━━━\u001b[0m \u001b[32m64.3/64.3 kB\u001b[0m \u001b[31m4.2 MB/s\u001b[0m eta \u001b[36m0:00:00\u001b[0m\n",
            "\u001b[?25hDownloading appdirs-1.4.4-py2.py3-none-any.whl (9.6 kB)\n",
            "Downloading geojson_rewind-1.1.0-py3-none-any.whl (5.2 kB)\n",
            "Downloading geomet-1.1.0-py3-none-any.whl (31 kB)\n",
            "Downloading requests_cache-1.2.1-py3-none-any.whl (61 kB)\n",
            "\u001b[2K   \u001b[90m━━━━━━━━━━━━━━━━━━━━━━━━━━━━━━━━━━━━━━━━\u001b[0m \u001b[32m61.4/61.4 kB\u001b[0m \u001b[31m4.3 MB/s\u001b[0m eta \u001b[36m0:00:00\u001b[0m\n",
            "\u001b[?25hDownloading cattrs-23.2.3-py3-none-any.whl (57 kB)\n",
            "\u001b[2K   \u001b[90m━━━━━━━━━━━━━━━━━━━━━━━━━━━━━━━━━━━━━━━━\u001b[0m \u001b[32m57.5/57.5 kB\u001b[0m \u001b[31m4.0 MB/s\u001b[0m eta \u001b[36m0:00:00\u001b[0m\n",
            "\u001b[?25hDownloading url_normalize-1.4.3-py2.py3-none-any.whl (6.8 kB)\n",
            "Installing collected packages: appdirs, url-normalize, geomet, geojson-rewind, cattrs, requests-cache, pygbif\n",
            "Successfully installed appdirs-1.4.4 cattrs-23.2.3 geojson-rewind-1.1.0 geomet-1.1.0 pygbif-0.6.4 requests-cache-1.2.1 url-normalize-1.4.3\n",
            "Collecting mplcursors\n",
            "  Downloading mplcursors-0.5.3.tar.gz (88 kB)\n",
            "\u001b[2K     \u001b[90m━━━━━━━━━━━━━━━━━━━━━━━━━━━━━━━━━━━━━━━━\u001b[0m \u001b[32m88.8/88.8 kB\u001b[0m \u001b[31m6.3 MB/s\u001b[0m eta \u001b[36m0:00:00\u001b[0m\n",
            "\u001b[?25h  Installing build dependencies ... \u001b[?25l\u001b[?25hdone\n",
            "  Getting requirements to build wheel ... \u001b[?25l\u001b[?25hdone\n",
            "  Preparing metadata (pyproject.toml) ... \u001b[?25l\u001b[?25hdone\n",
            "Collecting matplotlib!=3.7.1,>=3.1 (from mplcursors)\n",
            "  Downloading matplotlib-3.9.1-cp310-cp310-manylinux_2_17_x86_64.manylinux2014_x86_64.whl.metadata (11 kB)\n",
            "Requirement already satisfied: contourpy>=1.0.1 in /usr/local/lib/python3.10/dist-packages (from matplotlib!=3.7.1,>=3.1->mplcursors) (1.2.1)\n",
            "Requirement already satisfied: cycler>=0.10 in /usr/local/lib/python3.10/dist-packages (from matplotlib!=3.7.1,>=3.1->mplcursors) (0.12.1)\n",
            "Requirement already satisfied: fonttools>=4.22.0 in /usr/local/lib/python3.10/dist-packages (from matplotlib!=3.7.1,>=3.1->mplcursors) (4.53.1)\n",
            "Requirement already satisfied: kiwisolver>=1.3.1 in /usr/local/lib/python3.10/dist-packages (from matplotlib!=3.7.1,>=3.1->mplcursors) (1.4.5)\n",
            "Requirement already satisfied: numpy>=1.23 in /usr/local/lib/python3.10/dist-packages (from matplotlib!=3.7.1,>=3.1->mplcursors) (1.26.4)\n",
            "Requirement already satisfied: packaging>=20.0 in /usr/local/lib/python3.10/dist-packages (from matplotlib!=3.7.1,>=3.1->mplcursors) (24.1)\n",
            "Requirement already satisfied: pillow>=8 in /usr/local/lib/python3.10/dist-packages (from matplotlib!=3.7.1,>=3.1->mplcursors) (9.4.0)\n",
            "Requirement already satisfied: pyparsing>=2.3.1 in /usr/local/lib/python3.10/dist-packages (from matplotlib!=3.7.1,>=3.1->mplcursors) (3.1.2)\n",
            "Requirement already satisfied: python-dateutil>=2.7 in /usr/local/lib/python3.10/dist-packages (from matplotlib!=3.7.1,>=3.1->mplcursors) (2.8.2)\n",
            "Requirement already satisfied: six>=1.5 in /usr/local/lib/python3.10/dist-packages (from python-dateutil>=2.7->matplotlib!=3.7.1,>=3.1->mplcursors) (1.16.0)\n",
            "Downloading matplotlib-3.9.1-cp310-cp310-manylinux_2_17_x86_64.manylinux2014_x86_64.whl (8.3 MB)\n",
            "\u001b[2K   \u001b[90m━━━━━━━━━━━━━━━━━━━━━━━━━━━━━━━━━━━━━━━━\u001b[0m \u001b[32m8.3/8.3 MB\u001b[0m \u001b[31m73.1 MB/s\u001b[0m eta \u001b[36m0:00:00\u001b[0m\n",
            "\u001b[?25hBuilding wheels for collected packages: mplcursors\n",
            "  Building wheel for mplcursors (pyproject.toml) ... \u001b[?25l\u001b[?25hdone\n",
            "  Created wheel for mplcursors: filename=mplcursors-0.5.3-py3-none-any.whl size=20727 sha256=e9fa3c63834f185d8b66b8573bb7ed512451fb1a1869d8c38f4aac2c76396259\n",
            "  Stored in directory: /root/.cache/pip/wheels/83/43/92/44f9515471f56877c774a515a2902d3e5484ea1bc7fd412d03\n",
            "Successfully built mplcursors\n",
            "Installing collected packages: matplotlib, mplcursors\n",
            "  Attempting uninstall: matplotlib\n",
            "    Found existing installation: matplotlib 3.7.1\n",
            "    Uninstalling matplotlib-3.7.1:\n",
            "      Successfully uninstalled matplotlib-3.7.1\n",
            "Successfully installed matplotlib-3.9.1 mplcursors-0.5.3\n"
          ]
        }
      ],
      "source": [
        "#@title Install Required Python Packages\n",
        "# Install required packages\n",
        "!pip3 install birdnetlib\n",
        "!pip3 install tflite-runtime\n",
        "!pip3 install resampy\n",
        "!pip3 install ffmpeg\n",
        "!pip install pygbif\n",
        "!pip install mplcursors"
      ]
    },
    {
      "cell_type": "code",
      "source": [
        "#@title Import Necessary Libraries\n",
        "# Import necessary libraries\n",
        "import resampy\n",
        "import birdnetlib\n",
        "import tflite_runtime\n",
        "import ffmpeg\n",
        "import pandas as pd\n",
        "import numpy as np\n",
        "import matplotlib.pyplot as plt\n",
        "import seaborn as sns\n",
        "import mplcursors\n",
        "from sklearn.metrics import confusion_matrix, classification_report\n",
        "from birdnetlib import Recording\n",
        "from birdnetlib.analyzer import Analyzer\n",
        "from datetime import datetime\n",
        "from pygbif import occurrences, species"
      ],
      "metadata": {
        "id": "ue-RsKMmISyR"
      },
      "execution_count": 9,
      "outputs": []
    },
    {
      "cell_type": "code",
      "source": [
        "#@title Set Up Directory and File Paths\n",
        "# Define the directory where the data is stored\n",
        "dataDir = '/content/drive/MyDrive/XC'\n",
        "\n",
        "# List all files in the directory\n",
        "file_names = os.listdir(dataDir)\n",
        "\n",
        "# Print the file names to verify the data files\n",
        "print(file_names)"
      ],
      "metadata": {
        "colab": {
          "base_uri": "https://localhost:8080/"
        },
        "id": "9ke3hNq79dxN",
        "outputId": "49752da6-e8be-4893-e97e-2633fec28422"
      },
      "execution_count": null,
      "outputs": [
        {
          "output_type": "stream",
          "name": "stdout",
          "text": [
            "['.ipynb_checkpoints', 'XC3_20210404_054400.wav']\n"
          ]
        }
      ]
    },
    {
      "cell_type": "code",
      "source": [
        "#@title Initialise BirdNET Analyzer\n",
        "# Initialise the BirdNET-Analyzer model\n",
        "analyzer = Analyzer()\n",
        "# Define the coordinates and date for the recordings\n",
        "testamp = [\t51.7813,\t-2.5745]"
      ],
      "metadata": {
        "colab": {
          "base_uri": "https://localhost:8080/"
        },
        "id": "ZDJ6voT6KQ8k",
        "outputId": "3158dad4-a7e8-4138-8052-6dec5b5b12bb"
      },
      "execution_count": null,
      "outputs": [
        {
          "output_type": "stream",
          "name": "stdout",
          "text": [
            "Labels loaded.\n",
            "load model True\n",
            "Model loaded.\n",
            "Labels loaded.\n",
            "load_species_list_model\n",
            "Meta model loaded.\n"
          ]
        }
      ]
    },
    {
      "cell_type": "code",
      "execution_count": null,
      "metadata": {
        "id": "HLU34dwg2fR4",
        "outputId": "d21c3cee-2779-4224-e1fd-1e6bf1a14b92",
        "colab": {
          "base_uri": "https://localhost:8080/"
        },
        "collapsed": true
      },
      "outputs": [
        {
          "output_type": "stream",
          "name": "stdout",
          "text": [
            "read_audio_data\n",
            "read_audio_data: complete, read  1464 chunks.\n",
            "analyze_recording XC3_20210404_054400.wav\n",
            "recording has lon/lat\n",
            "set_predicted_species_list_from_position\n",
            "return_predicted_species_list\n",
            "20\n",
            "128 species loaded.\n"
          ]
        }
      ],
      "source": [
        "#@title Analyse Audio Files and Store Results\n",
        "# Create a dictionary to store the results\n",
        "results = {}\n",
        "\n",
        "# Date of recording\n",
        "recording_date = datetime(year=2020, month=5, day=30)\n",
        "\n",
        "for file_name in file_names:\n",
        "    try:\n",
        "        file_path = os.path.join(dataDir, file_name)\n",
        "\n",
        "        if os.path.isdir(file_path):\n",
        "            continue\n",
        "\n",
        "        if not file_name.lower().endswith(('.wav', '.mp3', '.flac')):\n",
        "            print(f\"Skipping non-audio file: {file_name}\")\n",
        "            continue\n",
        "\n",
        "        recording = Recording(\n",
        "            analyzer,\n",
        "            file_path,  # path to the recording file\n",
        "            lat=testamp[0],  # latitude of the recording location\n",
        "            lon=testamp[1],  # longitude of the recording location\n",
        "            date=recording_date,  # the date of the recording\n",
        "            min_conf=0.1,\n",
        "        )\n",
        "        recording.analyze()\n",
        "        results[file_name] = recording.detections\n",
        "    except Exception as e:\n",
        "        print(f\"Error processing {file_name}: {e}\")"
      ]
    },
    {
      "cell_type": "code",
      "source": [
        "#@title Convert Results to DataFrame and Save as CSV\n",
        "# Flatten the results dictionary\n",
        "flattened_data = []\n",
        "for filename, records in results.items():\n",
        "    for record in records:\n",
        "        record['filename'] = filename\n",
        "        flattened_data.append(record)\n",
        "\n",
        "# Convert the flattened data to a DataFrame\n",
        "df = pd.DataFrame(flattened_data)\n",
        "\n",
        "# Save the DataFrame to a CSV file\n",
        "csv_file_path = '/content/drive/MyDrive/BirdnetProject/Files/data/CSV_data/XC/XC3_1_20210404_054400.csv'\n",
        "df.to_csv(csv_file_path, index=False)\n",
        "\n",
        "# Confirm that the results have been saved successfully\n",
        "print(f\"Results have been successfully converted to CSV and saved to {csv_file_path}\")"
      ],
      "metadata": {
        "colab": {
          "base_uri": "https://localhost:8080/"
        },
        "id": "Wr3GNxvlQCUe",
        "outputId": "9ce01c89-8813-4f92-85b5-39eac9785b4d"
      },
      "execution_count": null,
      "outputs": [
        {
          "output_type": "stream",
          "name": "stdout",
          "text": [
            "Results have been successfully converted to CSV and saved to /content/drive/MyDrive/BirdnetProject/Files/data/CSV_data/XC/XC3_1_20210404_054400.csv\n"
          ]
        }
      ]
    },
    {
      "cell_type": "code",
      "source": [
        "#@title Load and Verify CSV Data\n",
        "# Load the saved CSV file into a DataFrame to verify the contents\n",
        "csv_file_path = '/content/drive/MyDrive/BirdnetProject/Files/data/CSV_data/XC/XC3_1_20210404_054400.csv'\n",
        "df = pd.read_csv(csv_file_path)\n",
        "\n",
        "# Print the DataFrame to verify the data\n",
        "print(df.head)"
      ],
      "metadata": {
        "colab": {
          "base_uri": "https://localhost:8080/"
        },
        "id": "Norue-hirY7b",
        "outputId": "046bf148-6c56-436e-d1b6-494a08b2e0e3"
      },
      "execution_count": null,
      "outputs": [
        {
          "output_type": "stream",
          "name": "stdout",
          "text": [
            "<bound method NDFrame.head of                   common_name     scientific_name  start_time  end_time  \\\n",
            "0              European Robin  Erithacus rubecula       195.0     198.0   \n",
            "1                   Goldcrest     Regulus regulus       273.0     276.0   \n",
            "2        Eurasian Treecreeper  Certhia familiaris       447.0     450.0   \n",
            "3          Common Wood-Pigeon    Columba palumbus       555.0     558.0   \n",
            "4          Common Wood-Pigeon    Columba palumbus       570.0     573.0   \n",
            "..                        ...                 ...         ...       ...   \n",
            "553        Common Wood-Pigeon    Columba palumbus      4350.0    4353.0   \n",
            "554        Common Wood-Pigeon    Columba palumbus      4353.0    4356.0   \n",
            "555        Common Wood-Pigeon    Columba palumbus      4359.0    4362.0   \n",
            "556        Common Wood-Pigeon    Columba palumbus      4362.0    4365.0   \n",
            "557  Great Spotted Woodpecker   Dendrocopos major      4383.0    4386.0   \n",
            "\n",
            "     confidence                                       label  \\\n",
            "0      0.103502           Erithacus rubecula_European Robin   \n",
            "1      0.175837                   Regulus regulus_Goldcrest   \n",
            "2      0.271523     Certhia familiaris_Eurasian Treecreeper   \n",
            "3      0.110816         Columba palumbus_Common Wood-Pigeon   \n",
            "4      0.221068         Columba palumbus_Common Wood-Pigeon   \n",
            "..          ...                                         ...   \n",
            "553    0.165599         Columba palumbus_Common Wood-Pigeon   \n",
            "554    0.203475         Columba palumbus_Common Wood-Pigeon   \n",
            "555    0.561967         Columba palumbus_Common Wood-Pigeon   \n",
            "556    0.177423         Columba palumbus_Common Wood-Pigeon   \n",
            "557    0.527593  Dendrocopos major_Great Spotted Woodpecker   \n",
            "\n",
            "                    filename  \n",
            "0    XC3_20210404_054400.wav  \n",
            "1    XC3_20210404_054400.wav  \n",
            "2    XC3_20210404_054400.wav  \n",
            "3    XC3_20210404_054400.wav  \n",
            "4    XC3_20210404_054400.wav  \n",
            "..                       ...  \n",
            "553  XC3_20210404_054400.wav  \n",
            "554  XC3_20210404_054400.wav  \n",
            "555  XC3_20210404_054400.wav  \n",
            "556  XC3_20210404_054400.wav  \n",
            "557  XC3_20210404_054400.wav  \n",
            "\n",
            "[558 rows x 7 columns]>\n"
          ]
        }
      ]
    },
    {
      "cell_type": "code",
      "source": [
        "#@title Change Working Directory\n",
        "# Change working directory to defined path\n",
        "os.chdir('/content/drive/MyDrive/BirdnetProject/Files/data/CSV_data/XC')\n",
        "\n",
        "# Verify working directory\n",
        "print(os.getcwd())"
      ],
      "metadata": {
        "colab": {
          "base_uri": "https://localhost:8080/"
        },
        "id": "A2eNXtUgM2Gj",
        "outputId": "8260f6b3-dcc8-4296-919f-8000f73c4d9c"
      },
      "execution_count": null,
      "outputs": [
        {
          "output_type": "stream",
          "name": "stdout",
          "text": [
            "/content/drive/MyDrive/BirdnetProject/Files/data/CSV_data/XC\n"
          ]
        }
      ]
    },
    {
      "cell_type": "code",
      "source": [
        "#@title Create Merged Dataframe File For All Transects\n",
        "\n",
        "# Read in the CSV files\n",
        "df_XC1 = pd.read_csv('XC1_25_20230615_180000.csv')\n",
        "df_XC2 = pd.read_csv('XC2_25_20200530_171400.csv')\n",
        "df_XC3 = pd.read_csv('XC3_25_20210404_054400.csv')\n",
        "\n",
        "# Add a column to each dataframe to indicate the transect source\n",
        "df_XC1['transect'] = 1\n",
        "df_XC2['transect'] = 2\n",
        "df_XC3['transect'] = 3\n",
        "\n",
        "# Function to extract date and hour from the filename\n",
        "def extract_datetime(filename):\n",
        "    date_str = filename.split('_')[1]\n",
        "    time_str = filename.split('_')[2].split('.')[0]\n",
        "    datetime_str = date_str + ' ' + time_str\n",
        "    datetime = pd.to_datetime(datetime_str, format='%Y%m%d %H%M%S')\n",
        "    return datetime\n",
        "\n",
        "# Apply the function to create a new datetime column\n",
        "df_XC1['datetime'] = df_XC1['filename'].apply(extract_datetime)\n",
        "df_XC2['datetime'] = df_XC2['filename'].apply(extract_datetime)\n",
        "df_XC3['datetime'] = df_XC3['filename'].apply(extract_datetime)\n",
        "\n",
        "# Function to convert seconds to hour:minutes:seconds format based on the datetime\n",
        "def seconds_to_hms(datetime, seconds):\n",
        "    new_time = datetime + pd.to_timedelta(seconds, unit='s')\n",
        "    return new_time.strftime('%-H:%M:%S')\n",
        "\n",
        "# Apply the function to convert start_time and end_time\n",
        "df_XC1['start_time'] = df_XC1.apply(lambda row: seconds_to_hms(row['datetime'], row['start_time']), axis=1)\n",
        "df_XC1['end_time'] = df_XC1.apply(lambda row: seconds_to_hms(row['datetime'], row['end_time']), axis=1)\n",
        "df_XC2['start_time'] = df_XC2.apply(lambda row: seconds_to_hms(row['datetime'], row['start_time']), axis=1)\n",
        "df_XC2['end_time'] = df_XC2.apply(lambda row: seconds_to_hms(row['datetime'], row['end_time']), axis=1)\n",
        "df_XC3['start_time'] = df_XC3.apply(lambda row: seconds_to_hms(row['datetime'], row['start_time']), axis=1)\n",
        "df_XC3['end_time'] = df_XC3.apply(lambda row: seconds_to_hms(row['datetime'], row['end_time']), axis=1)\n",
        "\n",
        "# Concatenate the dataframes\n",
        "concatenated_df = pd.concat([df_XC1, df_XC2], ignore_index=True)\n",
        "\n",
        "# Extract date and start hour\n",
        "concatenated_df['date'] = concatenated_df['datetime'].dt.date\n",
        "concatenated_df['start_hour'] = concatenated_df['datetime'].dt.hour\n",
        "\n",
        "# Sort the dataframe by transect, date, start_time, common_name, and confidence\n",
        "concatenated_df = concatenated_df.sort_values(by=['transect', 'date', 'start_time', 'common_name', 'confidence'])\n",
        "\n",
        "# Reorder the columns to have transect, date, start_hour, time, and readable start/end times\n",
        "reordered_columns = ['transect', 'date', 'start_hour', 'start_time', 'end_time', 'common_name', 'scientific_name', 'confidence', 'label', 'filename']\n",
        "concatenated_df = concatenated_df[reordered_columns]\n",
        "\n",
        "# Display the first few rows of the concatenated dataframe\n",
        "print(\"\\nNew Dataframe:\")\n",
        "print(concatenated_df.head())\n",
        "print(concatenated_df.tail())\n"
      ],
      "metadata": {
        "id": "CWSfo33QEApG",
        "colab": {
          "base_uri": "https://localhost:8080/"
        },
        "outputId": "e2632efd-269e-42e2-a62f-0b73031d1f01"
      },
      "execution_count": null,
      "outputs": [
        {
          "output_type": "stream",
          "name": "stdout",
          "text": [
            "\n",
            "New Dataframe:\n",
            "   transect        date  start_hour start_time  end_time         common_name  \\\n",
            "0         1  2023-06-15          18   18:00:03  18:00:06   Eurasian Blackcap   \n",
            "1         1  2023-06-15          18   18:00:06  18:00:09   Eurasian Blackcap   \n",
            "2         1  2023-06-15          18   18:00:12  18:00:15   Eurasian Blackcap   \n",
            "3         1  2023-06-15          18   18:00:18  18:00:21  Eurasian Blackbird   \n",
            "4         1  2023-06-15          18   18:00:21  18:00:24   Eurasian Blackcap   \n",
            "\n",
            "      scientific_name  confidence                                 label  \\\n",
            "0  Sylvia atricapilla    0.490236  Sylvia atricapilla_Eurasian Blackcap   \n",
            "1  Sylvia atricapilla    0.586808  Sylvia atricapilla_Eurasian Blackcap   \n",
            "2  Sylvia atricapilla    0.568825  Sylvia atricapilla_Eurasian Blackcap   \n",
            "3       Turdus merula    0.417446      Turdus merula_Eurasian Blackbird   \n",
            "4  Sylvia atricapilla    0.774901  Sylvia atricapilla_Eurasian Blackcap   \n",
            "\n",
            "                  filename  \n",
            "0  XC1_20230615_180000.wav  \n",
            "1  XC1_20230615_180000.wav  \n",
            "2  XC1_20230615_180000.wav  \n",
            "3  XC1_20230615_180000.wav  \n",
            "4  XC1_20230615_180000.wav  \n",
            "     transect        date  start_hour start_time  end_time     common_name  \\\n",
            "150         2  2020-05-30          17   17:45:45  17:45:48  European Robin   \n",
            "151         2  2020-05-30          17   17:46:24  17:46:27  European Robin   \n",
            "152         2  2020-05-30          17   17:47:24  17:47:27  European Robin   \n",
            "153         2  2020-05-30          17   17:47:36  17:47:39  European Robin   \n",
            "154         2  2020-05-30          17   17:47:45  17:47:48  European Robin   \n",
            "\n",
            "        scientific_name  confidence                              label  \\\n",
            "150  Erithacus rubecula    0.662246  Erithacus rubecula_European Robin   \n",
            "151  Erithacus rubecula    0.394734  Erithacus rubecula_European Robin   \n",
            "152  Erithacus rubecula    0.289836  Erithacus rubecula_European Robin   \n",
            "153  Erithacus rubecula    0.254990  Erithacus rubecula_European Robin   \n",
            "154  Erithacus rubecula    0.331637  Erithacus rubecula_European Robin   \n",
            "\n",
            "                    filename  \n",
            "150  XC2_20200530_171400.wav  \n",
            "151  XC2_20200530_171400.wav  \n",
            "152  XC2_20200530_171400.wav  \n",
            "153  XC2_20200530_171400.wav  \n",
            "154  XC2_20200530_171400.wav  \n"
          ]
        }
      ]
    },
    {
      "cell_type": "code",
      "source": [
        "#@title Save data as a CSV File\n",
        "# Save the concatenated dataframe to a CSV file\n",
        "output_filename = 'XC_25_Merged.csv'\n",
        "concatenated_df.to_csv(output_filename, index=False)\n",
        "print(f\"The combined dataframe has been saved to {output_filename}\")"
      ],
      "metadata": {
        "colab": {
          "base_uri": "https://localhost:8080/"
        },
        "id": "C8RgicXFMMDn",
        "outputId": "a1efea75-c71a-4e8a-807a-9872ffcbe994"
      },
      "execution_count": null,
      "outputs": [
        {
          "output_type": "stream",
          "name": "stdout",
          "text": [
            "The combined dataframe has been saved to XC_25_Merged.csv\n"
          ]
        }
      ]
    },
    {
      "cell_type": "code",
      "source": [
        "#@title Save Data as a Excel File\n",
        "# Save the dataframe to an Excel file\n",
        "output_file = 'XC_25_Merged.xlsx'\n",
        "concatenated_df.to_excel(output_file, index=False)\n",
        "print(f\"\\nDataframe has been saved to {output_file}\")"
      ],
      "metadata": {
        "colab": {
          "base_uri": "https://localhost:8080/"
        },
        "id": "GufbuM2GMWCv",
        "outputId": "afce5868-abd3-40b5-e56f-1babe8551576"
      },
      "execution_count": null,
      "outputs": [
        {
          "output_type": "stream",
          "name": "stdout",
          "text": [
            "\n",
            "Dataframe has been saved to XC_25_Merged.xlsx\n"
          ]
        }
      ]
    },
    {
      "cell_type": "code",
      "source": [
        "#@title Species Detection Analysis: Comparing Human and AI Observations with GBIF Data in Germany\n",
        "\n",
        "# Define parameters for GBIF data retrieval for Germany\n",
        "params_Ger = {\n",
        "    'country_code': 'DE',  # Germany\n",
        "    'start_date': '2020-03-01',  # Start date for observation\n",
        "    'end_date': '2021-07-01'     # End date for observation\n",
        "}\n",
        "\n",
        "# Taxon key for Aves (birds)\n",
        "taxon_key = 212\n",
        "\n",
        "# Fetching species data from GBIF for Germany\n",
        "gbif_data_Ger = occurrences.search(\n",
        "    taxonKey=taxon_key,\n",
        "    country=params_Ger['country_code'],\n",
        "    from_date=params_Ger['start_date'],\n",
        "    to_date=params_Ger['end_date'],\n",
        "    limit=300\n",
        ")\n",
        "\n",
        "species_names_Ger = [record['species'] for record in gbif_data_Ger['results'] if 'species' in record]\n",
        "unique_species_Ger = set(species_names_Ger)\n",
        "\n",
        "# Human detected species (true labels from Xeno-Canto) with scientific names\n",
        "human_detections_scientific_Ger = {\n",
        "    \"Regulus ignicapilla\", \"Turdus viscivorus\", \"Columba palumbus\", \"Fringilla coelebs\",\n",
        "    \"Cuculus canorus\", \"Coccothraustes coccothraustes\", \"Turdus philomelos\", \"Sylvia atricapilla\",\n",
        "    \"Turdus merula\", \"Sitta europaea\", \"Dendrocoptes medius\", \"Corvus corone\",\n",
        "    \"Parus major\", \"Erithacus rubecula\", \"Aegithalos caudatus\", \"Accipiter gentilis\",\n",
        "    \"Certhia brachydactyla\", \"Dendrocopos major\", \"Garrulus glandarius\", \"Phylloscopus collybita\",\n",
        "    \"Chloris chloris\", \"Periparus ater\", \"Certhia familiaris\", \"Poecile palustris\",\n",
        "    \"Scolopax rusticola\", \"Sturnus vulgaris\"\n",
        "}\n",
        "\n",
        "# File paths and titles for visualization\n",
        "files_Ger = [\n",
        "    ('/content/drive/MyDrive/BirdnetProject/Files/data/CSV_data/XC/XC2_1_20200530_171400.csv', \"Confidence ≥ 0.1\"),\n",
        "    ('/content/drive/MyDrive/BirdnetProject/Files/data/CSV_data/XC/XC2_25_20200530_171400.csv', \"Confidence ≥ 0.25\"),\n",
        "    ('/content/drive/MyDrive/BirdnetProject/Files/data/CSV_data/XC/XC2_40_20200530_171400.csv', \"Confidence ≥ 0.4\")\n",
        "]\n",
        "\n",
        "# Function to load BirdNET predictions\n",
        "def load_birdnet_predictions(file_paths):\n",
        "    species = []\n",
        "    for path in file_paths:\n",
        "        df = pd.read_csv(path)\n",
        "        species.extend(df['scientific_name'].tolist())\n",
        "    return set(species)  # Remove duplicates and convert to set\n",
        "\n",
        "# Set up the figure for side-by-side plots\n",
        "fig, axes = plt.subplots(1, 3, figsize=(18, 6), sharex=True, sharey=True)\n",
        "plt.subplots_adjust(wspace=0.4)\n",
        "\n",
        "# Function to visualize confusion matrix\n",
        "def plot_confusion_matrix(cm, title, ax):\n",
        "    labels = ['TN', 'FP', 'FN', 'TP']\n",
        "    sns.heatmap(cm, annot=False, fmt='d', cmap='Blues', xticklabels=['Not Detected by AI', 'Detected by AI'], yticklabels=['Not Detected by Humans', 'Detected by Humans'], ax=ax)\n",
        "    for i in range(cm.shape[0]):\n",
        "        for j in range(cm.shape[1]):\n",
        "            label = labels[i * 2 + j]\n",
        "            ax.text(j + 0.5, i + 0.5, f'{cm[i, j]}\\n{label}', ha='center', va='center', fontsize=12, color='black')\n",
        "    ax.set_xlabel('AI Detection')\n",
        "    ax.set_ylabel('Human Detection')\n",
        "    ax.set_title(title)\n",
        "\n",
        "# Generate Confusion Matrix data for Germany\n",
        "for idx, (file_path, title) in enumerate(files_Ger):\n",
        "    # Load BirdNET data\n",
        "    predicted_scientific_names_Ger = load_birdnet_predictions([file_path])\n",
        "\n",
        "    # Combine human and predicted species lists\n",
        "    all_species_Ger = list(human_detections_scientific_Ger.union(predicted_scientific_names_Ger))\n",
        "\n",
        "    # Create presence/absence vectors\n",
        "    human_vector_Ger = [1 if species in human_detections_scientific_Ger else 0 for species in all_species_Ger]\n",
        "    predicted_vector_Ger = [1 if species in predicted_scientific_names_Ger else 0 for species in all_species_Ger]\n",
        "\n",
        "    # Generate Confusion Matrix\n",
        "    conf_matrix_Ger = confusion_matrix(human_vector_Ger, predicted_vector_Ger)\n",
        "\n",
        "    # Update True Negatives (TN) using GBIF data\n",
        "    detected_species_Ger = human_detections_scientific_Ger.union(predicted_scientific_names_Ger)\n",
        "    true_negatives_count_Ger = len(unique_species_Ger - detected_species_Ger)\n",
        "    conf_matrix_Ger[0, 0] = true_negatives_count_Ger\n",
        "\n",
        "    # Plot Confusion Matrix\n",
        "    plot_confusion_matrix(conf_matrix_Ger, title=f'Germany ({title})', ax=axes[idx])\n",
        "\n",
        "# Ensure y-axis labels are consistent\n",
        "for ax in axes:\n",
        "    ax.set_ylabel('Human Detection')\n",
        "    ax.set_xlabel('AI Detection')\n",
        "\n",
        "plt.tight_layout()\n",
        "\n",
        "# Add interactivity with mplcursors\n",
        "mplcursors.cursor(hover=True)\n",
        "\n",
        "plt.show()"
      ],
      "metadata": {
        "colab": {
          "base_uri": "https://localhost:8080/",
          "height": 234
        },
        "id": "BRmBTKZmSdZK",
        "outputId": "079861a4-337c-4efa-ea6f-45d18b4369fa"
      },
      "execution_count": 17,
      "outputs": [
        {
          "output_type": "display_data",
          "data": {
            "text/plain": [
              "<Figure size 1800x600 with 6 Axes>"
            ],
            "image/png": "[encoded data removed]"
          },
          "metadata": {}
        }
      ]
    },
    {
      "cell_type": "code",
      "source": [
        "#@title Species Detection Analysis: Comparing Human and AI Observations with GBIF Data in UK\n",
        "\n",
        "# Define parameters for GBIF data retrieval for the UK\n",
        "params_UK = {\n",
        "    'country_code': 'GB',  # United Kingdom\n",
        "    'start_date': '2021-02-01',  # Start date for observation\n",
        "    'end_date': '2022-16-01'     # End date for observation\n",
        "}\n",
        "\n",
        "# Taxon key for Aves (birds)\n",
        "taxon_key = 212\n",
        "\n",
        "# Fetching species data from GBIF for the UK\n",
        "gbif_data_UK = occurrences.search(\n",
        "    taxonKey=taxon_key,\n",
        "    country=params_UK['country_code'],\n",
        "    from_date=params_UK['start_date'],\n",
        "    to_date=params_UK['end_date'],\n",
        "    limit=300\n",
        ")\n",
        "\n",
        "species_names_UK = [record['species'] for record in gbif_data_UK['results'] if 'species' in record]\n",
        "unique_species_UK = set(species_names_UK)\n",
        "\n",
        "# Human detected species (true labels from Xeno-Canto) with scientific names\n",
        "human_detections_scientific_UK = {\n",
        "    \"Cyanistes caeruleus\", \"Regulus regulus\", \"Anser anser\", \"Columba palumbus\",\n",
        "    \"Turdus philomelos\", \"Turdus merula\", \"Sitta europaea\", \"Branta canadensis\",\n",
        "    \"Corvus corone\", \"Sitta europaea\", \"Dendrocoptes medius\", \"Corvus corone\",\n",
        "    \"Parus major\", \"Parus major\", \"Aix galericulata\", \"Coloeus monedula\",\n",
        "    \"Erithacus rubecula\", \"Strix aluco\", \"Columba oenas\", \"Dendrocopos major\",\n",
        "    \"Troglodytes troglodytes\", \"Periparus ater\", \"Certhia familiaris\", \"Phasianus colchicus\",\n",
        "    \"Anas platyrhynchos\"\n",
        "}\n",
        "\n",
        "# File paths and titles for visualization\n",
        "files_UK = [\n",
        "    ('/content/drive/MyDrive/BirdnetProject/Files/data/CSV_data/XC/XC3_1_20210404_054400.csv', \"Confidence ≥ 0.1\"),\n",
        "    ('/content/drive/MyDrive/BirdnetProject/Files/data/CSV_data/XC/XC3_25_20210404_054400.csv', \"Confidence ≥ 0.25\"),\n",
        "    ('/content/drive/MyDrive/BirdnetProject/Files/data/CSV_data/XC/XC3_40_20210404_054400.csv', \"Confidence ≥ 0.4\")\n",
        "]\n",
        "\n",
        "# Function to load BirdNET predictions\n",
        "def load_birdnet_predictions(file_paths):\n",
        "    species = []\n",
        "    for path in file_paths:\n",
        "        df = pd.read_csv(path)\n",
        "        species.extend(df['scientific_name'].tolist())\n",
        "    return set(species)  # Remove duplicates and convert to set\n",
        "\n",
        "# Set up the figure for side-by-side plots\n",
        "fig, axes = plt.subplots(1, 3, figsize=(18, 6), sharex=True, sharey=True)\n",
        "plt.subplots_adjust(wspace=0.4)\n",
        "\n",
        "# Function to visualize confusion matrix\n",
        "def plot_confusion_matrix(cm, title, ax):\n",
        "    labels = ['TN', 'FP', 'FN', 'TP']\n",
        "    sns.heatmap(cm, annot=False, fmt='d', cmap='Blues', xticklabels=['Not Detected by AI', 'Detected by AI'], yticklabels=['Not Detected by Humans', 'Detected by Humans'], ax=ax)\n",
        "    for i in range(cm.shape[0]):\n",
        "        for j in range(cm.shape[1]):\n",
        "            label = labels[i * 2 + j]\n",
        "            ax.text(j + 0.5, i + 0.5, f'{cm[i, j]}\\n{label}', ha='center', va='center', fontsize=12, color='black')\n",
        "    ax.set_xlabel('AI Detection')\n",
        "    ax.set_ylabel('Human Detection')\n",
        "    ax.set_title(title)\n",
        "\n",
        "# Generate Confusion Matrix data for UK\n",
        "for idx, (file_path, title) in enumerate(files_UK):\n",
        "    # Load BirdNET data\n",
        "    predicted_scientific_names_UK = load_birdnet_predictions([file_path])\n",
        "\n",
        "    # Combine human and predicted species lists\n",
        "    all_species_UK = list(human_detections_scientific_UK.union(predicted_scientific_names_UK))\n",
        "\n",
        "    # Create presence/absence vectors\n",
        "    human_vector_UK = [1 if species in human_detections_scientific_UK else 0 for species in all_species_UK]\n",
        "    predicted_vector_UK = [1 if species in predicted_scientific_names_UK else 0 for species in all_species_UK]\n",
        "\n",
        "    # Generate Confusion Matrix\n",
        "    conf_matrix_UK = confusion_matrix(human_vector_UK, predicted_vector_UK)\n",
        "\n",
        "    # Update True Negatives (TN) using GBIF data\n",
        "    detected_species_UK = human_detections_scientific_UK.union(predicted_scientific_names_UK)\n",
        "    true_negatives_count_UK = len(unique_species_UK - detected_species_UK)\n",
        "    conf_matrix_UK[0, 0] = true_negatives_count_UK\n",
        "\n",
        "    # Plot Confusion Matrix\n",
        "    plot_confusion_matrix(conf_matrix_UK, title=f'UK ({title})', ax=axes[idx])\n",
        "\n",
        "# Ensure y-axis labels are consistent\n",
        "for ax in axes:\n",
        "    ax.set_ylabel('Human Detection')\n",
        "    ax.set_xlabel('AI Detection')\n",
        "\n",
        "plt.tight_layout()\n",
        "\n",
        "# Add interactivity with mplcursors\n",
        "mplcursors.cursor(hover=True)\n",
        "\n",
        "plt.show()"
      ],
      "metadata": {
        "id": "TSLpnD5KAnlZ",
        "outputId": "66a725f9-25a5-4454-cec4-7b979187fa24",
        "colab": {
          "base_uri": "https://localhost:8080/",
          "height": 234
        }
      },
      "execution_count": 18,
      "outputs": [
        {
          "output_type": "display_data",
          "data": {
            "text/plain": [
              "<Figure size 1800x600 with 6 Axes>"
            ],
            "image/png": "[encoded data removed]"
          },
          "metadata": {}
        }
      ]
    },
    {
      "cell_type": "code",
      "source": [],
      "metadata": {
        "id": "C-lSaZlkDa7L"
      },
      "execution_count": null,
      "outputs": []
    }
  ]
}