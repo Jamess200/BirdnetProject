{
  "nbformat": 4,
  "nbformat_minor": 0,
  "metadata": {
    "colab": {
      "provenance": [],
      "mount_file_id": "https://github.com/Jamess200/birdnetTest/blob/James_Branch/Inital_BN_Test.ipynb",
      "authorship_tag": "ABX9TyP20up5T+1/ocJMNlj/yFd4",
      "include_colab_link": true
    },
    "kernelspec": {
      "name": "python3",
      "display_name": "Python 3"
    },
    "language_info": {
      "name": "python"
    }
  },
  "cells": [
    {
      "cell_type": "markdown",
      "metadata": {
        "id": "view-in-github",
        "colab_type": "text"
      },
      "source": [
        "<a href=\"https://colab.research.google.com/github/Jamess200/BirdnetProject/blob/main/Main_AI_Human.ipynb\" target=\"_parent\"><img src=\"https://colab.research.google.com/assets/colab-badge.svg\" alt=\"Open In Colab\"/></a>"
      ]
    },
    {
      "cell_type": "code",
      "source": [
        "#@title Mount Google Drive\n",
        "# Mount Google Drive to access files stored in it\n",
        "from google.colab import drive\n",
        "drive.mount('/content/drive')"
      ],
      "metadata": {
        "colab": {
          "base_uri": "https://localhost:8080/"
        },
        "id": "UBQ0gb-zJaF7",
        "outputId": "220876ae-8ace-4b79-a75e-6d4b5f5c6dd4"
      },
      "execution_count": 1,
      "outputs": [
        {
          "output_type": "stream",
          "name": "stdout",
          "text": [
            "Mounted at /content/drive\n"
          ]
        }
      ]
    },
    {
      "cell_type": "code",
      "source": [
        "#@title Change Directory\n",
        "# Change the working directory to a specific path in your Google Drive\n",
        "%cd /content/drive/MyDrive/"
      ],
      "metadata": {
        "colab": {
          "base_uri": "https://localhost:8080/"
        },
        "id": "6STr5lGE9sFd",
        "outputId": "77f2982f-74b7-478f-c0db-a16f7f36a320"
      },
      "execution_count": 58,
      "outputs": [
        {
          "output_type": "stream",
          "name": "stdout",
          "text": [
            "/content/drive/MyDrive\n"
          ]
        }
      ]
    },
    {
      "cell_type": "code",
      "source": [
        "#@title Set Up Repository Path & Clone Repository\n",
        "import os\n",
        "# Define path in Google Drive where you want to clone the repository\n",
        "repo_path = '/content/drive/MyDrive/'\n",
        "\n",
        "# Check if directory already exists, create it if not\n",
        "if not os.path.exists(repo_path):\n",
        "    os.makedirs(repo_path)\n",
        "\n",
        "# Change working directory to defined path\n",
        "os.chdir(repo_path)\n",
        "\n",
        "# Clone the repository if doesnt exist, otherwise pull latest changes\n",
        "if not os.path.exists(os.path.join(repo_path, 'BirdnetProject')):\n",
        "    !git clone https://github.com/Jamess200/BirdnetProject\n",
        "else:\n",
        "    os.chdir('BirdnetProject')\n",
        "    !git pull\n",
        "\n",
        "# Verify cloned repository\n",
        "!ls"
      ],
      "metadata": {
        "colab": {
          "base_uri": "https://localhost:8080/"
        },
        "id": "CPfnA6GjBNJs",
        "outputId": "98da6c50-d430-4f10-9128-fe66118522ce"
      },
      "execution_count": 91,
      "outputs": [
        {
          "output_type": "stream",
          "name": "stdout",
          "text": [
            "Already up to date.\n",
            "Files  README.md\n"
          ]
        }
      ]
    },
    {
      "cell_type": "code",
      "execution_count": 4,
      "metadata": {
        "colab": {
          "base_uri": "https://localhost:8080/"
        },
        "id": "YoUfTX4x9MPW",
        "outputId": "054793f6-8abc-4df4-cd62-3d6c232028fc"
      },
      "outputs": [
        {
          "output_type": "stream",
          "name": "stdout",
          "text": [
            "Collecting birdnetlib\n",
            "  Downloading birdnetlib-0.17.2-py3-none-any.whl.metadata (4.3 kB)\n",
            "Requirement already satisfied: matplotlib>=3.5.3 in /usr/local/lib/python3.10/dist-packages (from birdnetlib) (3.7.1)\n",
            "Collecting pydub==0.25.1 (from birdnetlib)\n",
            "  Downloading pydub-0.25.1-py2.py3-none-any.whl.metadata (1.4 kB)\n",
            "Requirement already satisfied: requests>=2.28.1 in /usr/local/lib/python3.10/dist-packages (from birdnetlib) (2.31.0)\n",
            "Collecting watchdog==2.1.9 (from birdnetlib)\n",
            "  Downloading watchdog-2.1.9-py3-none-manylinux2014_x86_64.whl.metadata (33 kB)\n",
            "Requirement already satisfied: contourpy>=1.0.1 in /usr/local/lib/python3.10/dist-packages (from matplotlib>=3.5.3->birdnetlib) (1.2.1)\n",
            "Requirement already satisfied: cycler>=0.10 in /usr/local/lib/python3.10/dist-packages (from matplotlib>=3.5.3->birdnetlib) (0.12.1)\n",
            "Requirement already satisfied: fonttools>=4.22.0 in /usr/local/lib/python3.10/dist-packages (from matplotlib>=3.5.3->birdnetlib) (4.53.1)\n",
            "Requirement already satisfied: kiwisolver>=1.0.1 in /usr/local/lib/python3.10/dist-packages (from matplotlib>=3.5.3->birdnetlib) (1.4.5)\n",
            "Requirement already satisfied: numpy>=1.20 in /usr/local/lib/python3.10/dist-packages (from matplotlib>=3.5.3->birdnetlib) (1.26.4)\n",
            "Requirement already satisfied: packaging>=20.0 in /usr/local/lib/python3.10/dist-packages (from matplotlib>=3.5.3->birdnetlib) (24.1)\n",
            "Requirement already satisfied: pillow>=6.2.0 in /usr/local/lib/python3.10/dist-packages (from matplotlib>=3.5.3->birdnetlib) (9.4.0)\n",
            "Requirement already satisfied: pyparsing>=2.3.1 in /usr/local/lib/python3.10/dist-packages (from matplotlib>=3.5.3->birdnetlib) (3.1.2)\n",
            "Requirement already satisfied: python-dateutil>=2.7 in /usr/local/lib/python3.10/dist-packages (from matplotlib>=3.5.3->birdnetlib) (2.8.2)\n",
            "Requirement already satisfied: charset-normalizer<4,>=2 in /usr/local/lib/python3.10/dist-packages (from requests>=2.28.1->birdnetlib) (3.3.2)\n",
            "Requirement already satisfied: idna<4,>=2.5 in /usr/local/lib/python3.10/dist-packages (from requests>=2.28.1->birdnetlib) (3.7)\n",
            "Requirement already satisfied: urllib3<3,>=1.21.1 in /usr/local/lib/python3.10/dist-packages (from requests>=2.28.1->birdnetlib) (2.0.7)\n",
            "Requirement already satisfied: certifi>=2017.4.17 in /usr/local/lib/python3.10/dist-packages (from requests>=2.28.1->birdnetlib) (2024.7.4)\n",
            "Requirement already satisfied: six>=1.5 in /usr/local/lib/python3.10/dist-packages (from python-dateutil>=2.7->matplotlib>=3.5.3->birdnetlib) (1.16.0)\n",
            "Downloading birdnetlib-0.17.2-py3-none-any.whl (61.1 MB)\n",
            "\u001b[2K   \u001b[90m━━━━━━━━━━━━━━━━━━━━━━━━━━━━━━━━━━━━━━━━\u001b[0m \u001b[32m61.1/61.1 MB\u001b[0m \u001b[31m15.8 MB/s\u001b[0m eta \u001b[36m0:00:00\u001b[0m\n",
            "\u001b[?25hDownloading pydub-0.25.1-py2.py3-none-any.whl (32 kB)\n",
            "Downloading watchdog-2.1.9-py3-none-manylinux2014_x86_64.whl (78 kB)\n",
            "\u001b[2K   \u001b[90m━━━━━━━━━━━━━━━━━━━━━━━━━━━━━━━━━━━━━━━━\u001b[0m \u001b[32m78.4/78.4 kB\u001b[0m \u001b[31m5.5 MB/s\u001b[0m eta \u001b[36m0:00:00\u001b[0m\n",
            "\u001b[?25hInstalling collected packages: pydub, watchdog, birdnetlib\n",
            "Successfully installed birdnetlib-0.17.2 pydub-0.25.1 watchdog-2.1.9\n",
            "Collecting tflite-runtime\n",
            "  Downloading tflite_runtime-2.14.0-cp310-cp310-manylinux2014_x86_64.whl.metadata (1.4 kB)\n",
            "Requirement already satisfied: numpy>=1.23.2 in /usr/local/lib/python3.10/dist-packages (from tflite-runtime) (1.26.4)\n",
            "Downloading tflite_runtime-2.14.0-cp310-cp310-manylinux2014_x86_64.whl (2.4 MB)\n",
            "\u001b[2K   \u001b[90m━━━━━━━━━━━━━━━━━━━━━━━━━━━━━━━━━━━━━━━━\u001b[0m \u001b[32m2.4/2.4 MB\u001b[0m \u001b[31m9.8 MB/s\u001b[0m eta \u001b[36m0:00:00\u001b[0m\n",
            "\u001b[?25hInstalling collected packages: tflite-runtime\n",
            "Successfully installed tflite-runtime-2.14.0\n",
            "Collecting resampy\n",
            "  Downloading resampy-0.4.3-py3-none-any.whl.metadata (3.0 kB)\n",
            "Requirement already satisfied: numpy>=1.17 in /usr/local/lib/python3.10/dist-packages (from resampy) (1.26.4)\n",
            "Requirement already satisfied: numba>=0.53 in /usr/local/lib/python3.10/dist-packages (from resampy) (0.60.0)\n",
            "Requirement already satisfied: llvmlite<0.44,>=0.43.0dev0 in /usr/local/lib/python3.10/dist-packages (from numba>=0.53->resampy) (0.43.0)\n",
            "Downloading resampy-0.4.3-py3-none-any.whl (3.1 MB)\n",
            "\u001b[2K   \u001b[90m━━━━━━━━━━━━━━━━━━━━━━━━━━━━━━━━━━━━━━━━\u001b[0m \u001b[32m3.1/3.1 MB\u001b[0m \u001b[31m13.3 MB/s\u001b[0m eta \u001b[36m0:00:00\u001b[0m\n",
            "\u001b[?25hInstalling collected packages: resampy\n",
            "Successfully installed resampy-0.4.3\n",
            "Collecting ffmpeg\n",
            "  Downloading ffmpeg-1.4.tar.gz (5.1 kB)\n",
            "  Preparing metadata (setup.py) ... \u001b[?25l\u001b[?25hdone\n",
            "Building wheels for collected packages: ffmpeg\n",
            "  Building wheel for ffmpeg (setup.py) ... \u001b[?25l\u001b[?25hdone\n",
            "  Created wheel for ffmpeg: filename=ffmpeg-1.4-py3-none-any.whl size=6083 sha256=7a6b1087dd912b10b31dc785e6523e3fbb5b51f7de9e19f74800f3f1c5c33859\n",
            "  Stored in directory: /root/.cache/pip/wheels/8e/7a/69/cd6aeb83b126a7f04cbe7c9d929028dc52a6e7d525ff56003a\n",
            "Successfully built ffmpeg\n",
            "Installing collected packages: ffmpeg\n",
            "Successfully installed ffmpeg-1.4\n"
          ]
        }
      ],
      "source": [
        "#@title Install Required Python Packages\n",
        "# Install required packages\n",
        "!pip3 install birdnetlib\n",
        "!pip3 install tflite-runtime\n",
        "!pip3 install resampy\n",
        "!pip3 install ffmpeg"
      ]
    },
    {
      "cell_type": "code",
      "source": [
        "#@title Import Necessary Libraries\n",
        "# Import necessary libraries\n",
        "import resampy\n",
        "import birdnetlib\n",
        "import tflite_runtime\n",
        "import ffmpeg\n",
        "import pandas as pd\n",
        "import numpy as np\n",
        "from birdnetlib import Recording\n",
        "from birdnetlib.analyzer import Analyzer\n",
        "from datetime import datetime"
      ],
      "metadata": {
        "id": "ue-RsKMmISyR"
      },
      "execution_count": 22,
      "outputs": []
    },
    {
      "cell_type": "code",
      "source": [
        "#@title Set Up Directory and File Paths\n",
        "# Define the directory where the data is stored\n",
        "dataDir = '/content/drive/MyDrive/XC'\n",
        "\n",
        "# List all files in the directory\n",
        "file_names = os.listdir(dataDir)\n",
        "\n",
        "# Print the file names to verify the data files\n",
        "print(file_names)"
      ],
      "metadata": {
        "colab": {
          "base_uri": "https://localhost:8080/"
        },
        "id": "9ke3hNq79dxN",
        "outputId": "49752da6-e8be-4893-e97e-2633fec28422"
      },
      "execution_count": 82,
      "outputs": [
        {
          "output_type": "stream",
          "name": "stdout",
          "text": [
            "['.ipynb_checkpoints', 'XC3_20210404_054400.wav']\n"
          ]
        }
      ]
    },
    {
      "cell_type": "code",
      "source": [
        "#@title Initialise BirdNET Analyzer\n",
        "# Initialise the BirdNET-Analyzer model\n",
        "analyzer = Analyzer()\n",
        "# Define the coordinates and date for the recordings\n",
        "testamp = [\t51.7813,\t-2.5745]"
      ],
      "metadata": {
        "colab": {
          "base_uri": "https://localhost:8080/"
        },
        "id": "ZDJ6voT6KQ8k",
        "outputId": "3158dad4-a7e8-4138-8052-6dec5b5b12bb"
      },
      "execution_count": 83,
      "outputs": [
        {
          "output_type": "stream",
          "name": "stdout",
          "text": [
            "Labels loaded.\n",
            "load model True\n",
            "Model loaded.\n",
            "Labels loaded.\n",
            "load_species_list_model\n",
            "Meta model loaded.\n"
          ]
        }
      ]
    },
    {
      "cell_type": "code",
      "execution_count": 84,
      "metadata": {
        "id": "HLU34dwg2fR4",
        "outputId": "d21c3cee-2779-4224-e1fd-1e6bf1a14b92",
        "colab": {
          "base_uri": "https://localhost:8080/"
        },
        "collapsed": true
      },
      "outputs": [
        {
          "output_type": "stream",
          "name": "stdout",
          "text": [
            "read_audio_data\n",
            "read_audio_data: complete, read  1464 chunks.\n",
            "analyze_recording XC3_20210404_054400.wav\n",
            "recording has lon/lat\n",
            "set_predicted_species_list_from_position\n",
            "return_predicted_species_list\n",
            "20\n",
            "128 species loaded.\n"
          ]
        }
      ],
      "source": [
        "#@title Analyse Audio Files and Store Results\n",
        "# Create a dictionary to store the results\n",
        "results = {}\n",
        "\n",
        "# Date of recording\n",
        "recording_date = datetime(year=2020, month=5, day=30)\n",
        "\n",
        "for file_name in file_names:\n",
        "    try:\n",
        "        file_path = os.path.join(dataDir, file_name)\n",
        "\n",
        "        if os.path.isdir(file_path):\n",
        "            continue\n",
        "\n",
        "        if not file_name.lower().endswith(('.wav', '.mp3', '.flac')):\n",
        "            print(f\"Skipping non-audio file: {file_name}\")\n",
        "            continue\n",
        "\n",
        "        recording = Recording(\n",
        "            analyzer,\n",
        "            file_path,  # path to the recording file\n",
        "            lat=testamp[0],  # latitude of the recording location\n",
        "            lon=testamp[1],  # longitude of the recording location\n",
        "            date=recording_date,  # the date of the recording\n",
        "            min_conf=0.1,\n",
        "        )\n",
        "        recording.analyze()\n",
        "        results[file_name] = recording.detections\n",
        "    except Exception as e:\n",
        "        print(f\"Error processing {file_name}: {e}\")"
      ]
    },
    {
      "cell_type": "code",
      "source": [
        "#@title Convert Results to DataFrame and Save as CSV\n",
        "# Flatten the results dictionary\n",
        "flattened_data = []\n",
        "for filename, records in results.items():\n",
        "    for record in records:\n",
        "        record['filename'] = filename\n",
        "        flattened_data.append(record)\n",
        "\n",
        "# Convert the flattened data to a DataFrame\n",
        "df = pd.DataFrame(flattened_data)\n",
        "\n",
        "# Save the DataFrame to a CSV file\n",
        "csv_file_path = '/content/drive/MyDrive/BirdnetProject/Files/data/CSV_data/XC/XC3_1_20210404_054400.csv'\n",
        "df.to_csv(csv_file_path, index=False)\n",
        "\n",
        "# Confirm that the results have been saved successfully\n",
        "print(f\"Results have been successfully converted to CSV and saved to {csv_file_path}\")"
      ],
      "metadata": {
        "colab": {
          "base_uri": "https://localhost:8080/"
        },
        "id": "Wr3GNxvlQCUe",
        "outputId": "9ce01c89-8813-4f92-85b5-39eac9785b4d"
      },
      "execution_count": 85,
      "outputs": [
        {
          "output_type": "stream",
          "name": "stdout",
          "text": [
            "Results have been successfully converted to CSV and saved to /content/drive/MyDrive/BirdnetProject/Files/data/CSV_data/XC/XC3_1_20210404_054400.csv\n"
          ]
        }
      ]
    },
    {
      "cell_type": "code",
      "source": [
        "#@title Load and Verify CSV Data\n",
        "# Load the saved CSV file into a DataFrame to verify the contents\n",
        "csv_file_path = '/content/drive/MyDrive/BirdnetProject/Files/data/CSV_data/XC/XC3_1_20210404_054400.csv'\n",
        "df = pd.read_csv(csv_file_path)\n",
        "\n",
        "# Print the DataFrame to verify the data\n",
        "print(df.head)"
      ],
      "metadata": {
        "colab": {
          "base_uri": "https://localhost:8080/"
        },
        "id": "Norue-hirY7b",
        "outputId": "046bf148-6c56-436e-d1b6-494a08b2e0e3"
      },
      "execution_count": 86,
      "outputs": [
        {
          "output_type": "stream",
          "name": "stdout",
          "text": [
            "<bound method NDFrame.head of                   common_name     scientific_name  start_time  end_time  \\\n",
            "0              European Robin  Erithacus rubecula       195.0     198.0   \n",
            "1                   Goldcrest     Regulus regulus       273.0     276.0   \n",
            "2        Eurasian Treecreeper  Certhia familiaris       447.0     450.0   \n",
            "3          Common Wood-Pigeon    Columba palumbus       555.0     558.0   \n",
            "4          Common Wood-Pigeon    Columba palumbus       570.0     573.0   \n",
            "..                        ...                 ...         ...       ...   \n",
            "553        Common Wood-Pigeon    Columba palumbus      4350.0    4353.0   \n",
            "554        Common Wood-Pigeon    Columba palumbus      4353.0    4356.0   \n",
            "555        Common Wood-Pigeon    Columba palumbus      4359.0    4362.0   \n",
            "556        Common Wood-Pigeon    Columba palumbus      4362.0    4365.0   \n",
            "557  Great Spotted Woodpecker   Dendrocopos major      4383.0    4386.0   \n",
            "\n",
            "     confidence                                       label  \\\n",
            "0      0.103502           Erithacus rubecula_European Robin   \n",
            "1      0.175837                   Regulus regulus_Goldcrest   \n",
            "2      0.271523     Certhia familiaris_Eurasian Treecreeper   \n",
            "3      0.110816         Columba palumbus_Common Wood-Pigeon   \n",
            "4      0.221068         Columba palumbus_Common Wood-Pigeon   \n",
            "..          ...                                         ...   \n",
            "553    0.165599         Columba palumbus_Common Wood-Pigeon   \n",
            "554    0.203475         Columba palumbus_Common Wood-Pigeon   \n",
            "555    0.561967         Columba palumbus_Common Wood-Pigeon   \n",
            "556    0.177423         Columba palumbus_Common Wood-Pigeon   \n",
            "557    0.527593  Dendrocopos major_Great Spotted Woodpecker   \n",
            "\n",
            "                    filename  \n",
            "0    XC3_20210404_054400.wav  \n",
            "1    XC3_20210404_054400.wav  \n",
            "2    XC3_20210404_054400.wav  \n",
            "3    XC3_20210404_054400.wav  \n",
            "4    XC3_20210404_054400.wav  \n",
            "..                       ...  \n",
            "553  XC3_20210404_054400.wav  \n",
            "554  XC3_20210404_054400.wav  \n",
            "555  XC3_20210404_054400.wav  \n",
            "556  XC3_20210404_054400.wav  \n",
            "557  XC3_20210404_054400.wav  \n",
            "\n",
            "[558 rows x 7 columns]>\n"
          ]
        }
      ]
    },
    {
      "cell_type": "code",
      "source": [
        "#@title Change Working Directory\n",
        "# Change working directory to defined path\n",
        "os.chdir('/content/drive/MyDrive/BirdnetProject/Files/data/CSV_data/XC')\n",
        "\n",
        "# Verify working directory\n",
        "print(os.getcwd())"
      ],
      "metadata": {
        "colab": {
          "base_uri": "https://localhost:8080/"
        },
        "id": "A2eNXtUgM2Gj",
        "outputId": "8260f6b3-dcc8-4296-919f-8000f73c4d9c"
      },
      "execution_count": 87,
      "outputs": [
        {
          "output_type": "stream",
          "name": "stdout",
          "text": [
            "/content/drive/MyDrive/BirdnetProject/Files/data/CSV_data/XC\n"
          ]
        }
      ]
    },
    {
      "cell_type": "code",
      "source": [
        "#@title Create Merged Dataframe File For All Transects\n",
        "\n",
        "# Read in the CSV files\n",
        "df_XC1 = pd.read_csv('XC1_25_20230615_180000.csv')\n",
        "df_XC2 = pd.read_csv('XC2_25_20200530_171400.csv')\n",
        "df_XC3 = pd.read_csv('XC3_25_20210404_054400.csv')\n",
        "\n",
        "# Add a column to each dataframe to indicate the transect source\n",
        "df_XC1['transect'] = 1\n",
        "df_XC2['transect'] = 2\n",
        "df_XC3['transect'] = 3\n",
        "\n",
        "# Function to extract date and hour from the filename\n",
        "def extract_datetime(filename):\n",
        "    date_str = filename.split('_')[1]\n",
        "    time_str = filename.split('_')[2].split('.')[0]\n",
        "    datetime_str = date_str + ' ' + time_str\n",
        "    datetime = pd.to_datetime(datetime_str, format='%Y%m%d %H%M%S')\n",
        "    return datetime\n",
        "\n",
        "# Apply the function to create a new datetime column\n",
        "df_XC1['datetime'] = df_XC1['filename'].apply(extract_datetime)\n",
        "df_XC2['datetime'] = df_XC2['filename'].apply(extract_datetime)\n",
        "df_XC3['datetime'] = df_XC3['filename'].apply(extract_datetime)\n",
        "\n",
        "# Function to convert seconds to hour:minutes:seconds format based on the datetime\n",
        "def seconds_to_hms(datetime, seconds):\n",
        "    new_time = datetime + pd.to_timedelta(seconds, unit='s')\n",
        "    return new_time.strftime('%-H:%M:%S')\n",
        "\n",
        "# Apply the function to convert start_time and end_time\n",
        "df_XC1['start_time'] = df_XC1.apply(lambda row: seconds_to_hms(row['datetime'], row['start_time']), axis=1)\n",
        "df_XC1['end_time'] = df_XC1.apply(lambda row: seconds_to_hms(row['datetime'], row['end_time']), axis=1)\n",
        "df_XC2['start_time'] = df_XC2.apply(lambda row: seconds_to_hms(row['datetime'], row['start_time']), axis=1)\n",
        "df_XC2['end_time'] = df_XC2.apply(lambda row: seconds_to_hms(row['datetime'], row['end_time']), axis=1)\n",
        "df_XC3['start_time'] = df_XC3.apply(lambda row: seconds_to_hms(row['datetime'], row['start_time']), axis=1)\n",
        "df_XC3['end_time'] = df_XC3.apply(lambda row: seconds_to_hms(row['datetime'], row['end_time']), axis=1)\n",
        "\n",
        "# Concatenate the dataframes\n",
        "concatenated_df = pd.concat([df_XC1, df_XC2], ignore_index=True)\n",
        "\n",
        "# Extract date and start hour\n",
        "concatenated_df['date'] = concatenated_df['datetime'].dt.date\n",
        "concatenated_df['start_hour'] = concatenated_df['datetime'].dt.hour\n",
        "\n",
        "# Sort the dataframe by transect, date, start_time, common_name, and confidence\n",
        "concatenated_df = concatenated_df.sort_values(by=['transect', 'date', 'start_time', 'common_name', 'confidence'])\n",
        "\n",
        "# Reorder the columns to have transect, date, start_hour, time, and readable start/end times\n",
        "reordered_columns = ['transect', 'date', 'start_hour', 'start_time', 'end_time', 'common_name', 'scientific_name', 'confidence', 'label', 'filename']\n",
        "concatenated_df = concatenated_df[reordered_columns]\n",
        "\n",
        "# Display the first few rows of the concatenated dataframe\n",
        "print(\"\\nNew Dataframe:\")\n",
        "print(concatenated_df.head())\n",
        "print(concatenated_df.tail())\n"
      ],
      "metadata": {
        "id": "CWSfo33QEApG",
        "colab": {
          "base_uri": "https://localhost:8080/"
        },
        "outputId": "e2632efd-269e-42e2-a62f-0b73031d1f01"
      },
      "execution_count": 78,
      "outputs": [
        {
          "output_type": "stream",
          "name": "stdout",
          "text": [
            "\n",
            "New Dataframe:\n",
            "   transect        date  start_hour start_time  end_time         common_name  \\\n",
            "0         1  2023-06-15          18   18:00:03  18:00:06   Eurasian Blackcap   \n",
            "1         1  2023-06-15          18   18:00:06  18:00:09   Eurasian Blackcap   \n",
            "2         1  2023-06-15          18   18:00:12  18:00:15   Eurasian Blackcap   \n",
            "3         1  2023-06-15          18   18:00:18  18:00:21  Eurasian Blackbird   \n",
            "4         1  2023-06-15          18   18:00:21  18:00:24   Eurasian Blackcap   \n",
            "\n",
            "      scientific_name  confidence                                 label  \\\n",
            "0  Sylvia atricapilla    0.490236  Sylvia atricapilla_Eurasian Blackcap   \n",
            "1  Sylvia atricapilla    0.586808  Sylvia atricapilla_Eurasian Blackcap   \n",
            "2  Sylvia atricapilla    0.568825  Sylvia atricapilla_Eurasian Blackcap   \n",
            "3       Turdus merula    0.417446      Turdus merula_Eurasian Blackbird   \n",
            "4  Sylvia atricapilla    0.774901  Sylvia atricapilla_Eurasian Blackcap   \n",
            "\n",
            "                  filename  \n",
            "0  XC1_20230615_180000.wav  \n",
            "1  XC1_20230615_180000.wav  \n",
            "2  XC1_20230615_180000.wav  \n",
            "3  XC1_20230615_180000.wav  \n",
            "4  XC1_20230615_180000.wav  \n",
            "     transect        date  start_hour start_time  end_time     common_name  \\\n",
            "150         2  2020-05-30          17   17:45:45  17:45:48  European Robin   \n",
            "151         2  2020-05-30          17   17:46:24  17:46:27  European Robin   \n",
            "152         2  2020-05-30          17   17:47:24  17:47:27  European Robin   \n",
            "153         2  2020-05-30          17   17:47:36  17:47:39  European Robin   \n",
            "154         2  2020-05-30          17   17:47:45  17:47:48  European Robin   \n",
            "\n",
            "        scientific_name  confidence                              label  \\\n",
            "150  Erithacus rubecula    0.662246  Erithacus rubecula_European Robin   \n",
            "151  Erithacus rubecula    0.394734  Erithacus rubecula_European Robin   \n",
            "152  Erithacus rubecula    0.289836  Erithacus rubecula_European Robin   \n",
            "153  Erithacus rubecula    0.254990  Erithacus rubecula_European Robin   \n",
            "154  Erithacus rubecula    0.331637  Erithacus rubecula_European Robin   \n",
            "\n",
            "                    filename  \n",
            "150  XC2_20200530_171400.wav  \n",
            "151  XC2_20200530_171400.wav  \n",
            "152  XC2_20200530_171400.wav  \n",
            "153  XC2_20200530_171400.wav  \n",
            "154  XC2_20200530_171400.wav  \n"
          ]
        }
      ]
    },
    {
      "cell_type": "code",
      "source": [
        "#@title Save data as a CSV File\n",
        "# Save the concatenated dataframe to a CSV file\n",
        "output_filename = 'XC_25_Merged.csv'\n",
        "concatenated_df.to_csv(output_filename, index=False)\n",
        "print(f\"The combined dataframe has been saved to {output_filename}\")"
      ],
      "metadata": {
        "colab": {
          "base_uri": "https://localhost:8080/"
        },
        "id": "C8RgicXFMMDn",
        "outputId": "a1efea75-c71a-4e8a-807a-9872ffcbe994"
      },
      "execution_count": 79,
      "outputs": [
        {
          "output_type": "stream",
          "name": "stdout",
          "text": [
            "The combined dataframe has been saved to XC_25_Merged.csv\n"
          ]
        }
      ]
    },
    {
      "cell_type": "code",
      "source": [
        "#@title Save Data as a Excel File\n",
        "# Save the dataframe to an Excel file\n",
        "output_file = 'XC_25_Merged.xlsx'\n",
        "concatenated_df.to_excel(output_file, index=False)\n",
        "print(f\"\\nDataframe has been saved to {output_file}\")"
      ],
      "metadata": {
        "colab": {
          "base_uri": "https://localhost:8080/"
        },
        "id": "GufbuM2GMWCv",
        "outputId": "afce5868-abd3-40b5-e56f-1babe8551576"
      },
      "execution_count": 80,
      "outputs": [
        {
          "output_type": "stream",
          "name": "stdout",
          "text": [
            "\n",
            "Dataframe has been saved to XC_25_Merged.xlsx\n"
          ]
        }
      ]
    },
    {
      "cell_type": "code",
      "source": [
        "#@title Load Data and Extract Species Germany\n",
        "from sklearn.metrics import confusion_matrix, classification_report\n",
        "import matplotlib.pyplot as plt\n",
        "import seaborn as sns\n",
        "\n",
        "# File paths for BirdNET predictions with different confidence thresholds\n",
        "csv_file_path10 = '/content/drive/MyDrive/BirdnetProject/Files/data/CSV_data/XC/XC2_1_20200530_171400.csv'\n",
        "csv_file_path25 = '/content/drive/MyDrive/BirdnetProject/Files/data/CSV_data/XC/XC2_25_20200530_171400.csv'\n",
        "csv_file_path40 = '/content/drive/MyDrive/BirdnetProject/Files/data/CSV_data/XC/XC2_40_20200530_171400.csv'\n",
        "\n",
        "# Human detected species (true labels from Xeno-Canto) with scientific names\n",
        "human_detections_scientific = [\n",
        "    \"Regulus ignicapilla\", \"Turdus viscivorus\", \"Columba palumbus\", \"Fringilla coelebs\",\n",
        "    \"Cuculus canorus\", \"Coccothraustes coccothraustes\", \"Turdus philomelos\", \"Sylvia atricapilla\",\n",
        "    \"Turdus merula\", \"Sitta europaea\", \"Dendrocoptes medius\", \"Corvus corone\",\n",
        "    \"Parus major\", \"Erithacus rubecula\", \"Aegithalos caudatus\", \"Accipiter gentilis\",\n",
        "    \"Certhia brachydactyla\", \"Dendrocopos major\", \"Garrulus glandarius\", \"Phylloscopus collybita\",\n",
        "    \"Chloris chloris\", \"Periparus ater\", \"Certhia familiaris\", \"Poecile palustris\",\n",
        "    \"Scolopax rusticola\", \"Sturnus vulgaris\"\n",
        "]\n",
        "\n",
        "# File paths and titles for visualization\n",
        "files = [(csv_file_path10, \"Confidence ≥ 0.1\"), (csv_file_path25, \"Confidence ≥ 0.25\"), (csv_file_path40, \"Confidence ≥ 0.4\")]\n",
        "\n",
        "# Set up the figure for side-by-side plots\n",
        "fig, axes = plt.subplots(1, 3, figsize=(18, 6), sharex=True, sharey=True)\n",
        "plt.subplots_adjust(wspace=0.4)\n",
        "\n",
        "for idx, (file_path, title) in enumerate(files):\n",
        "    # Load BirdNET data\n",
        "    birdnet_df = pd.read_csv(file_path)\n",
        "\n",
        "    # Extract predicted species (scientific names)\n",
        "    predicted_scientific_names = birdnet_df['scientific_name'].tolist()\n",
        "\n",
        "    # Create Combined Species List and Presence/Absence Vectors\n",
        "    all_species = list(set(human_detections_scientific + predicted_scientific_names))\n",
        "    human_vector = [1 if species in human_detections_scientific else 0 for species in all_species]\n",
        "    predicted_vector = [1 if species in predicted_scientific_names else 0 for species in all_species]\n",
        "\n",
        "    # Generate Confusion Matrix\n",
        "    conf_matrix = confusion_matrix(human_vector, predicted_vector)\n",
        "\n",
        "    # Display the confusion matrix\n",
        "    print(f\"\\nConfusion Matrix ({title}):\")\n",
        "    print(conf_matrix)\n",
        "\n",
        "    # Calculate percentages for simplified summary\n",
        "    total_species = len(all_species)\n",
        "    correct_detections = conf_matrix[1, 1]  # True Positives\n",
        "    incorrect_detections = conf_matrix[0, 1] + conf_matrix[1, 0]  # False Positives + False Negatives\n",
        "    false_positive_rate = (conf_matrix[0, 1] / total_species) * 100\n",
        "    false_negative_rate = (conf_matrix[1, 0] / total_species) * 100\n",
        "    detection_rate = (correct_detections / total_species) * 100\n",
        "    incorrect_detection_rate = (incorrect_detections / total_species) * 100\n",
        "\n",
        "    print(f\"\\nDetection Summary ({title}):\")\n",
        "    print(f\"Total species considered: {total_species}\")\n",
        "    print(f\"Correct detections by AI (True Positives): {detection_rate:.2f}%\")\n",
        "    print(f\"Missed & Incorrect detections by AI (False Positives and False Negatives): {incorrect_detection_rate:.2f}%\")\n",
        "    print(f\"  - False Positive Rate: {false_positive_rate:.2f}%\")\n",
        "    print(f\"  - False Negative Rate: {false_negative_rate:.2f}%\")\n",
        "\n",
        "    # Visualize the Confusion Matrix\n",
        "    sns.heatmap(conf_matrix, annot=True, fmt='d', cmap='Blues', ax=axes[idx], cbar=False,\n",
        "                xticklabels=['Absent', 'Present'], yticklabels=['Absent', 'Present'])\n",
        "    axes[idx].set_title(f'Confusion Matrix ({title})')\n",
        "    axes[idx].set_xlabel('Predicted Labels')\n",
        "    axes[idx].set_ylabel('True Labels')\n",
        "\n",
        "plt.tight_layout()\n",
        "plt.show()"
      ],
      "metadata": {
        "colab": {
          "base_uri": "https://localhost:8080/",
          "height": 1000
        },
        "id": "BRmBTKZmSdZK",
        "outputId": "ca051d95-1417-43b9-c366-f9f095c1b945"
      },
      "execution_count": 93,
      "outputs": [
        {
          "output_type": "stream",
          "name": "stdout",
          "text": [
            "\n",
            "Confusion Matrix (Confidence ≥ 0.1):\n",
            "[[ 0  6]\n",
            " [19  7]]\n",
            "\n",
            "Detection Summary (Confidence ≥ 0.1):\n",
            "Total species considered: 32\n",
            "Correct detections by AI (True Positives): 21.88%\n",
            "Missed & Incorrect detections by AI (False Positives and False Negatives): 78.12%\n",
            "  - False Positive Rate: 18.75%\n",
            "  - False Negative Rate: 59.38%\n",
            "\n",
            "Confusion Matrix (Confidence ≥ 0.25):\n",
            "[[ 0  2]\n",
            " [21  5]]\n",
            "\n",
            "Detection Summary (Confidence ≥ 0.25):\n",
            "Total species considered: 28\n",
            "Correct detections by AI (True Positives): 17.86%\n",
            "Missed & Incorrect detections by AI (False Positives and False Negatives): 82.14%\n",
            "  - False Positive Rate: 7.14%\n",
            "  - False Negative Rate: 75.00%\n",
            "\n",
            "Confusion Matrix (Confidence ≥ 0.4):\n",
            "[[ 0  1]\n",
            " [23  3]]\n",
            "\n",
            "Detection Summary (Confidence ≥ 0.4):\n",
            "Total species considered: 27\n",
            "Correct detections by AI (True Positives): 11.11%\n",
            "Missed & Incorrect detections by AI (False Positives and False Negatives): 88.89%\n",
            "  - False Positive Rate: 3.70%\n",
            "  - False Negative Rate: 85.19%\n"
          ]
        },
        {
          "output_type": "display_data",
          "data": {
            "text/plain": [
              "<Figure size 1800x600 with 3 Axes>"
            ],
            "image/png": "[encoded data removed]"
          },
          "metadata": {}
        }
      ]
    },
    {
      "cell_type": "code",
      "source": [
        "#@title Load Data and Extract Species UK\n",
        "# File paths for BirdNET predictions with different confidence thresholds\n",
        "csv_file_path10b = '/content/drive/MyDrive/BirdnetProject/Files/data/CSV_data/XC/XC3_1_20210404_054400.csv'\n",
        "csv_file_path25b = '/content/drive/MyDrive/BirdnetProject/Files/data/CSV_data/XC/XC3_25_20210404_054400.csv'\n",
        "csv_file_path40b = '/content/drive/MyDrive/BirdnetProject/Files/data/CSV_data/XC/XC3_40_20210404_054400.csv'\n",
        "\n",
        "# Human detected species (true labels from Xeno-Canto) with scientific names\n",
        "human_detections_scientific = [\n",
        "    \"Cyanistes caeruleus\", \"Regulus regulus\", \"Anser anser\", \"Columba palumbus\",\n",
        "    \"Turdus philomelos\", \"Turdus merula\", \"Sitta europaea\", \"Branta canadensis\",\n",
        "    \"Corvus corone\", \"Sitta europaea\", \"Dendrocoptes medius\", \"Corvus corone\",\n",
        "    \"Parus major\", \"Parus major\", \"Aix galericulata\", \"Coloeus monedula\",\n",
        "    \"Erithacus rubecula\", \"Strix aluco\", \"Columba oenas\", \"Dendrocopos major\",\n",
        "    \"Troglodytes troglodytes\", \"Periparus ater\", \"Certhia familiaris\", \"Phasianus colchicus\",\n",
        "    \"Anas platyrhynchos\"\n",
        "]\n",
        "\n",
        "# File paths and titles for visualization\n",
        "files = [(csv_file_path10b, \"Confidence ≥ 0.1\"), (csv_file_path25b, \"Confidence ≥ 0.25\"), (csv_file_path40b, \"Confidence ≥ 0.4\")]\n",
        "\n",
        "# Set up the figure for side-by-side plots\n",
        "fig, axes = plt.subplots(1, 3, figsize=(18, 6), sharex=True, sharey=True)\n",
        "plt.subplots_adjust(wspace=0.4)\n",
        "\n",
        "for idx, (file_path, title) in enumerate(files):\n",
        "    # Load BirdNET data\n",
        "    birdnet_df = pd.read_csv(file_path)\n",
        "\n",
        "    # Extract predicted species (scientific names)\n",
        "    predicted_scientific_names = birdnet_df['scientific_name'].tolist()\n",
        "\n",
        "    # Create Combined Species List and Presence/Absence Vectors\n",
        "    all_species = list(set(human_detections_scientific + predicted_scientific_names))\n",
        "    human_vector = [1 if species in human_detections_scientific else 0 for species in all_species]\n",
        "    predicted_vector = [1 if species in predicted_scientific_names else 0 for species in all_species]\n",
        "\n",
        "    # Generate Confusion Matrix\n",
        "    conf_matrix = confusion_matrix(human_vector, predicted_vector)\n",
        "\n",
        "    # Display the confusion matrix\n",
        "    print(f\"\\nConfusion Matrix ({title}):\")\n",
        "    print(conf_matrix)\n",
        "\n",
        "    # Calculate percentages for simplified summary\n",
        "    total_species = len(all_species)\n",
        "    correct_detections = conf_matrix[1, 1]  # True Positives\n",
        "    incorrect_detections = conf_matrix[0, 1] + conf_matrix[1, 0]  # False Positives + False Negatives\n",
        "    false_positive_rate = (conf_matrix[0, 1] / total_species) * 100\n",
        "    false_negative_rate = (conf_matrix[1, 0] / total_species) * 100\n",
        "    detection_rate = (correct_detections / total_species) * 100\n",
        "    incorrect_detection_rate = (incorrect_detections / total_species) * 100\n",
        "\n",
        "    print(f\"\\nDetection Summary ({title}):\")\n",
        "    print(f\"Total species considered: {total_species}\")\n",
        "    print(f\"Correct detections by AI (True Positives): {detection_rate:.2f}%\")\n",
        "    print(f\"Missed & Incorrect detections by AI (False Positives and False Negatives): {incorrect_detection_rate:.2f}%\")\n",
        "    print(f\"  - False Positive Rate: {false_positive_rate:.2f}%\")\n",
        "    print(f\"  - False Negative Rate: {false_negative_rate:.2f}%\")\n",
        "\n",
        "    # Visualize the Confusion Matrix\n",
        "    sns.heatmap(conf_matrix, annot=True, fmt='d', cmap='Blues', ax=axes[idx], cbar=False,\n",
        "                xticklabels=['Absent', 'Present'], yticklabels=['Absent', 'Present'])\n",
        "    axes[idx].set_title(f'Confusion Matrix ({title})')\n",
        "    axes[idx].set_xlabel('Predicted Labels')\n",
        "    axes[idx].set_ylabel('True Labels')\n",
        "\n",
        "plt.tight_layout()\n",
        "plt.show()\n"
      ],
      "metadata": {
        "colab": {
          "base_uri": "https://localhost:8080/",
          "height": 1000
        },
        "id": "50qJyLqnqZRs",
        "outputId": "1918bc48-8e1f-4b87-cc2c-35cffc669cf4"
      },
      "execution_count": 92,
      "outputs": [
        {
          "output_type": "stream",
          "name": "stdout",
          "text": [
            "\n",
            "Confusion Matrix (Confidence ≥ 0.1):\n",
            "[[ 0 17]\n",
            " [ 9 13]]\n",
            "\n",
            "Detection Summary (Confidence ≥ 0.1):\n",
            "Total species considered: 39\n",
            "Correct detections by AI (True Positives): 33.33%\n",
            "Missed & Incorrect detections by AI (False Positives and False Negatives): 66.67%\n",
            "  - False Positive Rate: 43.59%\n",
            "  - False Negative Rate: 23.08%\n",
            "\n",
            "Confusion Matrix (Confidence ≥ 0.25):\n",
            "[[ 0  5]\n",
            " [11 11]]\n",
            "\n",
            "Detection Summary (Confidence ≥ 0.25):\n",
            "Total species considered: 27\n",
            "Correct detections by AI (True Positives): 40.74%\n",
            "Missed & Incorrect detections by AI (False Positives and False Negatives): 59.26%\n",
            "  - False Positive Rate: 18.52%\n",
            "  - False Negative Rate: 40.74%\n",
            "\n",
            "Confusion Matrix (Confidence ≥ 0.4):\n",
            "[[ 0  2]\n",
            " [12 10]]\n",
            "\n",
            "Detection Summary (Confidence ≥ 0.4):\n",
            "Total species considered: 24\n",
            "Correct detections by AI (True Positives): 41.67%\n",
            "Missed & Incorrect detections by AI (False Positives and False Negatives): 58.33%\n",
            "  - False Positive Rate: 8.33%\n",
            "  - False Negative Rate: 50.00%\n"
          ]
        },
        {
          "output_type": "display_data",
          "data": {
            "text/plain": [
              "<Figure size 1800x600 with 3 Axes>"
            ],
            "image/png": "[encoded data removed]"
          },
          "metadata": {}
        }
      ]
    },
    {
      "cell_type": "code",
      "source": [],
      "metadata": {
        "id": "_yMHajKur6Xh"
      },
      "execution_count": null,
      "outputs": []
    }
  ]
}