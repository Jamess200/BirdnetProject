{
  "nbformat": 4,
  "nbformat_minor": 0,
  "metadata": {
    "colab": {
      "provenance": [],
      "mount_file_id": "https://github.com/Jamess200/BirdnetProject/blob/main/Files/Human_Vs_AI/Main_AI_Human.ipynb",
      "authorship_tag": "ABX9TyOXoiSbaqLE+ziGqLfy5IrT",
      "include_colab_link": true
    },
    "kernelspec": {
      "name": "python3",
      "display_name": "Python 3"
    },
    "language_info": {
      "name": "python"
    }
  },
  "cells": [
    {
      "cell_type": "markdown",
      "metadata": {
        "id": "view-in-github",
        "colab_type": "text"
      },
      "source": [
        "<a href=\"https://colab.research.google.com/github/Jamess200/BirdnetProject/blob/main/Files/scripts/Main_AI_Human.ipynb\" target=\"_parent\"><img src=\"https://colab.research.google.com/assets/colab-badge.svg\" alt=\"Open In Colab\"/></a>"
      ]
    },
    {
      "cell_type": "code",
      "source": [
        "#@title **<------------ Part 1 ------------>**"
      ],
      "metadata": {
        "id": "IhO7E-UHdg6x"
      },
      "execution_count": null,
      "outputs": []
    },
    {
      "cell_type": "code",
      "source": [
        "#@title **Audio Processing and CSV Creation - BirdNET Analysis Notebook**\n",
        "# This notebook guides you through analysing bird audio recordings using BirdNET."
      ],
      "metadata": {
        "id": "UBQ0gb-zJaF7"
      },
      "execution_count": null,
      "outputs": []
    },
    {
      "cell_type": "code",
      "source": [
        "#@title **Step 1: Install & Import Required Libraries**\n",
        "# Install PyDrive to download files from Google Drive, and other packages for processing.\n",
        "!pip install PyDrive birdnetlib tflite-runtime resampy ffmpeg pygbif mplcursors\n",
        "\n",
        "# Import necessary libraries for BirdNET\n",
        "import resampy\n",
        "import birdnetlib\n",
        "import tflite_runtime\n",
        "import ffmpeg\n",
        "import pandas as pd\n",
        "import numpy as np\n",
        "import matplotlib.pyplot as plt\n",
        "import seaborn as sns\n",
        "import mplcursors\n",
        "import os\n",
        "import re\n",
        "from google.colab import drive\n",
        "from google.colab import files\n",
        "from sklearn.metrics import confusion_matrix, classification_report\n",
        "from birdnetlib import Recording\n",
        "from birdnetlib.analyzer import Analyzer\n",
        "from datetime import datetime\n",
        "from pygbif import occurrences\n",
        "from pydrive.auth import GoogleAuth\n",
        "from pydrive.drive import GoogleDrive\n",
        "from google.colab import auth\n",
        "from oauth2client.client import GoogleCredentials"
      ],
      "metadata": {
        "colab": {
          "base_uri": "https://localhost:8080/"
        },
        "id": "6STr5lGE9sFd",
        "outputId": "c07fbcf4-0aff-4e6f-8bc2-ff9465dc32c4"
      },
      "execution_count": 15,
      "outputs": [
        {
          "output_type": "stream",
          "name": "stdout",
          "text": [
            "Requirement already satisfied: PyDrive in /usr/local/lib/python3.10/dist-packages (1.3.1)\n",
            "Requirement already satisfied: birdnetlib in /usr/local/lib/python3.10/dist-packages (0.17.2)\n",
            "Requirement already satisfied: tflite-runtime in /usr/local/lib/python3.10/dist-packages (2.14.0)\n",
            "Requirement already satisfied: resampy in /usr/local/lib/python3.10/dist-packages (0.4.3)\n",
            "Requirement already satisfied: ffmpeg in /usr/local/lib/python3.10/dist-packages (1.4)\n",
            "Requirement already satisfied: pygbif in /usr/local/lib/python3.10/dist-packages (0.6.4)\n",
            "Requirement already satisfied: mplcursors in /usr/local/lib/python3.10/dist-packages (0.5.3)\n",
            "Requirement already satisfied: google-api-python-client>=1.2 in /usr/local/lib/python3.10/dist-packages (from PyDrive) (2.137.0)\n",
            "Requirement already satisfied: oauth2client>=4.0.0 in /usr/local/lib/python3.10/dist-packages (from PyDrive) (4.1.3)\n",
            "Requirement already satisfied: PyYAML>=3.0 in /usr/local/lib/python3.10/dist-packages (from PyDrive) (6.0.2)\n",
            "Requirement already satisfied: matplotlib>=3.5.3 in /usr/local/lib/python3.10/dist-packages (from birdnetlib) (3.9.2)\n",
            "Requirement already satisfied: pydub==0.25.1 in /usr/local/lib/python3.10/dist-packages (from birdnetlib) (0.25.1)\n",
            "Requirement already satisfied: requests>=2.28.1 in /usr/local/lib/python3.10/dist-packages (from birdnetlib) (2.32.3)\n",
            "Requirement already satisfied: watchdog==2.1.9 in /usr/local/lib/python3.10/dist-packages (from birdnetlib) (2.1.9)\n",
            "Requirement already satisfied: numpy>=1.23.2 in /usr/local/lib/python3.10/dist-packages (from tflite-runtime) (1.26.4)\n",
            "Requirement already satisfied: numba>=0.53 in /usr/local/lib/python3.10/dist-packages (from resampy) (0.60.0)\n",
            "Requirement already satisfied: requests-cache in /usr/local/lib/python3.10/dist-packages (from pygbif) (1.2.1)\n",
            "Requirement already satisfied: geojson-rewind in /usr/local/lib/python3.10/dist-packages (from pygbif) (1.1.0)\n",
            "Requirement already satisfied: geomet in /usr/local/lib/python3.10/dist-packages (from pygbif) (1.1.0)\n",
            "Requirement already satisfied: appdirs>=1.4.3 in /usr/local/lib/python3.10/dist-packages (from pygbif) (1.4.4)\n",
            "Requirement already satisfied: httplib2<1.dev0,>=0.19.0 in /usr/local/lib/python3.10/dist-packages (from google-api-python-client>=1.2->PyDrive) (0.22.0)\n",
            "Requirement already satisfied: google-auth!=2.24.0,!=2.25.0,<3.0.0.dev0,>=1.32.0 in /usr/local/lib/python3.10/dist-packages (from google-api-python-client>=1.2->PyDrive) (2.27.0)\n",
            "Requirement already satisfied: google-auth-httplib2<1.0.0,>=0.2.0 in /usr/local/lib/python3.10/dist-packages (from google-api-python-client>=1.2->PyDrive) (0.2.0)\n",
            "Requirement already satisfied: google-api-core!=2.0.*,!=2.1.*,!=2.2.*,!=2.3.0,<3.0.0.dev0,>=1.31.5 in /usr/local/lib/python3.10/dist-packages (from google-api-python-client>=1.2->PyDrive) (2.19.1)\n",
            "Requirement already satisfied: uritemplate<5,>=3.0.1 in /usr/local/lib/python3.10/dist-packages (from google-api-python-client>=1.2->PyDrive) (4.1.1)\n",
            "Requirement already satisfied: contourpy>=1.0.1 in /usr/local/lib/python3.10/dist-packages (from matplotlib>=3.5.3->birdnetlib) (1.2.1)\n",
            "Requirement already satisfied: cycler>=0.10 in /usr/local/lib/python3.10/dist-packages (from matplotlib>=3.5.3->birdnetlib) (0.12.1)\n",
            "Requirement already satisfied: fonttools>=4.22.0 in /usr/local/lib/python3.10/dist-packages (from matplotlib>=3.5.3->birdnetlib) (4.53.1)\n",
            "Requirement already satisfied: kiwisolver>=1.3.1 in /usr/local/lib/python3.10/dist-packages (from matplotlib>=3.5.3->birdnetlib) (1.4.5)\n",
            "Requirement already satisfied: packaging>=20.0 in /usr/local/lib/python3.10/dist-packages (from matplotlib>=3.5.3->birdnetlib) (24.1)\n",
            "Requirement already satisfied: pillow>=8 in /usr/local/lib/python3.10/dist-packages (from matplotlib>=3.5.3->birdnetlib) (9.4.0)\n",
            "Requirement already satisfied: pyparsing>=2.3.1 in /usr/local/lib/python3.10/dist-packages (from matplotlib>=3.5.3->birdnetlib) (3.1.2)\n",
            "Requirement already satisfied: python-dateutil>=2.7 in /usr/local/lib/python3.10/dist-packages (from matplotlib>=3.5.3->birdnetlib) (2.8.2)\n",
            "Requirement already satisfied: llvmlite<0.44,>=0.43.0dev0 in /usr/local/lib/python3.10/dist-packages (from numba>=0.53->resampy) (0.43.0)\n",
            "Requirement already satisfied: pyasn1>=0.1.7 in /usr/local/lib/python3.10/dist-packages (from oauth2client>=4.0.0->PyDrive) (0.6.0)\n",
            "Requirement already satisfied: pyasn1-modules>=0.0.5 in /usr/local/lib/python3.10/dist-packages (from oauth2client>=4.0.0->PyDrive) (0.4.0)\n",
            "Requirement already satisfied: rsa>=3.1.4 in /usr/local/lib/python3.10/dist-packages (from oauth2client>=4.0.0->PyDrive) (4.9)\n",
            "Requirement already satisfied: six>=1.6.1 in /usr/local/lib/python3.10/dist-packages (from oauth2client>=4.0.0->PyDrive) (1.16.0)\n",
            "Requirement already satisfied: charset-normalizer<4,>=2 in /usr/local/lib/python3.10/dist-packages (from requests>=2.28.1->birdnetlib) (3.3.2)\n",
            "Requirement already satisfied: idna<4,>=2.5 in /usr/local/lib/python3.10/dist-packages (from requests>=2.28.1->birdnetlib) (3.7)\n",
            "Requirement already satisfied: urllib3<3,>=1.21.1 in /usr/local/lib/python3.10/dist-packages (from requests>=2.28.1->birdnetlib) (2.0.7)\n",
            "Requirement already satisfied: certifi>=2017.4.17 in /usr/local/lib/python3.10/dist-packages (from requests>=2.28.1->birdnetlib) (2024.7.4)\n",
            "Requirement already satisfied: click in /usr/local/lib/python3.10/dist-packages (from geomet->pygbif) (8.1.7)\n",
            "Requirement already satisfied: attrs>=21.2 in /usr/local/lib/python3.10/dist-packages (from requests-cache->pygbif) (24.2.0)\n",
            "Requirement already satisfied: cattrs>=22.2 in /usr/local/lib/python3.10/dist-packages (from requests-cache->pygbif) (23.2.3)\n",
            "Requirement already satisfied: platformdirs>=2.5 in /usr/local/lib/python3.10/dist-packages (from requests-cache->pygbif) (4.2.2)\n",
            "Requirement already satisfied: url-normalize>=1.4 in /usr/local/lib/python3.10/dist-packages (from requests-cache->pygbif) (1.4.3)\n",
            "Requirement already satisfied: exceptiongroup>=1.1.1 in /usr/local/lib/python3.10/dist-packages (from cattrs>=22.2->requests-cache->pygbif) (1.2.2)\n",
            "Requirement already satisfied: typing-extensions!=4.6.3,>=4.1.0 in /usr/local/lib/python3.10/dist-packages (from cattrs>=22.2->requests-cache->pygbif) (4.12.2)\n",
            "Requirement already satisfied: googleapis-common-protos<2.0.dev0,>=1.56.2 in /usr/local/lib/python3.10/dist-packages (from google-api-core!=2.0.*,!=2.1.*,!=2.2.*,!=2.3.0,<3.0.0.dev0,>=1.31.5->google-api-python-client>=1.2->PyDrive) (1.63.2)\n",
            "Requirement already satisfied: protobuf!=3.20.0,!=3.20.1,!=4.21.0,!=4.21.1,!=4.21.2,!=4.21.3,!=4.21.4,!=4.21.5,<6.0.0.dev0,>=3.19.5 in /usr/local/lib/python3.10/dist-packages (from google-api-core!=2.0.*,!=2.1.*,!=2.2.*,!=2.3.0,<3.0.0.dev0,>=1.31.5->google-api-python-client>=1.2->PyDrive) (3.20.3)\n",
            "Requirement already satisfied: proto-plus<2.0.0dev,>=1.22.3 in /usr/local/lib/python3.10/dist-packages (from google-api-core!=2.0.*,!=2.1.*,!=2.2.*,!=2.3.0,<3.0.0.dev0,>=1.31.5->google-api-python-client>=1.2->PyDrive) (1.24.0)\n",
            "Requirement already satisfied: cachetools<6.0,>=2.0.0 in /usr/local/lib/python3.10/dist-packages (from google-auth!=2.24.0,!=2.25.0,<3.0.0.dev0,>=1.32.0->google-api-python-client>=1.2->PyDrive) (5.4.0)\n"
          ]
        }
      ]
    },
    {
      "cell_type": "code",
      "source": [
        "#@title **Step 2: Authenticate and Create PyDrive Client**\n",
        "# This step authenticates with Google to access the shared folder on Google Drive.\n",
        "\n",
        "# Authenticate and create the PyDrive client\n",
        "auth.authenticate_user()\n",
        "gauth = GoogleAuth()\n",
        "gauth.credentials = GoogleCredentials.get_application_default()\n",
        "drive = GoogleDrive(gauth)\n",
        "\n",
        "print(\"Authentication successful. You can now access files from the shared Google Drive folder.\")"
      ],
      "metadata": {
        "id": "ib3Gj3iNWzF2",
        "outputId": "bb5cfd5a-767f-4ca8-c59b-d07c1744666a",
        "colab": {
          "base_uri": "https://localhost:8080/"
        }
      },
      "execution_count": 11,
      "outputs": [
        {
          "output_type": "stream",
          "name": "stdout",
          "text": [
            "Authentication successful. You can now access files from the shared Google Drive folder.\n"
          ]
        }
      ]
    },
    {
      "cell_type": "code",
      "source": [
        "#@title **Step 3: Clone the GitHub Repository**\n",
        "# This step clones the required GitHub repository into the Colab environment.\n",
        "\n",
        "# Define the path where the repository will be cloned\n",
        "repo_path = '/content/BirdnetProject'\n",
        "\n",
        "# Check if the repository already exists\n",
        "if not os.path.exists(repo_path):\n",
        "    # Clone the repository if it doesn't exist\n",
        "    !git clone https://github.com/Jamess200/BirdnetProject\n",
        "else:\n",
        "    # If the repository exists, pull the latest changes\n",
        "    os.chdir(repo_path)\n",
        "    !git pull\n",
        "\n",
        "# Verify cloned repository\n",
        "print(\"Repository contents:\")\n",
        "!ls /content/BirdnetProject"
      ],
      "metadata": {
        "id": "CPfnA6GjBNJs",
        "outputId": "4effe74b-5ea0-4294-c935-a2d032dc2cb8",
        "colab": {
          "base_uri": "https://localhost:8080/"
        }
      },
      "execution_count": 24,
      "outputs": [
        {
          "output_type": "stream",
          "name": "stdout",
          "text": [
            "remote: Enumerating objects: 13, done.\u001b[K\n",
            "remote: Counting objects:   7% (1/13)\u001b[K\rremote: Counting objects:  15% (2/13)\u001b[K\rremote: Counting objects:  23% (3/13)\u001b[K\rremote: Counting objects:  30% (4/13)\u001b[K\rremote: Counting objects:  38% (5/13)\u001b[K\rremote: Counting objects:  46% (6/13)\u001b[K\rremote: Counting objects:  53% (7/13)\u001b[K\rremote: Counting objects:  61% (8/13)\u001b[K\rremote: Counting objects:  69% (9/13)\u001b[K\rremote: Counting objects:  76% (10/13)\u001b[K\rremote: Counting objects:  84% (11/13)\u001b[K\rremote: Counting objects:  92% (12/13)\u001b[K\rremote: Counting objects: 100% (13/13)\u001b[K\rremote: Counting objects: 100% (13/13), done.\u001b[K\n",
            "remote: Compressing objects:  25% (1/4)\u001b[K\rremote: Compressing objects:  50% (2/4)\u001b[K\rremote: Compressing objects:  75% (3/4)\u001b[K\rremote: Compressing objects: 100% (4/4)\u001b[K\rremote: Compressing objects: 100% (4/4), done.\u001b[K\n",
            "Unpacking objects:  14% (1/7)\rUnpacking objects:  28% (2/7)\rUnpacking objects:  42% (3/7)\rUnpacking objects:  57% (4/7)\rUnpacking objects:  71% (5/7)\rUnpacking objects:  85% (6/7)\rremote: Total 7 (delta 3), reused 7 (delta 3), pack-reused 0 (from 0)\u001b[K\n",
            "Unpacking objects: 100% (7/7)\rUnpacking objects: 100% (7/7), 15.22 KiB | 974.00 KiB/s, done.\n",
            "From https://github.com/Jamess200/BirdnetProject\n",
            "   bdf5d17..c8e7f84  main       -> origin/main\n",
            "Updating bdf5d17..c8e7f84\n",
            "Fast-forward\n",
            " Files/data/xlsx_data/Drafts/HAU_IOC_Joined.xlsx | Bin \u001b[31m18280\u001b[m -> \u001b[32m15777\u001b[m bytes\n",
            " 1 file changed, 0 insertions(+), 0 deletions(-)\n",
            "Repository contents:\n",
            "Files  HAU_IOC_Joined.xlsx  README.md\n"
          ]
        }
      ]
    },
    {
      "cell_type": "code",
      "execution_count": null,
      "metadata": {
        "id": "YoUfTX4x9MPW"
      },
      "outputs": [],
      "source": [
        "#@title **Step 4: Define Helper Functions**\n",
        "# These functions help to download the test audio file from my Google Drive folder to a local directory and list files.\n",
        "\n",
        "def download_files_from_drive(folder_id, destination):\n",
        "    \"\"\"\n",
        "    Download all files from a Google Drive folder to a local directory.\n",
        "\n",
        "    :param folder_id: str, The ID of the Google Drive folder\n",
        "    :param destination: str, The local directory to save the files\n",
        "    \"\"\"\n",
        "    # List all files in the shared folder\n",
        "    file_list = drive.ListFile({'q': f\"'{folder_id}' in parents and trashed=false\"}).GetList()\n",
        "\n",
        "    # Create a directory to store the downloaded audio files\n",
        "    os.makedirs(destination, exist_ok=True)\n",
        "\n",
        "    # Download each file to the local directory\n",
        "    for file in file_list:\n",
        "        file_id = file['id']\n",
        "        file_name = file['title']\n",
        "        file_path = os.path.join(destination, file_name)\n",
        "        print(f\"Downloading {file_name}...\")\n",
        "        downloaded_file = drive.CreateFile({'id': file_id})\n",
        "        downloaded_file.GetContentFile(file_path)\n",
        "    print(\"All files downloaded successfully!\")\n",
        "\n",
        "def list_files_in_directory(directory):\n",
        "    \"\"\"\n",
        "    List all files in a directory and print their names.\n",
        "\n",
        "    :param directory: str, The directory to list files\n",
        "    \"\"\"\n",
        "    file_names = os.listdir(directory)\n",
        "    print(f\"Files in {directory}:\")\n",
        "    for file_name in file_names:\n",
        "        print(file_name)\n",
        "    return file_names"
      ]
    },
    {
      "cell_type": "code",
      "source": [
        "#@title **Step 5: Download Audio Files from Google Drive**\n",
        "# This step will download all audio files from the shared Google Drive folder to the local directory.\n",
        "\n",
        "# Replace the folder ID with your shared folder's ID\n",
        "folder_id = '1PAkwwWpQY5Y8vgvkmVYm5Z_oKBVfr3e_'  # Update this with your folder ID\n",
        "dataDir = '/content/audio_files'\n",
        "\n",
        "# Download files from Google Drive\n",
        "download_files_from_drive(folder_id, dataDir)\n",
        "\n",
        "# List all files in the directory to verify download\n",
        "file_names = list_files_in_directory(dataDir)"
      ],
      "metadata": {
        "id": "ue-RsKMmISyR",
        "outputId": "b7e4772f-5742-40e1-903f-a3f82c02d25c",
        "colab": {
          "base_uri": "https://localhost:8080/"
        }
      },
      "execution_count": null,
      "outputs": [
        {
          "output_type": "stream",
          "name": "stdout",
          "text": [
            "Downloading XC3_20210404_054400.mp3...\n",
            "All files downloaded successfully!\n",
            "Files in /content/audio_files:\n",
            "XC3_20210404_054400.mp3\n"
          ]
        }
      ]
    },
    {
      "cell_type": "code",
      "source": [
        "\n",
        "#@title **Step 6: Initialise BirdNET Analyzer and Process Audio Files**\n",
        "# This step initialises the BirdNET-Analyzer model and processes the downloaded audio files.\n",
        "# Initialise BirdNET-Analyzer model\n",
        "analyzer = Analyzer()\n",
        "\n",
        "# Define the coordinates and date for the recordings\n",
        "coordinates = [51.7813, -2.5745]  # Replace with your coordinates (Latitude, Longitude)\n",
        "recording_date = datetime(year=2021, month=4, day=4)\n",
        "\n",
        "# Analyse Audio Files and Store Results\n",
        "results = {}\n",
        "\n",
        "for file_name in file_names:\n",
        "    try:\n",
        "        file_path = os.path.join(dataDir, file_name)\n",
        "\n",
        "        # Skip directories\n",
        "        if os.path.isdir(file_path):\n",
        "            continue\n",
        "\n",
        "        # Skip non-audio files\n",
        "        if not file_name.lower().endswith(('.wav', '.mp3', '.flac')):\n",
        "            print(f\"Skipping non-audio file: {file_name}\")\n",
        "            continue\n",
        "\n",
        "        # Initialise a Recording object\n",
        "        recording = Recording(\n",
        "            analyzer,\n",
        "            file_path,  # path to the recording file\n",
        "            lat=coordinates[0],  # latitude of the recording location\n",
        "            lon=coordinates[1],  # longitude of the recording location\n",
        "            date=recording_date,  # the date of the recording\n",
        "            min_conf=0.1,  # Set Minimum Confidence\n",
        "        )\n",
        "\n",
        "        # Analyze the recording\n",
        "        recording.analyze()\n",
        "\n",
        "        # Store the results\n",
        "        results[file_name] = recording.detections\n",
        "\n",
        "    except Exception as e:\n",
        "        print(f\"Error processing {file_name}: {e}\")"
      ],
      "metadata": {
        "colab": {
          "base_uri": "https://localhost:8080/"
        },
        "id": "9ke3hNq79dxN",
        "outputId": "62a501dc-695c-42f3-955a-86bca3282683"
      },
      "execution_count": null,
      "outputs": [
        {
          "output_type": "stream",
          "name": "stdout",
          "text": [
            "Labels loaded.\n",
            "load model True\n",
            "Model loaded.\n",
            "Labels loaded.\n",
            "load_species_list_model\n",
            "Meta model loaded.\n",
            "read_audio_data\n",
            "read_audio_data: complete, read  1464 chunks.\n",
            "analyze_recording XC3_20210404_054400.mp3\n",
            "recording has lon/lat\n",
            "set_predicted_species_list_from_position\n",
            "return_predicted_species_list\n",
            "13\n",
            "141 species loaded.\n"
          ]
        }
      ]
    },
    {
      "cell_type": "code",
      "source": [
        "#@title **Step 7: Convert Results to DataFrame and Save as CSV**\n",
        "# Flatten the results dictionary and convert it to a DataFrame. Save the DataFrame as a CSV file.\n",
        "\n",
        "flattened_data = []\n",
        "for filename, records in results.items():\n",
        "    for record in records:\n",
        "        record['filename'] = filename\n",
        "        flattened_data.append(record)\n",
        "\n",
        "# Convert the flattened data to a DataFrame\n",
        "df = pd.DataFrame(flattened_data)\n",
        "\n",
        "# Define the path to save the CSV file\n",
        "csv_file_path = '/content/BirdnetProject/Files/data/CSV_data/XC/XC3_1_20210404_054400.csv'\n",
        "os.makedirs(os.path.dirname(csv_file_path), exist_ok=True)\n",
        "\n",
        "# Save the DataFrame to a CSV file\n",
        "df.to_csv(csv_file_path, index=False)\n",
        "\n",
        "print(f\"Results have been successfully converted to CSV and saved to {csv_file_path}\")\n"
      ],
      "metadata": {
        "colab": {
          "base_uri": "https://localhost:8080/"
        },
        "id": "ZDJ6voT6KQ8k",
        "outputId": "01601dd8-f474-45a3-a60b-95d4e120b4f0"
      },
      "execution_count": null,
      "outputs": [
        {
          "output_type": "stream",
          "name": "stdout",
          "text": [
            "Results have been successfully converted to CSV and saved to /content/BirdnetProject/Files/data/CSV_data/XC/XC3_1_20210404_054400.csv\n"
          ]
        }
      ]
    },
    {
      "cell_type": "code",
      "execution_count": null,
      "metadata": {
        "id": "HLU34dwg2fR4",
        "outputId": "8ae1908c-2475-453c-d608-eb3bcf00007a",
        "colab": {
          "base_uri": "https://localhost:8080/"
        },
        "collapsed": true
      },
      "outputs": [
        {
          "output_type": "stream",
          "name": "stdout",
          "text": [
            "            common_name      scientific_name  start_time  end_time  \\\n",
            "0        European Robin   Erithacus rubecula       195.0     198.0   \n",
            "1             Goldcrest      Regulus regulus       273.0     276.0   \n",
            "2      Common Firecrest  Regulus ignicapilla       423.0     426.0   \n",
            "3  Eurasian Treecreeper   Certhia familiaris       447.0     450.0   \n",
            "4    Common Wood-Pigeon     Columba palumbus       555.0     558.0   \n",
            "\n",
            "   confidence                                    label  \\\n",
            "0    0.103502        Erithacus rubecula_European Robin   \n",
            "1    0.175837                Regulus regulus_Goldcrest   \n",
            "2    0.103631     Regulus ignicapilla_Common Firecrest   \n",
            "3    0.271523  Certhia familiaris_Eurasian Treecreeper   \n",
            "4    0.110816      Columba palumbus_Common Wood-Pigeon   \n",
            "\n",
            "                  filename  \n",
            "0  XC3_20210404_054400.mp3  \n",
            "1  XC3_20210404_054400.mp3  \n",
            "2  XC3_20210404_054400.mp3  \n",
            "3  XC3_20210404_054400.mp3  \n",
            "4  XC3_20210404_054400.mp3  \n"
          ]
        }
      ],
      "source": [
        "#@title **Step 8: Load and Verify CSV Data**\n",
        "# Load the saved CSV file into a DataFrame to verify the contents\n",
        "\n",
        "# Load the CSV file\n",
        "df = pd.read_csv(csv_file_path)\n",
        "\n",
        "# Print the first few rows of the DataFrame to verify the data\n",
        "print(df.head())"
      ]
    },
    {
      "cell_type": "code",
      "source": [
        "#@title **Step 9: Save CSV File to Desired Location**\n",
        "# This step allows users to save the CSV file to their desired location.\n",
        "\n",
        "# Ask the user where they want to save the CSV file\n",
        "save_option = input(\"Where would you like to save the CSV file? Enter 'local' to download to your device or 'drive' to save to Google Drive: \")\n",
        "\n",
        "if save_option.lower() == 'drive':\n",
        "    # Mount Google Drive\n",
        "    drive.mount('/content/drive')\n",
        "    drive_csv_path = input(\"Enter the path in your Google Drive where you want to save the CSV file (e.g., /content/drive/MyDrive/BirdnetProject/Files/data/CSV_data/): \")\n",
        "    drive_csv_path = os.path.join(drive_csv_path, os.path.basename(csv_file_path))\n",
        "    # Copy the file to Google Drive\n",
        "    !cp {csv_file_path} {drive_csv_path}\n",
        "    print(f\"CSV file saved to your Google Drive at {drive_csv_path}\")\n",
        "elif save_option.lower() == 'local':\n",
        "    # Download the file to the user's local device\n",
        "    files.download(csv_file_path)\n",
        "    print(\"CSV file downloaded to your local device.\")\n",
        "else:\n",
        "    print(\"Invalid option. Please enter 'local' or 'drive'.\")"
      ],
      "metadata": {
        "colab": {
          "base_uri": "https://localhost:8080/",
          "height": 72
        },
        "id": "Wr3GNxvlQCUe",
        "outputId": "cbb5c334-0914-47ac-e80c-959d5a2df290"
      },
      "execution_count": null,
      "outputs": [
        {
          "name": "stdout",
          "output_type": "stream",
          "text": [
            "Where would you like to save the CSV file? Enter 'local' to download to your device or 'drive' to save to Google Drive: local\n"
          ]
        },
        {
          "output_type": "display_data",
          "data": {
            "text/plain": [
              "<IPython.core.display.Javascript object>"
            ],
            "application/javascript": [
              "\n",
              "    async function download(id, filename, size) {\n",
              "      if (!google.colab.kernel.accessAllowed) {\n",
              "        return;\n",
              "      }\n",
              "      const div = document.createElement('div');\n",
              "      const label = document.createElement('label');\n",
              "      label.textContent = `Downloading \"${filename}\": `;\n",
              "      div.appendChild(label);\n",
              "      const progress = document.createElement('progress');\n",
              "      progress.max = size;\n",
              "      div.appendChild(progress);\n",
              "      document.body.appendChild(div);\n",
              "\n",
              "      const buffers = [];\n",
              "      let downloaded = 0;\n",
              "\n",
              "      const channel = await google.colab.kernel.comms.open(id);\n",
              "      // Send a message to notify the kernel that we're ready.\n",
              "      channel.send({})\n",
              "\n",
              "      for await (const message of channel.messages) {\n",
              "        // Send a message to notify the kernel that we're ready.\n",
              "        channel.send({})\n",
              "        if (message.buffers) {\n",
              "          for (const buffer of message.buffers) {\n",
              "            buffers.push(buffer);\n",
              "            downloaded += buffer.byteLength;\n",
              "            progress.value = downloaded;\n",
              "          }\n",
              "        }\n",
              "      }\n",
              "      const blob = new Blob(buffers, {type: 'application/binary'});\n",
              "      const a = document.createElement('a');\n",
              "      a.href = window.URL.createObjectURL(blob);\n",
              "      a.download = filename;\n",
              "      div.appendChild(a);\n",
              "      a.click();\n",
              "      div.remove();\n",
              "    }\n",
              "  "
            ]
          },
          "metadata": {}
        },
        {
          "output_type": "display_data",
          "data": {
            "text/plain": [
              "<IPython.core.display.Javascript object>"
            ],
            "application/javascript": [
              "download(\"download_8d87c4ce-d92a-46f6-981d-7174dd3647af\", \"XC3_1_20210404_054400.csv\", 70116)"
            ]
          },
          "metadata": {}
        },
        {
          "output_type": "stream",
          "name": "stdout",
          "text": [
            "CSV file downloaded to your local device.\n"
          ]
        }
      ]
    },
    {
      "cell_type": "code",
      "source": [
        "#@title **<------------ Part 2 ------------>**"
      ],
      "metadata": {
        "id": "BQ1pUokMea8N"
      },
      "execution_count": null,
      "outputs": []
    },
    {
      "cell_type": "code",
      "source": [
        "#@title **Creating Merged Dataframe Files**"
      ],
      "metadata": {
        "id": "SgD5AnLZeyrz"
      },
      "execution_count": null,
      "outputs": []
    },
    {
      "cell_type": "code",
      "source": [
        "#@title **Step 1: Change Working Directory**\n",
        "# Change working directory to defined path\n",
        "os.chdir('/content/drive/MyDrive/BirdnetProject/Files/data/CSV_data/XC')\n",
        "\n",
        "# Verify working directory\n",
        "print(os.getcwd())"
      ],
      "metadata": {
        "colab": {
          "base_uri": "https://localhost:8080/"
        },
        "id": "A2eNXtUgM2Gj",
        "outputId": "0a068d4a-359e-42aa-9019-02f2f53a746e"
      },
      "execution_count": null,
      "outputs": [
        {
          "output_type": "stream",
          "name": "stdout",
          "text": [
            "/content/drive/MyDrive/BirdnetProject/Files/data/CSV_data/XC\n"
          ]
        }
      ]
    },
    {
      "cell_type": "code",
      "source": [
        "#@title **Step 2: Create Merged Dataframe File For All Transects**\n",
        "\n",
        "# Read in the CSV files\n",
        "df_XC1 = pd.read_csv('XC1_25_20230615_180000.csv')\n",
        "df_XC2 = pd.read_csv('XC2_25_20200530_171400.csv')\n",
        "df_XC3 = pd.read_csv('XC3_25_20210404_054400.csv')\n",
        "\n",
        "# Add a column to each dataframe to indicate the transect source\n",
        "df_XC1['transect'] = 1\n",
        "df_XC2['transect'] = 2\n",
        "df_XC3['transect'] = 3\n",
        "\n",
        "# Function to extract date and hour from the filename\n",
        "def extract_datetime(filename):\n",
        "    date_str = filename.split('_')[1]\n",
        "    time_str = filename.split('_')[2].split('.')[0]\n",
        "    datetime_str = date_str + ' ' + time_str\n",
        "    datetime = pd.to_datetime(datetime_str, format='%Y%m%d %H%M%S')\n",
        "    return datetime\n",
        "\n",
        "# Apply the function to create a new datetime column\n",
        "df_XC1['datetime'] = df_XC1['filename'].apply(extract_datetime)\n",
        "df_XC2['datetime'] = df_XC2['filename'].apply(extract_datetime)\n",
        "df_XC3['datetime'] = df_XC3['filename'].apply(extract_datetime)\n",
        "\n",
        "# Function to convert seconds to hour:minutes:seconds format based on the datetime\n",
        "def seconds_to_hms(datetime, seconds):\n",
        "    new_time = datetime + pd.to_timedelta(seconds, unit='s')\n",
        "    return new_time.strftime('%-H:%M:%S')\n",
        "\n",
        "# Apply the function to convert start_time and end_time\n",
        "df_XC1['start_time'] = df_XC1.apply(lambda row: seconds_to_hms(row['datetime'], row['start_time']), axis=1)\n",
        "df_XC1['end_time'] = df_XC1.apply(lambda row: seconds_to_hms(row['datetime'], row['end_time']), axis=1)\n",
        "df_XC2['start_time'] = df_XC2.apply(lambda row: seconds_to_hms(row['datetime'], row['start_time']), axis=1)\n",
        "df_XC2['end_time'] = df_XC2.apply(lambda row: seconds_to_hms(row['datetime'], row['end_time']), axis=1)\n",
        "df_XC3['start_time'] = df_XC3.apply(lambda row: seconds_to_hms(row['datetime'], row['start_time']), axis=1)\n",
        "df_XC3['end_time'] = df_XC3.apply(lambda row: seconds_to_hms(row['datetime'], row['end_time']), axis=1)\n",
        "\n",
        "# Concatenate the dataframes\n",
        "concatenated_df = pd.concat([df_XC1, df_XC2], ignore_index=True)\n",
        "\n",
        "# Extract date and start hour\n",
        "concatenated_df['date'] = concatenated_df['datetime'].dt.date\n",
        "concatenated_df['start_hour'] = concatenated_df['datetime'].dt.hour\n",
        "\n",
        "# Sort the dataframe by transect, date, start_time, common_name, and confidence\n",
        "concatenated_df = concatenated_df.sort_values(by=['transect', 'date', 'start_time', 'common_name', 'confidence'])\n",
        "\n",
        "# Reorder the columns to have transect, date, start_hour, time, and readable start/end times\n",
        "reordered_columns = ['transect', 'date', 'start_hour', 'start_time', 'end_time', 'common_name', 'scientific_name', 'confidence', 'label', 'filename']\n",
        "concatenated_df = concatenated_df[reordered_columns]\n",
        "\n",
        "# Display the first few rows of the concatenated dataframe\n",
        "print(\"\\nNew Dataframe:\")\n",
        "print(concatenated_df.head())\n",
        "print(concatenated_df.tail())\n"
      ],
      "metadata": {
        "id": "CWSfo33QEApG",
        "colab": {
          "base_uri": "https://localhost:8080/"
        },
        "outputId": "479334dd-be12-42b3-e028-18e44a1a653a"
      },
      "execution_count": null,
      "outputs": [
        {
          "output_type": "stream",
          "name": "stdout",
          "text": [
            "\n",
            "New Dataframe:\n",
            "   transect        date  start_hour start_time  end_time         common_name  \\\n",
            "0         1  2023-06-15          18   18:00:03  18:00:06   Eurasian Blackcap   \n",
            "1         1  2023-06-15          18   18:00:06  18:00:09   Eurasian Blackcap   \n",
            "2         1  2023-06-15          18   18:00:12  18:00:15   Eurasian Blackcap   \n",
            "3         1  2023-06-15          18   18:00:18  18:00:21  Eurasian Blackbird   \n",
            "4         1  2023-06-15          18   18:00:21  18:00:24   Eurasian Blackcap   \n",
            "\n",
            "      scientific_name  confidence                                 label  \\\n",
            "0  Sylvia atricapilla    0.490236  Sylvia atricapilla_Eurasian Blackcap   \n",
            "1  Sylvia atricapilla    0.586808  Sylvia atricapilla_Eurasian Blackcap   \n",
            "2  Sylvia atricapilla    0.568825  Sylvia atricapilla_Eurasian Blackcap   \n",
            "3       Turdus merula    0.417446      Turdus merula_Eurasian Blackbird   \n",
            "4  Sylvia atricapilla    0.774901  Sylvia atricapilla_Eurasian Blackcap   \n",
            "\n",
            "                  filename  \n",
            "0  XC1_20230615_180000.wav  \n",
            "1  XC1_20230615_180000.wav  \n",
            "2  XC1_20230615_180000.wav  \n",
            "3  XC1_20230615_180000.wav  \n",
            "4  XC1_20230615_180000.wav  \n",
            "     transect        date  start_hour start_time  end_time     common_name  \\\n",
            "150         2  2020-05-30          17   17:45:45  17:45:48  European Robin   \n",
            "151         2  2020-05-30          17   17:46:24  17:46:27  European Robin   \n",
            "152         2  2020-05-30          17   17:47:24  17:47:27  European Robin   \n",
            "153         2  2020-05-30          17   17:47:36  17:47:39  European Robin   \n",
            "154         2  2020-05-30          17   17:47:45  17:47:48  European Robin   \n",
            "\n",
            "        scientific_name  confidence                              label  \\\n",
            "150  Erithacus rubecula    0.662246  Erithacus rubecula_European Robin   \n",
            "151  Erithacus rubecula    0.394734  Erithacus rubecula_European Robin   \n",
            "152  Erithacus rubecula    0.289836  Erithacus rubecula_European Robin   \n",
            "153  Erithacus rubecula    0.254990  Erithacus rubecula_European Robin   \n",
            "154  Erithacus rubecula    0.331637  Erithacus rubecula_European Robin   \n",
            "\n",
            "                    filename  \n",
            "150  XC2_20200530_171400.wav  \n",
            "151  XC2_20200530_171400.wav  \n",
            "152  XC2_20200530_171400.wav  \n",
            "153  XC2_20200530_171400.wav  \n",
            "154  XC2_20200530_171400.wav  \n"
          ]
        }
      ]
    },
    {
      "cell_type": "code",
      "source": [
        "#@title **Step 3: Decide Where to Save Files**\n",
        "# Ask the user where they want to save the CSV and Excel files\n",
        "save_option = input(\"Where would you like to save the files? Enter 'local' to download to your device or 'drive' to save to Google Drive: \")\n",
        "\n",
        "if save_option.lower() == 'drive':\n",
        "    # Mount Google Drive\n",
        "    drive.mount('/content/drive')\n",
        "    drive_path = input(\"Enter the path in your Google Drive where you want to save the files (e.g., /content/drive/MyDrive/BirdnetProject/Files/data/CSV_data/): \")\n",
        "    csv_output_path = os.path.join(drive_path, 'XC_25_Merged.csv')\n",
        "    excel_output_path = os.path.join(drive_path, 'XC_25_Merged.xlsx')\n",
        "    concatenated_df.to_csv(csv_output_path, index=False)\n",
        "    concatenated_df.to_excel(excel_output_path, index=False)\n",
        "    print(f\"CSV file saved to your Google Drive at {csv_output_path}\")\n",
        "    print(f\"Excel file saved to your Google Drive at {excel_output_path}\")\n",
        "elif save_option.lower() == 'local':\n",
        "    # Download the files to the user's local device\n",
        "    csv_output_path = 'XC_25_Merged.csv'\n",
        "    excel_output_path = 'XC_25_Merged.xlsx'\n",
        "    concatenated_df.to_csv(csv_output_path, index=False)\n",
        "    concatenated_df.to_excel(excel_output_path, index=False)\n",
        "    files.download(csv_output_path)\n",
        "    files.download(excel_output_path)\n",
        "    print(\"CSV and Excel files downloaded to your local device.\")\n",
        "else:\n",
        "    print(\"Invalid option. Please enter 'local' or 'drive'.\")"
      ],
      "metadata": {
        "colab": {
          "base_uri": "https://localhost:8080/",
          "height": 72
        },
        "id": "C8RgicXFMMDn",
        "outputId": "45a577fc-d9cc-44bf-9c6b-3a465f39541f"
      },
      "execution_count": null,
      "outputs": [
        {
          "name": "stdout",
          "output_type": "stream",
          "text": [
            "Where would you like to save the files? Enter 'local' to download to your device or 'drive' to save to Google Drive: local\n"
          ]
        },
        {
          "output_type": "display_data",
          "data": {
            "text/plain": [
              "<IPython.core.display.Javascript object>"
            ],
            "application/javascript": [
              "\n",
              "    async function download(id, filename, size) {\n",
              "      if (!google.colab.kernel.accessAllowed) {\n",
              "        return;\n",
              "      }\n",
              "      const div = document.createElement('div');\n",
              "      const label = document.createElement('label');\n",
              "      label.textContent = `Downloading \"${filename}\": `;\n",
              "      div.appendChild(label);\n",
              "      const progress = document.createElement('progress');\n",
              "      progress.max = size;\n",
              "      div.appendChild(progress);\n",
              "      document.body.appendChild(div);\n",
              "\n",
              "      const buffers = [];\n",
              "      let downloaded = 0;\n",
              "\n",
              "      const channel = await google.colab.kernel.comms.open(id);\n",
              "      // Send a message to notify the kernel that we're ready.\n",
              "      channel.send({})\n",
              "\n",
              "      for await (const message of channel.messages) {\n",
              "        // Send a message to notify the kernel that we're ready.\n",
              "        channel.send({})\n",
              "        if (message.buffers) {\n",
              "          for (const buffer of message.buffers) {\n",
              "            buffers.push(buffer);\n",
              "            downloaded += buffer.byteLength;\n",
              "            progress.value = downloaded;\n",
              "          }\n",
              "        }\n",
              "      }\n",
              "      const blob = new Blob(buffers, {type: 'application/binary'});\n",
              "      const a = document.createElement('a');\n",
              "      a.href = window.URL.createObjectURL(blob);\n",
              "      a.download = filename;\n",
              "      div.appendChild(a);\n",
              "      a.click();\n",
              "      div.remove();\n",
              "    }\n",
              "  "
            ]
          },
          "metadata": {}
        },
        {
          "output_type": "display_data",
          "data": {
            "text/plain": [
              "<IPython.core.display.Javascript object>"
            ],
            "application/javascript": [
              "download(\"download_c2d39e66-39bc-46e4-8643-4202b95ccf37\", \"XC_25_Merged.csv\", 22627)"
            ]
          },
          "metadata": {}
        },
        {
          "output_type": "display_data",
          "data": {
            "text/plain": [
              "<IPython.core.display.Javascript object>"
            ],
            "application/javascript": [
              "\n",
              "    async function download(id, filename, size) {\n",
              "      if (!google.colab.kernel.accessAllowed) {\n",
              "        return;\n",
              "      }\n",
              "      const div = document.createElement('div');\n",
              "      const label = document.createElement('label');\n",
              "      label.textContent = `Downloading \"${filename}\": `;\n",
              "      div.appendChild(label);\n",
              "      const progress = document.createElement('progress');\n",
              "      progress.max = size;\n",
              "      div.appendChild(progress);\n",
              "      document.body.appendChild(div);\n",
              "\n",
              "      const buffers = [];\n",
              "      let downloaded = 0;\n",
              "\n",
              "      const channel = await google.colab.kernel.comms.open(id);\n",
              "      // Send a message to notify the kernel that we're ready.\n",
              "      channel.send({})\n",
              "\n",
              "      for await (const message of channel.messages) {\n",
              "        // Send a message to notify the kernel that we're ready.\n",
              "        channel.send({})\n",
              "        if (message.buffers) {\n",
              "          for (const buffer of message.buffers) {\n",
              "            buffers.push(buffer);\n",
              "            downloaded += buffer.byteLength;\n",
              "            progress.value = downloaded;\n",
              "          }\n",
              "        }\n",
              "      }\n",
              "      const blob = new Blob(buffers, {type: 'application/binary'});\n",
              "      const a = document.createElement('a');\n",
              "      a.href = window.URL.createObjectURL(blob);\n",
              "      a.download = filename;\n",
              "      div.appendChild(a);\n",
              "      a.click();\n",
              "      div.remove();\n",
              "    }\n",
              "  "
            ]
          },
          "metadata": {}
        },
        {
          "output_type": "display_data",
          "data": {
            "text/plain": [
              "<IPython.core.display.Javascript object>"
            ],
            "application/javascript": [
              "download(\"download_cf747206-a9fe-407a-9b04-b94658e2e0b5\", \"XC_25_Merged.xlsx\", 13799)"
            ]
          },
          "metadata": {}
        },
        {
          "output_type": "stream",
          "name": "stdout",
          "text": [
            "CSV and Excel files downloaded to your local device.\n"
          ]
        }
      ]
    },
    {
      "cell_type": "code",
      "source": [
        "#@title **<------------ Part 3 ------------>**"
      ],
      "metadata": {
        "id": "C-5WNCVMhZny"
      },
      "execution_count": null,
      "outputs": []
    },
    {
      "cell_type": "code",
      "source": [
        "#@title **Merging Transect Data with IOC Bird List for Common and Scientific Names**"
      ],
      "metadata": {
        "id": "JxguGShEijce"
      },
      "execution_count": null,
      "outputs": []
    },
    {
      "cell_type": "code",
      "source": [
        "#@title **Step 1: Data Loading and Preparation**\n",
        "\n",
        "# This section loads the transect data and the IOC list from Excel files, renames columns for consistency,\n",
        "# and normalises common names by converting them to lowercase and removing spaces.\n",
        "\n",
        "# Load Data\n",
        "# This section loads the transect data and the IOC list from Excel files, renames columns for consistency,\n",
        "# and normalizes common names by converting them to lowercase and removing spaces.\n",
        "\n",
        "# Load your transect data from an Excel file\n",
        "transect_data = pd.read_excel('/content/BirdnetProject/Files/data/xlsx_data/Drafts/HAU_transects_2024.xlsx')\n",
        "\n",
        "# Load the IOC list from an Excel file, specifying the correct header row (index 3)\n",
        "ioc_list = pd.read_excel('/content/BirdnetProject/Files/data/xlsx_data/Drafts/master_ioc_list_v13.1.xlsx', header=3)\n",
        "\n",
        "# Rename Columns for Consistency\n",
        "# Rename columns in the IOC list to match for merging\n",
        "ioc_list.rename(columns={'Species (English)': 'Common_Name', 'Species (Scientific)': 'Scientific_Name', 'Breeding Range': 'Breeding_Range'}, inplace=True)\n",
        "\n",
        "# Rename the 'spp' column in transect data to 'Recorded_Common_Name' to match the IOC list\n",
        "transect_data.rename(columns={'spp': 'Recorded_Common_Name'}, inplace=True)\n",
        "\n",
        "# Normalise Common Names\n",
        "# Normalise the common names by converting to lowercase and removing spaces\n",
        "transect_data['Normalised_Name'] = transect_data['Recorded_Common_Name'].str.lower().str.replace(' ', '')\n",
        "ioc_list['Normalised_Name'] = ioc_list['Common_Name'].str.lower().str.replace(' ', '')"
      ],
      "metadata": {
        "id": "-JWqLeEtiB7t"
      },
      "execution_count": 25,
      "outputs": []
    },
    {
      "cell_type": "code",
      "source": [
        "#@title **Step 2: Initial Merge and Handling Unmatched Rows**\n",
        "\n",
        "# This section performs the initial merge to get scientific names, identifies unmatched rows,\n",
        "# attempts partial matching for those rows, and lists all possible matches.\n",
        "\n",
        "# Initial Merge\n",
        "# Perform the initial merge to get the scientific names\n",
        "merged_data = pd.merge(transect_data, ioc_list[['Normalised_Name', 'Scientific_Name']], on='Normalised_Name', how='left')\n",
        "\n",
        "# Set Scientific_Name to 'N/A' for unmatched rows\n",
        "merged_data['Scientific_Name'].fillna('N/A', inplace=True)\n",
        "\n",
        "# Identify Unmatched Rows\n",
        "unmatched_data = merged_data[merged_data['Scientific_Name'] == 'N/A']\n",
        "\n",
        "# Function to find possible matches for unmatched common names\n",
        "def find_possible_matches(name, ioc_list):\n",
        "    if isinstance(name, str):\n",
        "        matches = ioc_list[ioc_list['Normalised_Name'].str.contains(name, na=False)]['Common_Name'].tolist()\n",
        "        return ', '.join(matches)\n",
        "    return ''\n",
        "\n",
        "# Attempt to match unmatched rows using partial matching and list all possible matches\n",
        "unmatched_data = unmatched_data.copy()  # Avoid SettingWithCopyWarning\n",
        "unmatched_data['Possible_Matches_by_Common_Name'] = unmatched_data['Normalised_Name'].apply(find_possible_matches, ioc_list=ioc_list)\n",
        "\n",
        "# Remove duplicates and only keep the first occurrence of each unmatched name for the possible matches\n",
        "unmatched_data = unmatched_data[['Recorded_Common_Name', 'Possible_Matches_by_Common_Name']].drop_duplicates()\n",
        "\n",
        "# Merge the possible matches back to the main merged data\n",
        "merged_data = pd.merge(merged_data, unmatched_data[['Recorded_Common_Name', 'Possible_Matches_by_Common_Name']], on='Recorded_Common_Name', how='left')"
      ],
      "metadata": {
        "id": "uer91ADoi7wN"
      },
      "execution_count": 26,
      "outputs": []
    },
    {
      "cell_type": "code",
      "source": [
        "#@title **Step 3: Prioritising and Deriving Names, Final Output**\n",
        "\n",
        "# This section prioritizes common names (European, Eurasian, Common), derives the predicted scientific name,\n",
        "# reorders and cleans columns, saves the final dataframe, and displays the results.\n",
        "\n",
        "# Prioritize Common Names\n",
        "# Function to prioritize European, Eurasian, or Common names for the predicted true recorded common name\n",
        "def prioritize_common_name(row):\n",
        "    if pd.isna(row['Possible_Matches_by_Common_Name']):\n",
        "        return row['Recorded_Common_Name']\n",
        "    possible_matches = row['Possible_Matches_by_Common_Name'].split(', ')\n",
        "    european_match = [name for name in possible_matches if 'european' in name.lower()]\n",
        "    eurasian_match = [name for name in possible_matches if 'eurasian' in name.lower()]\n",
        "    common_match = [name for name in possible_matches if 'common' in name.lower()]\n",
        "    great_match = [name for name in possible_matches if 'great' in name.lower()]\n",
        "    if european_match:\n",
        "        return european_match[0]\n",
        "    elif eurasian_match:\n",
        "        return eurasian_match[0]\n",
        "    elif common_match:\n",
        "        return common_match[0]\n",
        "    elif great_match:\n",
        "        return great_match[0]\n",
        "    else:\n",
        "        return possible_matches[0] if possible_matches else row['Recorded_Common_Name']\n",
        "\n",
        "# Apply the function to get the predicted true recorded common name\n",
        "merged_data['Predicted_True_Recorded_Common_Name'] = merged_data.apply(prioritize_common_name, axis=1)\n",
        "\n",
        "# Function to derive the scientific name from the predicted common name\n",
        "def get_scientific_name(common_name, ioc_list):\n",
        "    if common_name in ioc_list['Common_Name'].values:\n",
        "        return ioc_list.loc[ioc_list['Common_Name'] == common_name, 'Scientific_Name'].values[0]\n",
        "    return 'N/A'\n",
        "\n",
        "# Derive Predicted_Scientific_Name from Predicted_True_Recorded_Common_Name\n",
        "merged_data['Predicted_Scientific_Name'] = merged_data['Predicted_True_Recorded_Common_Name'].apply(get_scientific_name, ioc_list=ioc_list)\n",
        "\n",
        "# Reorder and Clean Columns\n",
        "# Reorder columns as specified\n",
        "cols_order = ['transect', 'date', 'start_time', 'duration_hr', 'observer', 'Recorded_Common_Name', 'Predicted_True_Recorded_Common_Name', 'Scientific_Name', 'Predicted_Scientific_Name', 'Possible_Matches_by_Common_Name']\n",
        "merged_data = merged_data[cols_order]\n",
        "\n",
        "# Drop the temporary normalized name column before reordering the columns\n",
        "if 'Normalised_Name' in merged_data.columns:\n",
        "    merged_data.drop(columns=['Normalised_Name'], inplace=True)"
      ],
      "metadata": {
        "id": "5igygvu2jSF3"
      },
      "execution_count": 27,
      "outputs": []
    },
    {
      "cell_type": "code",
      "source": [
        "#@title **Step 4: Decide Where to Save Files**\n",
        "# Ask the user where they want to save the CSV and Excel files\n",
        "save_option = input(\"Where would you like to save the files? Enter 'local' to download to your device or 'drive' to save to Google Drive: \")\n",
        "\n",
        "if save_option.lower() == 'drive':\n",
        "    # Mount Google Drive\n",
        "    drive.mount('/content/drive')\n",
        "    drive_path = input(\"Enter the path in your Google Drive where you want to save the files (e.g., /content/drive/MyDrive/BirdnetProject/Files/data/): \")\n",
        "    excel_output_path = os.path.join(drive_path, 'HAU_IOC_Joined.xlsx')\n",
        "    merged_data.to_excel(excel_output_path, index=False)\n",
        "    print(f\"Excel file saved to your Google Drive at {excel_output_path}\")\n",
        "elif save_option.lower() == 'local':\n",
        "    # Download the files to the user's local device\n",
        "    excel_output_path = 'HAU_IOC_Joined.xlsx'\n",
        "    merged_data.to_excel(excel_output_path, index=False)\n",
        "    files.download(excel_output_path)\n",
        "    print(\"Excel file downloaded to your local device.\")\n",
        "else:\n",
        "    print(\"Invalid option. Please enter 'local' or 'drive'.\")\n",
        "\n",
        "# Display Data Preview\n",
        "# Display the first few rows of the merged dataframe to verify the result\n",
        "print(\"\\nMerged Data Preview:\")\n",
        "print(merged_data.head())\n",
        "\n",
        "# Identify and print unmatched common names for inspection\n",
        "unmatched = merged_data[merged_data['Scientific_Name'] == 'N/A']['Recorded_Common_Name'].unique()\n",
        "print(\"\\nUnmatched Common Names:\")\n",
        "print(unmatched)"
      ],
      "metadata": {
        "id": "80594RCIk6FQ",
        "outputId": "549ea904-9c67-4550-c6c4-d99ba5b522f6",
        "colab": {
          "base_uri": "https://localhost:8080/",
          "height": 558
        }
      },
      "execution_count": 28,
      "outputs": [
        {
          "name": "stdout",
          "output_type": "stream",
          "text": [
            "Where would you like to save the files? Enter 'local' to download to your device or 'drive' to save to Google Drive: local\n"
          ]
        },
        {
          "output_type": "display_data",
          "data": {
            "text/plain": [
              "<IPython.core.display.Javascript object>"
            ],
            "application/javascript": [
              "\n",
              "    async function download(id, filename, size) {\n",
              "      if (!google.colab.kernel.accessAllowed) {\n",
              "        return;\n",
              "      }\n",
              "      const div = document.createElement('div');\n",
              "      const label = document.createElement('label');\n",
              "      label.textContent = `Downloading \"${filename}\": `;\n",
              "      div.appendChild(label);\n",
              "      const progress = document.createElement('progress');\n",
              "      progress.max = size;\n",
              "      div.appendChild(progress);\n",
              "      document.body.appendChild(div);\n",
              "\n",
              "      const buffers = [];\n",
              "      let downloaded = 0;\n",
              "\n",
              "      const channel = await google.colab.kernel.comms.open(id);\n",
              "      // Send a message to notify the kernel that we're ready.\n",
              "      channel.send({})\n",
              "\n",
              "      for await (const message of channel.messages) {\n",
              "        // Send a message to notify the kernel that we're ready.\n",
              "        channel.send({})\n",
              "        if (message.buffers) {\n",
              "          for (const buffer of message.buffers) {\n",
              "            buffers.push(buffer);\n",
              "            downloaded += buffer.byteLength;\n",
              "            progress.value = downloaded;\n",
              "          }\n",
              "        }\n",
              "      }\n",
              "      const blob = new Blob(buffers, {type: 'application/binary'});\n",
              "      const a = document.createElement('a');\n",
              "      a.href = window.URL.createObjectURL(blob);\n",
              "      a.download = filename;\n",
              "      div.appendChild(a);\n",
              "      a.click();\n",
              "      div.remove();\n",
              "    }\n",
              "  "
            ]
          },
          "metadata": {}
        },
        {
          "output_type": "display_data",
          "data": {
            "text/plain": [
              "<IPython.core.display.Javascript object>"
            ],
            "application/javascript": [
              "download(\"download_65437e3e-552d-4248-8325-75c741742273\", \"HAU_IOC_Joined.xlsx\", 15777)"
            ]
          },
          "metadata": {}
        },
        {
          "output_type": "stream",
          "name": "stdout",
          "text": [
            "Excel file downloaded to your local device.\n",
            "\n",
            "Merged Data Preview:\n",
            "   transect       date start_time  duration_hr observer Recorded_Common_Name  \\\n",
            "0         5 2024-05-02   06:30:00            1   Covarr            Blackbird   \n",
            "1         5 2024-05-02   06:30:00            1   Covarr             Blackcap   \n",
            "2         5 2024-05-02   06:30:00            1   Covarr             Blue tit   \n",
            "3         5 2024-05-02   06:30:00            1   Covarr         Canada goose   \n",
            "4         5 2024-05-02   06:30:00            1   Covarr           Chiffchaff   \n",
            "\n",
            "  Predicted_True_Recorded_Common_Name Scientific_Name  \\\n",
            "0                    Common Blackbird             N/A   \n",
            "1                   Eurasian Blackcap             N/A   \n",
            "2                   Eurasian Blue Tit             N/A   \n",
            "3                        Canada goose      canadensis   \n",
            "4                   Common Chiffchaff             N/A   \n",
            "\n",
            "  Predicted_Scientific_Name                    Possible_Matches_by_Common_Name  \n",
            "0                    merula  Chinese Blackbird, Common Blackbird, Grey-wing...  \n",
            "1               atricapilla  Eurasian Blackcap, Bush Blackcap, Blackcap Ill...  \n",
            "2                 caeruleus                African Blue Tit, Eurasian Blue Tit  \n",
            "3                       N/A                                                NaN  \n",
            "4                 collybita  Mountain Chiffchaff, Canary Islands Chiffchaff...  \n",
            "\n",
            "Unmatched Common Names:\n",
            "['Blackbird' 'Blackcap' 'Blue tit' 'Chiffchaff' 'Moorhen' 'Robin'\n",
            " 'Whitethroat' 'Wood pigeon' 'Wren' 'Chaffinch' 'Greenfinch' 'Skylark'\n",
            " 'Jackdaw' 'Magpie' 'Pheasant' 'Starling' 'Cormorant' 'Goldfinch'\n",
            " 'Kestrel' 'House martin']\n"
          ]
        }
      ]
    },
    {
      "cell_type": "code",
      "source": [
        "#@title **Step 5: Cleaning and Updating Scientific Name**\n",
        "\n",
        "# Load the BirdNET species list\n",
        "birdnet_data = pd.read_excel('/content/BirdnetProject/Files/data/xlsx_data/Drafts/BirdNET_species_list.xlsx')\n",
        "\n",
        "# Load the HAU IOC Joined dataset\n",
        "hau_ioc_data = pd.read_excel('/content/BirdnetProject/Files/data/xlsx_data/Drafts/HAU_IOC_Joined.xlsx')\n",
        "\n",
        "# Save original names with spaces and capitalization\n",
        "hau_ioc_data['Original_Common_Name'] = hau_ioc_data['Predicted_True_Recorded_Common_Name']\n",
        "hau_ioc_data['Original_Scientific_Name'] = hau_ioc_data['Scientific_Name']\n",
        "\n",
        "# Standardize names by converting to lowercase and removing spaces\n",
        "birdnet_data['Common Name'] = birdnet_data['Common Name'].str.lower().str.replace(' ', '')\n",
        "hau_ioc_data['Predicted_True_Recorded_Common_Name'] = hau_ioc_data['Predicted_True_Recorded_Common_Name'].str.lower().str.replace(' ', '')\n",
        "\n",
        "# Rename 'Scientific Name' in birdnet_data to avoid column name collision during merge\n",
        "birdnet_data.rename(columns={'Scientific Name': 'BirdNET_Scientific_Name'}, inplace=True)\n",
        "\n",
        "# Merge the datasets on the standardized common name\n",
        "merged_data = pd.merge(hau_ioc_data, birdnet_data,\n",
        "                       left_on='Predicted_True_Recorded_Common_Name',\n",
        "                       right_on='Common Name',\n",
        "                       how='left')\n",
        "\n",
        "# Iterate through the merged dataset to update scientific names\n",
        "for index, row in merged_data.iterrows():\n",
        "    if pd.isna(row['BirdNET_Scientific_Name']):\n",
        "        # If no BirdNET match, retain the original scientific name\n",
        "        merged_data.at[index, 'Scientific_Name'] = row['Original_Scientific_Name']\n",
        "    else:\n",
        "        # If BirdNET match is found, use it\n",
        "        merged_data.at[index, 'Scientific_Name'] = row['BirdNET_Scientific_Name']\n",
        "\n",
        "# Restore original common name with spaces and capitalization\n",
        "merged_data['Predicted_True_Recorded_Common_Name'] = merged_data['Original_Common_Name']\n",
        "\n",
        "# Format the existing 'date' column to ISO format (YYYY-MM-DD) without time\n",
        "merged_data['date'] = pd.to_datetime(merged_data['date']).dt.strftime('%Y-%m-%d')\n",
        "\n",
        "# Drop unnecessary columns after merging\n",
        "merged_data = merged_data.drop(columns=['Common Name', 'BirdNET_Scientific_Name', 'Original_Common_Name', 'Original_Scientific_Name', 'Predicted_Scientific_Name'])\n",
        "\n",
        "# Save the updated dataframe to a new Excel file\n",
        "merged_data.to_excel('/content/HAU_Scientific.xlsx', index=False)\n",
        "\n",
        "print(\"Merge complete. Data saved to HAU_Scientific.xlsx\")"
      ],
      "metadata": {
        "colab": {
          "base_uri": "https://localhost:8080/"
        },
        "id": "UdiJ77vICewX",
        "outputId": "c804a213-eded-430b-a878-e7e0a1a8120a"
      },
      "execution_count": 29,
      "outputs": [
        {
          "output_type": "stream",
          "name": "stdout",
          "text": [
            "Merge complete. Data saved to HAU_Scientific.xlsx\n"
          ]
        }
      ]
    },
    {
      "cell_type": "code",
      "source": [
        "#@title **<------------ Part 4 ------------>**"
      ],
      "metadata": {
        "id": "R2mEgqO0jyVf"
      },
      "execution_count": null,
      "outputs": []
    },
    {
      "cell_type": "code",
      "source": [
        "#@title Species Detection Analysis: AI vs Human Species Detections Across All Transects (Human Observations as the Gold Standard)\n",
        "\n",
        "# Load the updated Excel file with human observations\n",
        "human_data = pd.read_excel('/content/BirdnetProject/Files/data/xlsx_data/HAU_Scientific_Final.xlsx')\n",
        "\n",
        "# Ensure the start_time is parsed correctly in human data\n",
        "human_data['start_time'] = pd.to_datetime(human_data['start_time'], format='%H:%M:%S')\n",
        "\n",
        "# Extract the scientific names and observation times from the human observations\n",
        "human_detections = set(human_data['Scientific_Name'].dropna().unique())\n",
        "\n",
        "# Determine the earliest and latest start times in human observations\n",
        "earliest_time = human_data['start_time'].min()\n",
        "latest_time = human_data['start_time'].max()\n",
        "\n",
        "# Print the time range\n",
        "print(f\"Earliest human observation time: {earliest_time.time()}\")\n",
        "print(f\"Latest human observation time: {latest_time.time()}\")\n",
        "\n",
        "# Load BirdNET predictions with time filtering\n",
        "def load_birdnet_predictions(file_paths, earliest_time, latest_time):\n",
        "    species = []\n",
        "    for path in file_paths:\n",
        "        df = pd.read_excel(path)\n",
        "        # Ensure the start_time is parsed correctly in AI data\n",
        "        df['start_time'] = pd.to_datetime(df['start_time'], format='%H:%M:%S')\n",
        "        # Filter AI predictions to only include those within the human observation time range\n",
        "        df_filtered = df[(df['start_time'] >= earliest_time) & (df['start_time'] <= latest_time)]\n",
        "        # Print filtered data to verify\n",
        "        print(f\"Filtered AI predictions from {path}: {df_filtered.shape[0]} records found.\")\n",
        "        species.extend(df_filtered['scientific_name'].tolist())\n",
        "    return set(species)  # Remove duplicates and convert to set\n",
        "\n",
        "# Load GBIF data\n",
        "gbif_data = pd.read_csv('/content/BirdnetProject/Files/data/CSV_data/birds_30kmx30km_10years.csv')\n",
        "unique_species_gbif = set(gbif_data['scientificName'])  # Adjust to the correct column name\n",
        "\n",
        "# Print original species counts\n",
        "print(f\"Number of unique species detected by humans: {len(human_detections)}\")\n",
        "print(f\"Number of unique species in GBIF data: {len(unique_species_gbif)}\")\n",
        "\n",
        "# Set up the figure for the plot\n",
        "fig, ax = plt.subplots(figsize=(8, 6), sharex=True, sharey=True)\n",
        "\n",
        "# Function to visualise confusion matrix\n",
        "def plot_confusion_matrix(cm, title, ax):\n",
        "    labels = ['TN (Present but not detected by Humans)', 'FP (Detected by AI Only)',\n",
        "              'FN (Detected by Humans Only)', 'TP (Detected by Both)']\n",
        "    sns.heatmap(cm, annot=False, fmt='d', cmap='Blues', ax=ax, cbar=False)\n",
        "    ax.text(0.5, 0.5, f'{cm[0, 0]}\\n{labels[0]}', ha='center', va='center', fontsize=12, color='black')\n",
        "    ax.text(1.5, 0.5, f'{cm[0, 1]}\\n{labels[1]}', ha='center', va='center', fontsize=12, color='black')\n",
        "    ax.text(0.5, 1.5, f'{cm[1, 0]}\\n{labels[2]}', ha='center', va='center', fontsize=12, color='black')\n",
        "    ax.text(1.5, 1.5, f'{cm[1, 1]}\\n{labels[3]}', ha='center', va='center', fontsize=12, color='black')\n",
        "    ax.set_xticks([])\n",
        "    ax.set_yticks([])\n",
        "    ax.set_title(title)\n",
        "\n",
        "# File paths and titles for visualisation\n",
        "files = [\n",
        "    ('/content/BirdnetProject/Files/data/xlsx_data/Bird_Detection_Data.xlsx', \"AI vs Human Species Detections Across All Transects (Human Observations as the Gold Standard)\")\n",
        "]\n",
        "\n",
        "# Generate Confusion Matrix data\n",
        "for idx, (file_path, title) in enumerate(files):\n",
        "    # Load BirdNET data with time filter\n",
        "    predicted_species = load_birdnet_predictions([file_path], earliest_time, latest_time)\n",
        "\n",
        "    # Print the number of unique species detected by AI after filtering\n",
        "    print(f\"Number of unique species detected by AI: {len(predicted_species)}\")\n",
        "\n",
        "    # Check if there are any AI detections left after filtering\n",
        "    if not predicted_species:\n",
        "        print(\"No AI detections found in the given time range.\")\n",
        "        continue\n",
        "\n",
        "    # Combine human and predicted species lists\n",
        "    all_species = list(human_detections.union(predicted_species))\n",
        "\n",
        "    # Create presence/absence vectors\n",
        "    human_vector = [1 if species in human_detections else 0 for species in all_species]\n",
        "    predicted_vector = [1 if species in predicted_species else 0 for species in all_species]\n",
        "\n",
        "    # Generate Confusion Matrix\n",
        "    conf_matrix = confusion_matrix(human_vector, predicted_vector)\n",
        "\n",
        "    # Correct TN calculation\n",
        "    true_negatives_count = len(unique_species_gbif) - len(human_detections)\n",
        "    conf_matrix[0, 0] = true_negatives_count\n",
        "\n",
        "    # Plot Confusion Matrix\n",
        "    plot_confusion_matrix(conf_matrix, title=f'{title}', ax=ax)\n",
        "\n",
        "    # Generate and print classification report\n",
        "    report = classification_report(human_vector, predicted_vector, target_names=['Not Detected by AI', 'Detected by AI'])\n",
        "    print(f\"Classification Report for {title}:\\n\")\n",
        "    print(report)\n",
        "\n",
        "plt.tight_layout()\n",
        "plt.show()"
      ],
      "metadata": {
        "id": "jic3h6pNvvoi",
        "colab": {
          "base_uri": "https://localhost:8080/",
          "height": 789
        },
        "outputId": "895487d1-5dda-488a-a4cc-625743cbb00d"
      },
      "execution_count": 53,
      "outputs": [
        {
          "output_type": "stream",
          "name": "stdout",
          "text": [
            "Earliest human observation time: 06:30:00\n",
            "Latest human observation time: 07:45:00\n",
            "Number of unique species detected by humans: 32\n",
            "Number of unique species in GBIF data: 191\n",
            "Filtered AI predictions from /content/BirdnetProject/Files/data/xlsx_data/Bird_Detection_Data.xlsx: 11018 records found.\n",
            "Number of unique species detected by AI: 71\n",
            "Classification Report for AI vs Human Species Detections Across All Transects (Human Observations as the Gold Standard):\n",
            "\n",
            "                    precision    recall  f1-score   support\n",
            "\n",
            "Not Detected by AI       0.00      0.00      0.00        45\n",
            "    Detected by AI       0.37      0.81      0.50        32\n",
            "\n",
            "          accuracy                           0.34        77\n",
            "         macro avg       0.18      0.41      0.25        77\n",
            "      weighted avg       0.15      0.34      0.21        77\n",
            "\n"
          ]
        },
        {
          "output_type": "display_data",
          "data": {
            "text/plain": [
              "<Figure size 800x600 with 1 Axes>"
            ],
            "image/png": "[encoded data removed]"
          },
          "metadata": {}
        }
      ]
    },
    {
      "cell_type": "code",
      "source": [
        "#@title **Step 6: Sensitivity, Specificity, and Detection Percentages**\n",
        "\n",
        "# Sensitivity and Specificity Calculation\n",
        "TN, FP, FN, TP = conf_matrix.ravel()\n",
        "\n",
        "sensitivity = TP / (TP + FN) if (TP + FN) > 0 else 0\n",
        "specificity = TN / (TN + FP) if (TN + FP) > 0 else 0\n",
        "\n",
        "# Print Sensitivity and Specificity\n",
        "print(f\"Sensitivity (True Positive Rate): {sensitivity:.2f}\")\n",
        "print(f\"Specificity (True Negative Rate): {specificity:.2f}\")\n",
        "\n",
        "# Calculate total species in GBIF dataset\n",
        "total_species_gbif = len(unique_species_gbif)\n",
        "\n",
        "# Calculate species detected by AI\n",
        "detected_by_ai = len(predicted_species)\n",
        "\n",
        "# Calculate species detected by humans\n",
        "detected_by_humans = len(human_detections)\n",
        "\n",
        "# Calculate species detected by both AI and humans\n",
        "detected_by_both = len(human_detections.intersection(predicted_species))\n",
        "\n",
        "# Calculate percentages\n",
        "percent_detected_by_ai = (detected_by_ai / total_species_gbif) * 100\n",
        "percent_detected_by_humans = (detected_by_humans / total_species_gbif) * 100\n",
        "percent_detected_by_both = (detected_by_both / total_species_gbif) * 100\n",
        "\n",
        "# Print results\n",
        "print(f\"Percentage of total species detected by AI: {percent_detected_by_ai:.2f}%\")\n",
        "print(f\"Percentage of total species detected by Humans: {percent_detected_by_humans:.2f}%\")\n",
        "print(f\"Percentage of total species detected by both AI and Humans: {percent_detected_by_both:.2f}%\")"
      ],
      "metadata": {
        "id": "MEBuKFhExyke",
        "colab": {
          "base_uri": "https://localhost:8080/"
        },
        "outputId": "f0e8fa7c-289a-447b-d5f6-19085e350b92"
      },
      "execution_count": 49,
      "outputs": [
        {
          "output_type": "stream",
          "name": "stdout",
          "text": [
            "Sensitivity (True Positive Rate): 0.81\n",
            "Specificity (True Negative Rate): 0.78\n",
            "Percentage of total species detected by AI: 37.17%\n",
            "Percentage of total species detected by Humans: 16.75%\n",
            "Percentage of total species detected by both AI and Humans: 13.61%\n"
          ]
        }
      ]
    },
    {
      "cell_type": "code",
      "source": [
        "#@title Species Detection Analysis: Human vs AI Species Detections Across All Transects (AI Detections as the Gold Standard)\n",
        "\n",
        "# Load the updated Excel file with human observations\n",
        "human_data = pd.read_excel('/content/BirdnetProject/Files/data/xlsx_data/HAU_Scientific_Final.xlsx')\n",
        "\n",
        "# Ensure the start_time is parsed correctly in human data\n",
        "human_data['start_time'] = pd.to_datetime(human_data['start_time'], format='%H:%M:%S')\n",
        "\n",
        "# Extract the scientific names and observation times from the human observations\n",
        "human_detections = set(human_data['Scientific_Name'].dropna().unique())\n",
        "\n",
        "# Determine the earliest and latest start times in human observations\n",
        "earliest_time = human_data['start_time'].min()\n",
        "latest_time = human_data['start_time'].max()\n",
        "\n",
        "# Print the time range\n",
        "print(f\"Earliest human observation time: {earliest_time.time()}\")\n",
        "print(f\"Latest human observation time: {latest_time.time()}\")\n",
        "\n",
        "# Load BirdNET predictions with time filtering\n",
        "def load_birdnet_predictions(file_paths, earliest_time, latest_time):\n",
        "    species = []\n",
        "    for path in file_paths:\n",
        "        df = pd.read_excel(path)\n",
        "        # Ensure the start_time is parsed correctly in AI data\n",
        "        df['start_time'] = pd.to_datetime(df['start_time'], format='%H:%M:%S')\n",
        "        # Filter AI predictions to only include those within the human observation time range\n",
        "        df_filtered = df[(df['start_time'] >= earliest_time) & (df['start_time'] <= latest_time)]\n",
        "        # Print filtered data to verify\n",
        "        print(f\"Filtered AI predictions from {path}: {df_filtered.shape[0]} records found.\")\n",
        "        species.extend(df_filtered['scientific_name'].tolist())\n",
        "    return set(species)  # Remove duplicates and convert to set\n",
        "\n",
        "# Load GBIF data\n",
        "gbif_data = pd.read_csv('/content/BirdnetProject/Files/data/CSV_data/birds_30kmx30km_10years.csv')\n",
        "unique_species_gbif = set(gbif_data['scientificName'])  # Adjust to the correct column name\n",
        "\n",
        "# Print original species counts\n",
        "print(f\"Number of unique species detected by humans: {len(human_detections)}\")\n",
        "print(f\"Number of unique species in GBIF data: {len(unique_species_gbif)}\")\n",
        "\n",
        "# Set up the figure for the plot\n",
        "fig, ax = plt.subplots(figsize=(8, 6), sharex=True, sharey=True)\n",
        "\n",
        "# Function to visualise confusion matrix\n",
        "def plot_confusion_matrix(cm, title, ax):\n",
        "    labels = ['TN (Present but not detected by AI)', 'FP (Detected by Humans Only)',\n",
        "              'FN (Detected by AI Only)', 'TP (Detected by Both)']\n",
        "    sns.heatmap(cm, annot=False, fmt='d', cmap='Blues', ax=ax, cbar=False)\n",
        "    ax.text(0.5, 0.5, f'{cm[0, 0]}\\n{labels[0]}', ha='center', va='center', fontsize=12, color='black')\n",
        "    ax.text(1.5, 0.5, f'{cm[0, 1]}\\n{labels[1]}', ha='center', va='center', fontsize=12, color='black')\n",
        "    ax.text(0.5, 1.5, f'{cm[1, 0]}\\n{labels[2]}', ha='center', va='center', fontsize=12, color='black')\n",
        "    ax.text(1.5, 1.5, f'{cm[1, 1]}\\n{labels[3]}', ha='center', va='center', fontsize=12, color='black')\n",
        "    ax.set_xticks([])\n",
        "    ax.set_yticks([])\n",
        "    ax.set_title(title)\n",
        "\n",
        "# File paths and titles for visualisation\n",
        "files = [\n",
        "    ('/content/BirdnetProject/Files/data/xlsx_data/Bird_Detection_Data.xlsx', \"Human vs AI Species Detections Across All Transects (AI Detections as the Gold Standard)\")\n",
        "]\n",
        "\n",
        "# Generate Confusion Matrix data\n",
        "for idx, (file_path, title) in enumerate(files):\n",
        "    # Load BirdNET data with time filter\n",
        "    predicted_species = load_birdnet_predictions([file_path], earliest_time, latest_time)\n",
        "\n",
        "    # Print the number of unique species detected by AI after filtering\n",
        "    print(f\"Number of unique species detected by AI: {len(predicted_species)}\")\n",
        "\n",
        "    # Check if there are any AI detections left after filtering\n",
        "    if not predicted_species:\n",
        "        print(\"No AI detections found in the given time range.\")\n",
        "        continue\n",
        "\n",
        "    # Combine human and predicted species lists\n",
        "    all_species = list(human_detections.union(predicted_species))\n",
        "\n",
        "    # Create presence/absence vectors\n",
        "    human_vector = [1 if species in human_detections else 0 for species in all_species]\n",
        "    predicted_vector = [1 if species in predicted_species else 0 for species in all_species]\n",
        "\n",
        "    # Generate Confusion Matrix\n",
        "    conf_matrix = confusion_matrix(predicted_vector, human_vector)  # Reversed vectors for AI as the gold standard\n",
        "\n",
        "    # Correct TN calculation\n",
        "    true_negatives_count = len(unique_species_gbif) - len(predicted_species)\n",
        "    conf_matrix[0, 0] = true_negatives_count\n",
        "\n",
        "    # Plot Confusion Matrix\n",
        "    plot_confusion_matrix(conf_matrix, title=f'{title}', ax=ax)\n",
        "\n",
        "    # Generate and print classification report\n",
        "    report = classification_report(predicted_vector, human_vector, target_names=['Not Detected by Humans', 'Detected by Humans'])\n",
        "    print(f\"Classification Report for {title}:\\n\")\n",
        "    print(report)\n",
        "\n",
        "plt.tight_layout()\n",
        "plt.show()"
      ],
      "metadata": {
        "colab": {
          "base_uri": "https://localhost:8080/",
          "height": 813
        },
        "id": "inRrhVyBdWLy",
        "outputId": "2b971b9a-ce85-4b2c-eedc-1879bf35dd5d"
      },
      "execution_count": 54,
      "outputs": [
        {
          "output_type": "stream",
          "name": "stdout",
          "text": [
            "Earliest human observation time: 06:30:00\n",
            "Latest human observation time: 07:45:00\n",
            "Number of unique species detected by humans: 32\n",
            "Number of unique species in GBIF data: 191\n",
            "Filtered AI predictions from /content/BirdnetProject/Files/data/xlsx_data/Bird_Detection_Data.xlsx: 11018 records found.\n",
            "Number of unique species detected by AI: 71\n",
            "Classification Report for Human vs AI Species Detections Across All Transects (AI Detections as the Gold Standard):\n",
            "\n",
            "                        precision    recall  f1-score   support\n",
            "\n",
            "Not Detected by Humans       0.00      0.00      0.00         6\n",
            "    Detected by Humans       0.81      0.37      0.50        71\n",
            "\n",
            "              accuracy                           0.34        77\n",
            "             macro avg       0.41      0.18      0.25        77\n",
            "          weighted avg       0.75      0.34      0.47        77\n",
            "\n"
          ]
        },
        {
          "output_type": "display_data",
          "data": {
            "text/plain": [
              "<Figure size 800x600 with 1 Axes>"
            ],
            "image/png": "[encoded data removed]"
          },
          "metadata": {}
        }
      ]
    },
    {
      "cell_type": "code",
      "source": [],
      "metadata": {
        "id": "5jw5t-h2R_zZ"
      },
      "execution_count": null,
      "outputs": []
    }
  ]
}