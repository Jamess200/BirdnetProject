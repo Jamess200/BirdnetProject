{
  "nbformat": 4,
  "nbformat_minor": 0,
  "metadata": {
    "colab": {
      "provenance": [],
      "mount_file_id": "10ITzYNH5tvFO-0mE7OW2WPxfugjmQJZA",
      "authorship_tag": "ABX9TyMW1z5nTx+eXgPz3VoOS9M9",
      "include_colab_link": true
    },
    "kernelspec": {
      "name": "python3",
      "display_name": "Python 3"
    },
    "language_info": {
      "name": "python"
    }
  },
  "cells": [
    {
      "cell_type": "markdown",
      "metadata": {
        "id": "view-in-github",
        "colab_type": "text"
      },
      "source": [
        "<a href=\"https://colab.research.google.com/github/Jamess200/BirdnetProject/blob/main/Files/scripts/Drafts%26Preprocessing/Lost_Data_Prediction.ipynb\" target=\"_parent\"><img src=\"https://colab.research.google.com/assets/colab-badge.svg\" alt=\"Open In Colab\"/></a>"
      ]
    },
    {
      "cell_type": "code",
      "source": [
        "#@title **Step 1: Imports**\n",
        "# Import necessary libraries\n",
        "import pandas as pd\n",
        "import os\n",
        "import numpy as np\n",
        "import plotly.graph_objects as go\n",
        "import plotly.express as px"
      ],
      "metadata": {
        "id": "WSX7C0BprxML"
      },
      "execution_count": null,
      "outputs": []
    },
    {
      "cell_type": "code",
      "source": [
        "#@title **Step 2: Clone the GitHub Repository**\n",
        "# Clone the required GitHub repository into the Colab environment to access the data and scripts.\n",
        "\n",
        "# Define the path where the repository will be cloned\n",
        "repo_path = '/content/BirdnetProject'\n",
        "\n",
        "# Check if the repository already exists\n",
        "if not os.path.exists(repo_path):\n",
        "    # Clone the repository if it doesn't exist\n",
        "    !git clone https://github.com/Jamess200/BirdnetProject\n",
        "else:\n",
        "    # If the repository exists, pull the latest changes\n",
        "    os.chdir(repo_path)\n",
        "    !git pull\n",
        "\n",
        "# Verify cloned repository\n",
        "print(\"Repository contents:\")\n",
        "!ls /content/BirdnetProject"
      ],
      "metadata": {
        "colab": {
          "base_uri": "https://localhost:8080/"
        },
        "id": "wzrbH-UdriPP",
        "outputId": "441c3780-f1b2-48e0-8f7c-5f982a868b90"
      },
      "execution_count": null,
      "outputs": [
        {
          "output_type": "stream",
          "name": "stdout",
          "text": [
            "Already up to date.\n",
            "Repository contents:\n",
            "Files  README.md\n"
          ]
        }
      ]
    },
    {
      "cell_type": "code",
      "source": [
        "#@title **Step 3: Change Working Directory**\n",
        "# Change the working directory to the path where the CSV data files are located.\n",
        "\n",
        "# Change working directory to defined path\n",
        "os.chdir('/content/BirdnetProject/Files/data/CSV_data')\n",
        "\n",
        "# Verify working directory\n",
        "print(\"Current working directory:\", os.getcwd())"
      ],
      "metadata": {
        "colab": {
          "base_uri": "https://localhost:8080/"
        },
        "id": "_gZP9vdervCK",
        "outputId": "0c422971-200a-4aed-9a11-a03d0eac018b"
      },
      "execution_count": null,
      "outputs": [
        {
          "output_type": "stream",
          "name": "stdout",
          "text": [
            "Current working directory: /content/BirdnetProject/Files/data/CSV_data\n"
          ]
        }
      ]
    },
    {
      "cell_type": "code",
      "source": [
        "#@title **Step 4: Data Loading and Preprocessing**\n",
        "# Load the combined transect data, convert date and time columns to datetime format,\n",
        "# and calculate detection intervals.\n",
        "\n",
        "# Load the data\n",
        "data = pd.read_csv('transect_combined.csv')\n",
        "\n",
        "# Convert 'date' to datetime format\n",
        "data['date'] = pd.to_datetime(data['date'], format='%Y-%m-%d')\n",
        "\n",
        "# Create 'datetime_start' and 'datetime_end' by combining 'date' with 'start_time' and 'end_time'\n",
        "data['datetime_start'] = pd.to_datetime(data['date'].astype(str) + ' ' + data['start_time'], format='%Y-%m-%d %H:%M:%S')\n",
        "data['datetime_end'] = pd.to_datetime(data['date'].astype(str) + ' ' + data['end_time'], format='%Y-%m-%d %H:%M:%S')\n",
        "\n",
        "# Sort data by 'datetime_start'\n",
        "data = data.sort_values(by='datetime_start')\n",
        "\n",
        "# Calculate detection interval\n",
        "data['detection_interval'] = data['datetime_start'].diff().shift(-1).dt.total_seconds()\n",
        "average_interval = data['detection_interval'].mean()\n",
        "print(f\"Average detection interval: {average_interval:.2f} seconds\")"
      ],
      "metadata": {
        "colab": {
          "base_uri": "https://localhost:8080/"
        },
        "id": "vib0lKBkOs5T",
        "outputId": "1d2b048c-500b-41e4-cb60-77034bae4cf0"
      },
      "execution_count": null,
      "outputs": [
        {
          "output_type": "stream",
          "name": "stdout",
          "text": [
            "Average detection interval: 13.07 seconds\n"
          ]
        }
      ]
    },
    {
      "cell_type": "code",
      "source": [
        "#@title **Step 5: Calculate Total Detections and Segments**\n",
        "# Calculate the total number of detections, the expected number of detections, and the number of missing detections.\n",
        "\n",
        "# Calculate total detections\n",
        "total_detections = len(data)\n",
        "print(f\"Total number of detections: {total_detections}\")\n",
        "\n",
        "# Define recording schedule parameters\n",
        "start_hour = 4\n",
        "end_hour = 9\n",
        "interval_minutes = 30\n",
        "detection_interval = 3\n",
        "\n",
        "# Calculate number of 3-second slots per 30-minute interval\n",
        "slots_per_session = (interval_minutes * 60) / detection_interval\n",
        "\n",
        "# Calculate number of sessions per day per transect\n",
        "sessions_per_day_per_transect = 6\n",
        "\n",
        "# Calculate number of slots per day per transect\n",
        "slots_per_day_per_transect = slots_per_session * sessions_per_day_per_transect\n",
        "\n",
        "# Define number of transects\n",
        "number_of_transects = 4\n",
        "\n",
        "# Calculate total expected slots per day across all transects\n",
        "expected_slots_per_day = slots_per_day_per_transect * number_of_transects\n",
        "\n",
        "# Calculate number of days in the dataset\n",
        "data['day'] = data['date'].dt.date\n",
        "total_days = data['day'].nunique()\n",
        "\n",
        "# Calculate total number of expected detections\n",
        "expected_detections = expected_slots_per_day * total_days\n",
        "print(f\"Expected number of detections: {expected_detections}\")\n",
        "\n",
        "# Calculate number of missing detections\n",
        "missing_detections = expected_detections - total_detections\n",
        "print(f\"Number of missing detections: {missing_detections}\")"
      ],
      "metadata": {
        "colab": {
          "base_uri": "https://localhost:8080/"
        },
        "id": "Awt2ABCRP9qm",
        "outputId": "b5b8b6b8-7cc1-495f-b18d-f1c918b59b83"
      },
      "execution_count": null,
      "outputs": [
        {
          "output_type": "stream",
          "name": "stdout",
          "text": [
            "Total number of detections: 54397\n",
            "Expected number of detections: 129600.0\n",
            "Number of missing detections: 75203.0\n"
          ]
        }
      ]
    },
    {
      "cell_type": "code",
      "source": [
        "#@title **Step 6: Detection Analysis by 3-Second Slots and Transects**\n",
        "# Assign each detection to a 3-second slot and analyze the number of detections per slot and transect.\n",
        "\n",
        "# Assign each detection to a 3-second slot\n",
        "data['slot'] = data['datetime_start'].dt.floor('3S')\n",
        "\n",
        "# Count the number of detections in each slot per transect\n",
        "slot_counts_per_transect = data.groupby(['transect', 'slot']).size().reset_index(name='count')\n",
        "\n",
        "# Identify slots with multiple detections within the same transect\n",
        "multiple_detections_per_transect = slot_counts_per_transect[slot_counts_per_transect['count'] > 1]\n",
        "print(f\"Number of slots with multiple detections per transect: {multiple_detections_per_transect.shape[0]}\")\n",
        "print(\"Details of slots with multiple detections per transect:\")\n",
        "print(multiple_detections_per_transect)\n",
        "\n",
        "# Extract hour from the 'slot' datetime and group by hour\n",
        "multiple_detections_per_transect['hour'] = multiple_detections_per_transect['slot'].dt.hour\n",
        "multiple_detections_per_hour_per_transect = multiple_detections_per_transect.groupby(['transect', 'hour']).size().reset_index(name='slots_with_multiple_detections')\n"
      ],
      "metadata": {
        "colab": {
          "base_uri": "https://localhost:8080/"
        },
        "id": "sbO1cbwm10Bs",
        "outputId": "934dc2bb-4dee-4773-ea58-64f11aab546c"
      },
      "execution_count": null,
      "outputs": [
        {
          "output_type": "stream",
          "name": "stdout",
          "text": [
            "Number of slots with multiple detections per transect: 3693\n",
            "Details of slots with multiple detections per transect:\n",
            "       transect                slot  count\n",
            "10            5 2024-05-02 04:01:54      2\n",
            "12            5 2024-05-02 04:02:06      2\n",
            "32            5 2024-05-02 04:17:00      2\n",
            "46            5 2024-05-02 04:18:39      2\n",
            "195           5 2024-05-02 05:29:36      2\n",
            "...         ...                 ...    ...\n",
            "50561         8 2024-05-10 09:26:36      2\n",
            "50564         8 2024-05-10 09:26:51      2\n",
            "50569         8 2024-05-10 09:27:12      2\n",
            "50573         8 2024-05-10 09:28:18      2\n",
            "50584         8 2024-05-10 09:29:18      2\n",
            "\n",
            "[3693 rows x 3 columns]\n"
          ]
        },
        {
          "output_type": "stream",
          "name": "stderr",
          "text": [
            "<ipython-input-17-9ca81bc6fcc8>:17: SettingWithCopyWarning:\n",
            "\n",
            "\n",
            "A value is trying to be set on a copy of a slice from a DataFrame.\n",
            "Try using .loc[row_indexer,col_indexer] = value instead\n",
            "\n",
            "See the caveats in the documentation: https://pandas.pydata.org/pandas-docs/stable/user_guide/indexing.html#returning-a-view-versus-a-copy\n",
            "\n"
          ]
        }
      ]
    },
    {
      "cell_type": "code",
      "source": [
        "#@title **Step 7: Visualize the Number of Multiple Detection Slots per Hour for Each Transect**\n",
        "# Plot the number of multiple detection slots per hour for each transect.\n",
        "\n",
        "fig = px.bar(\n",
        "    multiple_detections_per_hour_per_transect,\n",
        "    x='hour',\n",
        "    y='slots_with_multiple_detections',\n",
        "    color='transect',\n",
        "    labels={'hour': 'Hour of Day', 'slots_with_multiple_detections': 'Number of Slots with Multiple Detections'},\n",
        "    title='Number of Slots with Multiple Detections per Hour per Transect'\n",
        ")\n",
        "\n",
        "# Update layout to include legend and remove the color bar\n",
        "fig.update_layout(\n",
        "    legend_title_text='Transect',\n",
        "    xaxis=dict(dtick=1),\n",
        "    coloraxis_showscale=False,  # Remove the color bar\n",
        "    showlegend=True  # Ensure the legend is shown\n",
        ")\n",
        "\n",
        "# Show the plot\n",
        "fig.show()"
      ],
      "metadata": {
        "id": "BDPsEaQ812Ex",
        "outputId": "07eded82-3f9c-4dbd-acf2-8e27f846749b",
        "colab": {
          "base_uri": "https://localhost:8080/",
          "height": 542
        }
      },
      "execution_count": null,
      "outputs": [
        {
          "output_type": "display_data",
          "data": {
            "text/html": [
              "<html>\n",
              "<head><meta charset=\"utf-8\" /></head>\n",
              "<body>\n",
              "    <div>            <script src=\"https://cdnjs.cloudflare.com/ajax/libs/mathjax/2.7.5/MathJax.js?config=TeX-AMS-MML_SVG\"></script><script type=\"text/javascript\">if (window.MathJax && window.MathJax.Hub && window.MathJax.Hub.Config) {window.MathJax.Hub.Config({SVG: {font: \"STIX-Web\"}});}</script>                <script type=\"text/javascript\">window.PlotlyConfig = {MathJaxConfig: 'local'};</script>\n",
              "        <script charset=\"utf-8\" src=\"https://cdn.plot.ly/plotly-2.24.1.min.js\"></script>                <div id=\"4dda9bd9-c9aa-4334-891a-9124b9e609e7\" class=\"plotly-graph-div\" style=\"height:525px; width:100%;\"></div>            <script type=\"text/javascript\">                                    window.PLOTLYENV=window.PLOTLYENV || {};                                    if (document.getElementById(\"4dda9bd9-c9aa-4334-891a-9124b9e609e7\")) {                    Plotly.newPlot(                        \"4dda9bd9-c9aa-4334-891a-9124b9e609e7\",                        [{\"alignmentgroup\":\"True\",\"hovertemplate\":\"Hour of Day=%{x}\\u003cbr\\u003eNumber of Slots with Multiple Detections=%{y}\\u003cbr\\u003etransect=%{marker.color}\\u003cextra\\u003e\\u003c\\u002fextra\\u003e\",\"legendgroup\":\"\",\"marker\":{\"color\":[5,5,5,5,5,5,6,6,6,6,6,6,7,7,7,7,7,7,8,8,8,8,8,8],\"coloraxis\":\"coloraxis\",\"pattern\":{\"shape\":\"\"}},\"name\":\"\",\"offsetgroup\":\"\",\"orientation\":\"v\",\"showlegend\":false,\"textposition\":\"auto\",\"x\":[4,5,6,7,8,9,4,5,6,7,8,9,4,5,6,7,8,9,4,5,6,7,8,9],\"xaxis\":\"x\",\"y\":[38,29,135,153,198,165,11,14,48,64,106,61,30,205,304,362,300,321,128,108,204,226,253,230],\"yaxis\":\"y\",\"type\":\"bar\"}],                        {\"template\":{\"data\":{\"histogram2dcontour\":[{\"type\":\"histogram2dcontour\",\"colorbar\":{\"outlinewidth\":0,\"ticks\":\"\"},\"colorscale\":[[0.0,\"#0d0887\"],[0.1111111111111111,\"#46039f\"],[0.2222222222222222,\"#7201a8\"],[0.3333333333333333,\"#9c179e\"],[0.4444444444444444,\"#bd3786\"],[0.5555555555555556,\"#d8576b\"],[0.6666666666666666,\"#ed7953\"],[0.7777777777777778,\"#fb9f3a\"],[0.8888888888888888,\"#fdca26\"],[1.0,\"#f0f921\"]]}],\"choropleth\":[{\"type\":\"choropleth\",\"colorbar\":{\"outlinewidth\":0,\"ticks\":\"\"}}],\"histogram2d\":[{\"type\":\"histogram2d\",\"colorbar\":{\"outlinewidth\":0,\"ticks\":\"\"},\"colorscale\":[[0.0,\"#0d0887\"],[0.1111111111111111,\"#46039f\"],[0.2222222222222222,\"#7201a8\"],[0.3333333333333333,\"#9c179e\"],[0.4444444444444444,\"#bd3786\"],[0.5555555555555556,\"#d8576b\"],[0.6666666666666666,\"#ed7953\"],[0.7777777777777778,\"#fb9f3a\"],[0.8888888888888888,\"#fdca26\"],[1.0,\"#f0f921\"]]}],\"heatmap\":[{\"type\":\"heatmap\",\"colorbar\":{\"outlinewidth\":0,\"ticks\":\"\"},\"colorscale\":[[0.0,\"#0d0887\"],[0.1111111111111111,\"#46039f\"],[0.2222222222222222,\"#7201a8\"],[0.3333333333333333,\"#9c179e\"],[0.4444444444444444,\"#bd3786\"],[0.5555555555555556,\"#d8576b\"],[0.6666666666666666,\"#ed7953\"],[0.7777777777777778,\"#fb9f3a\"],[0.8888888888888888,\"#fdca26\"],[1.0,\"#f0f921\"]]}],\"heatmapgl\":[{\"type\":\"heatmapgl\",\"colorbar\":{\"outlinewidth\":0,\"ticks\":\"\"},\"colorscale\":[[0.0,\"#0d0887\"],[0.1111111111111111,\"#46039f\"],[0.2222222222222222,\"#7201a8\"],[0.3333333333333333,\"#9c179e\"],[0.4444444444444444,\"#bd3786\"],[0.5555555555555556,\"#d8576b\"],[0.6666666666666666,\"#ed7953\"],[0.7777777777777778,\"#fb9f3a\"],[0.8888888888888888,\"#fdca26\"],[1.0,\"#f0f921\"]]}],\"contourcarpet\":[{\"type\":\"contourcarpet\",\"colorbar\":{\"outlinewidth\":0,\"ticks\":\"\"}}],\"contour\":[{\"type\":\"contour\",\"colorbar\":{\"outlinewidth\":0,\"ticks\":\"\"},\"colorscale\":[[0.0,\"#0d0887\"],[0.1111111111111111,\"#46039f\"],[0.2222222222222222,\"#7201a8\"],[0.3333333333333333,\"#9c179e\"],[0.4444444444444444,\"#bd3786\"],[0.5555555555555556,\"#d8576b\"],[0.6666666666666666,\"#ed7953\"],[0.7777777777777778,\"#fb9f3a\"],[0.8888888888888888,\"#fdca26\"],[1.0,\"#f0f921\"]]}],\"surface\":[{\"type\":\"surface\",\"colorbar\":{\"outlinewidth\":0,\"ticks\":\"\"},\"colorscale\":[[0.0,\"#0d0887\"],[0.1111111111111111,\"#46039f\"],[0.2222222222222222,\"#7201a8\"],[0.3333333333333333,\"#9c179e\"],[0.4444444444444444,\"#bd3786\"],[0.5555555555555556,\"#d8576b\"],[0.6666666666666666,\"#ed7953\"],[0.7777777777777778,\"#fb9f3a\"],[0.8888888888888888,\"#fdca26\"],[1.0,\"#f0f921\"]]}],\"mesh3d\":[{\"type\":\"mesh3d\",\"colorbar\":{\"outlinewidth\":0,\"ticks\":\"\"}}],\"scatter\":[{\"fillpattern\":{\"fillmode\":\"overlay\",\"size\":10,\"solidity\":0.2},\"type\":\"scatter\"}],\"parcoords\":[{\"type\":\"parcoords\",\"line\":{\"colorbar\":{\"outlinewidth\":0,\"ticks\":\"\"}}}],\"scatterpolargl\":[{\"type\":\"scatterpolargl\",\"marker\":{\"colorbar\":{\"outlinewidth\":0,\"ticks\":\"\"}}}],\"bar\":[{\"error_x\":{\"color\":\"#2a3f5f\"},\"error_y\":{\"color\":\"#2a3f5f\"},\"marker\":{\"line\":{\"color\":\"#E5ECF6\",\"width\":0.5},\"pattern\":{\"fillmode\":\"overlay\",\"size\":10,\"solidity\":0.2}},\"type\":\"bar\"}],\"scattergeo\":[{\"type\":\"scattergeo\",\"marker\":{\"colorbar\":{\"outlinewidth\":0,\"ticks\":\"\"}}}],\"scatterpolar\":[{\"type\":\"scatterpolar\",\"marker\":{\"colorbar\":{\"outlinewidth\":0,\"ticks\":\"\"}}}],\"histogram\":[{\"marker\":{\"pattern\":{\"fillmode\":\"overlay\",\"size\":10,\"solidity\":0.2}},\"type\":\"histogram\"}],\"scattergl\":[{\"type\":\"scattergl\",\"marker\":{\"colorbar\":{\"outlinewidth\":0,\"ticks\":\"\"}}}],\"scatter3d\":[{\"type\":\"scatter3d\",\"line\":{\"colorbar\":{\"outlinewidth\":0,\"ticks\":\"\"}},\"marker\":{\"colorbar\":{\"outlinewidth\":0,\"ticks\":\"\"}}}],\"scattermapbox\":[{\"type\":\"scattermapbox\",\"marker\":{\"colorbar\":{\"outlinewidth\":0,\"ticks\":\"\"}}}],\"scatterternary\":[{\"type\":\"scatterternary\",\"marker\":{\"colorbar\":{\"outlinewidth\":0,\"ticks\":\"\"}}}],\"scattercarpet\":[{\"type\":\"scattercarpet\",\"marker\":{\"colorbar\":{\"outlinewidth\":0,\"ticks\":\"\"}}}],\"carpet\":[{\"aaxis\":{\"endlinecolor\":\"#2a3f5f\",\"gridcolor\":\"white\",\"linecolor\":\"white\",\"minorgridcolor\":\"white\",\"startlinecolor\":\"#2a3f5f\"},\"baxis\":{\"endlinecolor\":\"#2a3f5f\",\"gridcolor\":\"white\",\"linecolor\":\"white\",\"minorgridcolor\":\"white\",\"startlinecolor\":\"#2a3f5f\"},\"type\":\"carpet\"}],\"table\":[{\"cells\":{\"fill\":{\"color\":\"#EBF0F8\"},\"line\":{\"color\":\"white\"}},\"header\":{\"fill\":{\"color\":\"#C8D4E3\"},\"line\":{\"color\":\"white\"}},\"type\":\"table\"}],\"barpolar\":[{\"marker\":{\"line\":{\"color\":\"#E5ECF6\",\"width\":0.5},\"pattern\":{\"fillmode\":\"overlay\",\"size\":10,\"solidity\":0.2}},\"type\":\"barpolar\"}],\"pie\":[{\"automargin\":true,\"type\":\"pie\"}]},\"layout\":{\"autotypenumbers\":\"strict\",\"colorway\":[\"#636efa\",\"#EF553B\",\"#00cc96\",\"#ab63fa\",\"#FFA15A\",\"#19d3f3\",\"#FF6692\",\"#B6E880\",\"#FF97FF\",\"#FECB52\"],\"font\":{\"color\":\"#2a3f5f\"},\"hovermode\":\"closest\",\"hoverlabel\":{\"align\":\"left\"},\"paper_bgcolor\":\"white\",\"plot_bgcolor\":\"#E5ECF6\",\"polar\":{\"bgcolor\":\"#E5ECF6\",\"angularaxis\":{\"gridcolor\":\"white\",\"linecolor\":\"white\",\"ticks\":\"\"},\"radialaxis\":{\"gridcolor\":\"white\",\"linecolor\":\"white\",\"ticks\":\"\"}},\"ternary\":{\"bgcolor\":\"#E5ECF6\",\"aaxis\":{\"gridcolor\":\"white\",\"linecolor\":\"white\",\"ticks\":\"\"},\"baxis\":{\"gridcolor\":\"white\",\"linecolor\":\"white\",\"ticks\":\"\"},\"caxis\":{\"gridcolor\":\"white\",\"linecolor\":\"white\",\"ticks\":\"\"}},\"coloraxis\":{\"colorbar\":{\"outlinewidth\":0,\"ticks\":\"\"}},\"colorscale\":{\"sequential\":[[0.0,\"#0d0887\"],[0.1111111111111111,\"#46039f\"],[0.2222222222222222,\"#7201a8\"],[0.3333333333333333,\"#9c179e\"],[0.4444444444444444,\"#bd3786\"],[0.5555555555555556,\"#d8576b\"],[0.6666666666666666,\"#ed7953\"],[0.7777777777777778,\"#fb9f3a\"],[0.8888888888888888,\"#fdca26\"],[1.0,\"#f0f921\"]],\"sequentialminus\":[[0.0,\"#0d0887\"],[0.1111111111111111,\"#46039f\"],[0.2222222222222222,\"#7201a8\"],[0.3333333333333333,\"#9c179e\"],[0.4444444444444444,\"#bd3786\"],[0.5555555555555556,\"#d8576b\"],[0.6666666666666666,\"#ed7953\"],[0.7777777777777778,\"#fb9f3a\"],[0.8888888888888888,\"#fdca26\"],[1.0,\"#f0f921\"]],\"diverging\":[[0,\"#8e0152\"],[0.1,\"#c51b7d\"],[0.2,\"#de77ae\"],[0.3,\"#f1b6da\"],[0.4,\"#fde0ef\"],[0.5,\"#f7f7f7\"],[0.6,\"#e6f5d0\"],[0.7,\"#b8e186\"],[0.8,\"#7fbc41\"],[0.9,\"#4d9221\"],[1,\"#276419\"]]},\"xaxis\":{\"gridcolor\":\"white\",\"linecolor\":\"white\",\"ticks\":\"\",\"title\":{\"standoff\":15},\"zerolinecolor\":\"white\",\"automargin\":true,\"zerolinewidth\":2},\"yaxis\":{\"gridcolor\":\"white\",\"linecolor\":\"white\",\"ticks\":\"\",\"title\":{\"standoff\":15},\"zerolinecolor\":\"white\",\"automargin\":true,\"zerolinewidth\":2},\"scene\":{\"xaxis\":{\"backgroundcolor\":\"#E5ECF6\",\"gridcolor\":\"white\",\"linecolor\":\"white\",\"showbackground\":true,\"ticks\":\"\",\"zerolinecolor\":\"white\",\"gridwidth\":2},\"yaxis\":{\"backgroundcolor\":\"#E5ECF6\",\"gridcolor\":\"white\",\"linecolor\":\"white\",\"showbackground\":true,\"ticks\":\"\",\"zerolinecolor\":\"white\",\"gridwidth\":2},\"zaxis\":{\"backgroundcolor\":\"#E5ECF6\",\"gridcolor\":\"white\",\"linecolor\":\"white\",\"showbackground\":true,\"ticks\":\"\",\"zerolinecolor\":\"white\",\"gridwidth\":2}},\"shapedefaults\":{\"line\":{\"color\":\"#2a3f5f\"}},\"annotationdefaults\":{\"arrowcolor\":\"#2a3f5f\",\"arrowhead\":0,\"arrowwidth\":1},\"geo\":{\"bgcolor\":\"white\",\"landcolor\":\"#E5ECF6\",\"subunitcolor\":\"white\",\"showland\":true,\"showlakes\":true,\"lakecolor\":\"white\"},\"title\":{\"x\":0.05},\"mapbox\":{\"style\":\"light\"}}},\"xaxis\":{\"anchor\":\"y\",\"domain\":[0.0,1.0],\"title\":{\"text\":\"Hour of Day\"},\"dtick\":1},\"yaxis\":{\"anchor\":\"x\",\"domain\":[0.0,1.0],\"title\":{\"text\":\"Number of Slots with Multiple Detections\"}},\"coloraxis\":{\"colorbar\":{\"title\":{\"text\":\"transect\"}},\"colorscale\":[[0.0,\"#0d0887\"],[0.1111111111111111,\"#46039f\"],[0.2222222222222222,\"#7201a8\"],[0.3333333333333333,\"#9c179e\"],[0.4444444444444444,\"#bd3786\"],[0.5555555555555556,\"#d8576b\"],[0.6666666666666666,\"#ed7953\"],[0.7777777777777778,\"#fb9f3a\"],[0.8888888888888888,\"#fdca26\"],[1.0,\"#f0f921\"]],\"showscale\":false},\"legend\":{\"tracegroupgap\":0,\"title\":{\"text\":\"Transect\"}},\"title\":{\"text\":\"Number of Slots with Multiple Detections per Hour per Transect\"},\"barmode\":\"relative\",\"showlegend\":true},                        {\"responsive\": true}                    ).then(function(){\n",
              "                            \n",
              "var gd = document.getElementById('4dda9bd9-c9aa-4334-891a-9124b9e609e7');\n",
              "var x = new MutationObserver(function (mutations, observer) {{\n",
              "        var display = window.getComputedStyle(gd).display;\n",
              "        if (!display || display === 'none') {{\n",
              "            console.log([gd, 'removed!']);\n",
              "            Plotly.purge(gd);\n",
              "            observer.disconnect();\n",
              "        }}\n",
              "}});\n",
              "\n",
              "// Listen for the removal of the full notebook cells\n",
              "var notebookContainer = gd.closest('#notebook-container');\n",
              "if (notebookContainer) {{\n",
              "    x.observe(notebookContainer, {childList: true});\n",
              "}}\n",
              "\n",
              "// Listen for the clearing of the current output cell\n",
              "var outputEl = gd.closest('.output');\n",
              "if (outputEl) {{\n",
              "    x.observe(outputEl, {childList: true});\n",
              "}}\n",
              "\n",
              "                        })                };                            </script>        </div>\n",
              "</body>\n",
              "</html>"
            ]
          },
          "metadata": {}
        }
      ]
    },
    {
      "cell_type": "code",
      "source": [],
      "metadata": {
        "id": "TDTqtfEslVu5"
      },
      "execution_count": null,
      "outputs": []
    }
  ]
}