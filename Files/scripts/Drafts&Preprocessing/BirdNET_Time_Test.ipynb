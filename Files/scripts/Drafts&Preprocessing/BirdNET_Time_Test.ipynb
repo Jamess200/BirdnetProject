{
  "cells": [
    {
      "cell_type": "markdown",
      "metadata": {
        "id": "view-in-github",
        "colab_type": "text"
      },
      "source": [
        "<a href=\"https://colab.research.google.com/github/Jamess200/BirdnetProject/blob/main/BirdNET_Time_Test.ipynb\" target=\"_parent\"><img src=\"https://colab.research.google.com/assets/colab-badge.svg\" alt=\"Open In Colab\"/></a>"
      ]
    },
    {
      "cell_type": "code",
      "source": [
        "#@title Mount Google Drive\n",
        "from google.colab import drive\n",
        "# Mount Google Drive to access files\n",
        "drive.mount('/content/drive')"
      ],
      "metadata": {
        "id": "tiiXwCMNgTL-",
        "outputId": "9fbed216-a664-49e5-e148-5e04e4d8a3cf",
        "colab": {
          "base_uri": "https://localhost:8080/"
        }
      },
      "execution_count": 4,
      "outputs": [
        {
          "output_type": "stream",
          "name": "stdout",
          "text": [
            "Mounted at /content/drive\n"
          ]
        }
      ]
    },
    {
      "cell_type": "code",
      "execution_count": 5,
      "metadata": {
        "colab": {
          "base_uri": "https://localhost:8080/"
        },
        "id": "6STr5lGE9sFd",
        "outputId": "f8477e35-935d-4819-fb5d-e7bd91e9e777"
      },
      "outputs": [
        {
          "output_type": "stream",
          "name": "stdout",
          "text": [
            "/content/drive/MyDrive\n"
          ]
        }
      ],
      "source": [
        "#@title Change Directory\n",
        "# Change directory to a specified path in Google Drive\n",
        "%cd /content/drive/MyDrive/"
      ]
    },
    {
      "cell_type": "code",
      "execution_count": 6,
      "metadata": {
        "colab": {
          "base_uri": "https://localhost:8080/"
        },
        "id": "pKTS2Aex6pJJ",
        "outputId": "c8dd7402-f485-4e21-8fc5-76a60789dc8b"
      },
      "outputs": [
        {
          "output_type": "stream",
          "name": "stdout",
          "text": [
            "remote: Enumerating objects: 20, done.\u001b[K\n",
            "remote: Counting objects:   5% (1/20)\u001b[K\rremote: Counting objects:  10% (2/20)\u001b[K\rremote: Counting objects:  15% (3/20)\u001b[K\rremote: Counting objects:  20% (4/20)\u001b[K\rremote: Counting objects:  25% (5/20)\u001b[K\rremote: Counting objects:  30% (6/20)\u001b[K\rremote: Counting objects:  35% (7/20)\u001b[K\rremote: Counting objects:  40% (8/20)\u001b[K\rremote: Counting objects:  45% (9/20)\u001b[K\rremote: Counting objects:  50% (10/20)\u001b[K\rremote: Counting objects:  55% (11/20)\u001b[K\rremote: Counting objects:  60% (12/20)\u001b[K\rremote: Counting objects:  65% (13/20)\u001b[K\rremote: Counting objects:  70% (14/20)\u001b[K\rremote: Counting objects:  75% (15/20)\u001b[K\rremote: Counting objects:  80% (16/20)\u001b[K\rremote: Counting objects:  85% (17/20)\u001b[K\rremote: Counting objects:  90% (18/20)\u001b[K\rremote: Counting objects:  95% (19/20)\u001b[K\rremote: Counting objects: 100% (20/20)\u001b[K\rremote: Counting objects: 100% (20/20), done.\u001b[K\n",
            "remote: Compressing objects: 100% (11/11), done.\u001b[K\n",
            "remote: Total 16 (delta 9), reused 9 (delta 5), pack-reused 0\u001b[K\n",
            "Unpacking objects: 100% (16/16), 74.12 KiB | 61.00 KiB/s, done.\n",
            "From https://github.com/Jamess200/BirdnetProject\n",
            "   e8be231..c49ce8f  main       -> origin/main\n",
            "Updating e8be231..c49ce8f\n",
            "Fast-forward\n",
            " .../{Time_Test_BN_Test.ipynb => BirdNET_Time_Test.ipynb}        | 158 \u001b[32m++++++++++++++++\u001b[m\u001b[31m------------\u001b[m\n",
            " README.md                                                       |  14 \u001b[32m++\u001b[m\u001b[31m-\u001b[m\n",
            " 2 files changed, 101 insertions(+), 71 deletions(-)\n",
            " rename Files/scripts/{Time_Test_BN_Test.ipynb => BirdNET_Time_Test.ipynb} (97%)\n",
            "Files  README.md\n"
          ]
        }
      ],
      "source": [
        "#@title Set Up & Clone Repository\n",
        "import os\n",
        "\n",
        "# Define the path in Google Drive where the repository will be cloned\n",
        "repo_path = '/content/drive/MyDrive/'\n",
        "\n",
        "# Check if directory already exists\n",
        "if not os.path.exists(repo_path):\n",
        "    os.makedirs(repo_path)\n",
        "\n",
        "# Change working directory to defined path\n",
        "os.chdir(repo_path)\n",
        "\n",
        "# Clone the repository if doesnt exist, otherwise pull latest changes\n",
        "if not os.path.exists(os.path.join(repo_path, 'BirdnetProject')):\n",
        "    !git clone https://github.com/Jamess200/BirdnetProject.git\n",
        "else:\n",
        "    os.chdir('BirdnetProject')\n",
        "    !git pull\n",
        "\n",
        "# List the contents of the directory to verify the repository was cloned\n",
        "!ls"
      ]
    },
    {
      "cell_type": "code",
      "execution_count": 7,
      "metadata": {
        "colab": {
          "base_uri": "https://localhost:8080/"
        },
        "id": "YoUfTX4x9MPW",
        "outputId": "70ac97e6-b73a-41f7-bbd3-9deaddb74468"
      },
      "outputs": [
        {
          "output_type": "stream",
          "name": "stdout",
          "text": [
            "Requirement already satisfied: birdnetlib in /usr/local/lib/python3.10/dist-packages (0.17.2)\n",
            "Requirement already satisfied: matplotlib>=3.5.3 in /usr/local/lib/python3.10/dist-packages (from birdnetlib) (3.7.1)\n",
            "Requirement already satisfied: pydub==0.25.1 in /usr/local/lib/python3.10/dist-packages (from birdnetlib) (0.25.1)\n",
            "Requirement already satisfied: requests>=2.28.1 in /usr/local/lib/python3.10/dist-packages (from birdnetlib) (2.31.0)\n",
            "Requirement already satisfied: watchdog==2.1.9 in /usr/local/lib/python3.10/dist-packages (from birdnetlib) (2.1.9)\n",
            "Requirement already satisfied: contourpy>=1.0.1 in /usr/local/lib/python3.10/dist-packages (from matplotlib>=3.5.3->birdnetlib) (1.2.1)\n",
            "Requirement already satisfied: cycler>=0.10 in /usr/local/lib/python3.10/dist-packages (from matplotlib>=3.5.3->birdnetlib) (0.12.1)\n",
            "Requirement already satisfied: fonttools>=4.22.0 in /usr/local/lib/python3.10/dist-packages (from matplotlib>=3.5.3->birdnetlib) (4.53.1)\n",
            "Requirement already satisfied: kiwisolver>=1.0.1 in /usr/local/lib/python3.10/dist-packages (from matplotlib>=3.5.3->birdnetlib) (1.4.5)\n",
            "Requirement already satisfied: numpy>=1.20 in /usr/local/lib/python3.10/dist-packages (from matplotlib>=3.5.3->birdnetlib) (1.25.2)\n",
            "Requirement already satisfied: packaging>=20.0 in /usr/local/lib/python3.10/dist-packages (from matplotlib>=3.5.3->birdnetlib) (24.1)\n",
            "Requirement already satisfied: pillow>=6.2.0 in /usr/local/lib/python3.10/dist-packages (from matplotlib>=3.5.3->birdnetlib) (9.4.0)\n",
            "Requirement already satisfied: pyparsing>=2.3.1 in /usr/local/lib/python3.10/dist-packages (from matplotlib>=3.5.3->birdnetlib) (3.1.2)\n",
            "Requirement already satisfied: python-dateutil>=2.7 in /usr/local/lib/python3.10/dist-packages (from matplotlib>=3.5.3->birdnetlib) (2.8.2)\n",
            "Requirement already satisfied: charset-normalizer<4,>=2 in /usr/local/lib/python3.10/dist-packages (from requests>=2.28.1->birdnetlib) (3.3.2)\n",
            "Requirement already satisfied: idna<4,>=2.5 in /usr/local/lib/python3.10/dist-packages (from requests>=2.28.1->birdnetlib) (3.7)\n",
            "Requirement already satisfied: urllib3<3,>=1.21.1 in /usr/local/lib/python3.10/dist-packages (from requests>=2.28.1->birdnetlib) (2.0.7)\n",
            "Requirement already satisfied: certifi>=2017.4.17 in /usr/local/lib/python3.10/dist-packages (from requests>=2.28.1->birdnetlib) (2024.7.4)\n",
            "Requirement already satisfied: six>=1.5 in /usr/local/lib/python3.10/dist-packages (from python-dateutil>=2.7->matplotlib>=3.5.3->birdnetlib) (1.16.0)\n",
            "Requirement already satisfied: tflite-runtime in /usr/local/lib/python3.10/dist-packages (2.14.0)\n",
            "Requirement already satisfied: numpy>=1.23.2 in /usr/local/lib/python3.10/dist-packages (from tflite-runtime) (1.25.2)\n",
            "Requirement already satisfied: resampy in /usr/local/lib/python3.10/dist-packages (0.4.3)\n",
            "Requirement already satisfied: numpy>=1.17 in /usr/local/lib/python3.10/dist-packages (from resampy) (1.25.2)\n",
            "Requirement already satisfied: numba>=0.53 in /usr/local/lib/python3.10/dist-packages (from resampy) (0.60.0)\n",
            "Requirement already satisfied: llvmlite<0.44,>=0.43.0dev0 in /usr/local/lib/python3.10/dist-packages (from numba>=0.53->resampy) (0.43.0)\n",
            "Requirement already satisfied: ffmpeg in /usr/local/lib/python3.10/dist-packages (1.4)\n"
          ]
        }
      ],
      "source": [
        "#@title Install Packages\n",
        "# Install required Python packages\n",
        "!pip3 install birdnetlib\n",
        "!pip3 install tflite-runtime\n",
        "!pip3 install resampy\n",
        "!pip3 install ffmpeg"
      ]
    },
    {
      "cell_type": "code",
      "execution_count": 8,
      "metadata": {
        "id": "ue-RsKMmISyR"
      },
      "outputs": [],
      "source": [
        "#@title Import Necessary Libraries\n",
        "import resampy\n",
        "import birdnetlib\n",
        "import tflite_runtime\n",
        "import ffmpeg\n",
        "import os\n",
        "import random\n",
        "import time\n",
        "import pandas as pd\n",
        "import seaborn as sns\n",
        "import matplotlib.pyplot as plt\n",
        "from birdnetlib import Recording\n",
        "from birdnetlib.analyzer import Analyzer\n",
        "from datetime import datetime\n",
        "from scipy.stats import f_oneway"
      ]
    },
    {
      "cell_type": "code",
      "execution_count": 9,
      "metadata": {
        "id": "9ke3hNq79dxN"
      },
      "outputs": [],
      "source": [
        "#@title Define Base Directory and Transect Directories\n",
        "# Define the base directory where data is stored\n",
        "base_dir = '/content/drive/MyDrive/HAUtrans/'\n",
        "\n",
        "# List of transect directories to analyse\n",
        "transects = ['Trans5', 'Trans6', 'Trans7', 'Trans8']"
      ]
    },
    {
      "cell_type": "code",
      "execution_count": null,
      "metadata": {
        "id": "_tEf2l5MK86H"
      },
      "outputs": [],
      "source": [
        "#@title Function to Filter and Select Files\n",
        "# Function to filter and select files recorded after 5am, and randomly select three files\n",
        "def select_files(transect):\n",
        "    dir = os.path.join(base_dir, transect)\n",
        "    print(f\"Checking directory: {dir}\")\n",
        "\n",
        "    all_files = [f for f in os.listdir(dir) if os.path.isfile(os.path.join(dir, f))]\n",
        "    print(f\"All files in {transect}: {all_files}\")\n",
        "\n",
        "    # Filter files to include those past 5am\n",
        "    filtered_files = [f for f in all_files if f.split('_')[-1].endswith('.wav') and int(f.split('_')[-1].split('.')[0]) > 50000]\n",
        "\n",
        "    # Print filtered files\n",
        "    print(f\"Filtered files in {transect}: {filtered_files}\")\n",
        "\n",
        "    # Randomly select three files from filtered list\n",
        "    selected_files = random.sample(filtered_files, 3)\n",
        "\n",
        "    # Print selected files\n",
        "    print(f\"Selected files in {transect}: {selected_files}\")\n",
        "\n",
        "    return selected_files"
      ]
    },
    {
      "cell_type": "code",
      "execution_count": null,
      "metadata": {
        "colab": {
          "base_uri": "https://localhost:8080/"
        },
        "id": "LCkH-u43Gjp3",
        "outputId": "9a7cae55-670f-4f6e-892a-29887803f478"
      },
      "outputs": [
        {
          "name": "stdout",
          "output_type": "stream",
          "text": [
            "Checking directory: /content/drive/MyDrive/HAUtrans/Trans5\n",
            "All files in Trans5: ['ED3_20240502_040000.wav', 'ED3_20240502_050000.wav', 'ED3_20240502_060000.wav', 'ED3_20240502_070000.wav', 'ED3_20240502_080000.wav', 'ED3_20240502_090000.wav', 'ED3_20240503_040000.wav', 'ED3_20240503_050000.wav', 'ED3_20240503_060000.wav', 'ED3_20240503_070000.wav', 'ED3_20240503_080000.wav', 'ED3_20240503_090000.wav', 'ED3_20240504_040000.wav', 'ED3_20240504_050000.wav', 'ED3_20240504_060000.wav', 'ED3_20240504_070000.wav', 'ED3_20240504_080000.wav', 'ED3_20240504_090000.wav', 'ED3_20240505_040000.wav', 'ED3_20240505_050000.wav', 'ED3_20240505_060000.wav', 'ED3_20240505_070000.wav', 'ED3_20240505_080000.wav', 'ED3_20240505_090000.wav', 'ED3_20240506_040000.wav', 'ED3_20240506_050000.wav', 'ED3_20240506_060000.wav', 'ED3_20240506_070000.wav', 'ED3_20240506_080000.wav', 'ED3_20240506_090000.wav', 'ED3_20240507_040000.wav', 'ED3_20240507_050000.wav', 'ED3_20240507_060000.wav', 'ED3_20240507_070000.wav', 'ED3_20240507_080000.wav', 'ED3_20240507_090000.wav', 'ED3_20240508_040000.wav', 'ED3_20240508_050000.wav', 'ED3_20240508_060000.wav', 'ED3_20240508_070000.wav', 'ED3_20240508_080000.wav', 'ED3_20240508_090000.wav', 'ED3_20240509_040000.wav', 'ED3_20240509_050000.wav', 'ED3_20240509_060000.wav', 'ED3_20240509_070000.wav', 'ED3_20240509_080000.wav', 'ED3_20240509_090000.wav', 'ED3_20240510_040000.wav', 'ED3_20240510_050000.wav', 'ED3_20240510_060000.wav', 'ED3_20240510_070000.wav', 'ED3_20240510_080000.wav', 'ED3_20240510_090000.wav']\n",
            "Filtered files in Trans5: ['ED3_20240502_060000.wav', 'ED3_20240502_070000.wav', 'ED3_20240502_080000.wav', 'ED3_20240502_090000.wav', 'ED3_20240503_060000.wav', 'ED3_20240503_070000.wav', 'ED3_20240503_080000.wav', 'ED3_20240503_090000.wav', 'ED3_20240504_060000.wav', 'ED3_20240504_070000.wav', 'ED3_20240504_080000.wav', 'ED3_20240504_090000.wav', 'ED3_20240505_060000.wav', 'ED3_20240505_070000.wav', 'ED3_20240505_080000.wav', 'ED3_20240505_090000.wav', 'ED3_20240506_060000.wav', 'ED3_20240506_070000.wav', 'ED3_20240506_080000.wav', 'ED3_20240506_090000.wav', 'ED3_20240507_060000.wav', 'ED3_20240507_070000.wav', 'ED3_20240507_080000.wav', 'ED3_20240507_090000.wav', 'ED3_20240508_060000.wav', 'ED3_20240508_070000.wav', 'ED3_20240508_080000.wav', 'ED3_20240508_090000.wav', 'ED3_20240509_060000.wav', 'ED3_20240509_070000.wav', 'ED3_20240509_080000.wav', 'ED3_20240509_090000.wav', 'ED3_20240510_060000.wav', 'ED3_20240510_070000.wav', 'ED3_20240510_080000.wav', 'ED3_20240510_090000.wav']\n",
            "Selected files in Trans5: ['ED3_20240505_090000.wav']\n",
            "Checking directory: /content/drive/MyDrive/HAUtrans/Trans6\n",
            "All files in Trans6: ['ED4_20240502_040000.wav', 'ED4_20240502_050000.wav', 'ED4_20240502_060000.wav', 'ED4_20240502_070000.wav', 'ED4_20240502_080000.wav', 'ED4_20240502_090000.wav', 'ED4_20240503_040000.wav', 'ED4_20240503_050000.wav', 'ED4_20240503_060000.wav', 'ED4_20240503_070000.wav', 'ED4_20240503_080000.wav', 'ED4_20240503_090000.wav', 'ED4_20240504_040000.wav', 'ED4_20240504_050000.wav', 'ED4_20240504_060000.wav', 'ED4_20240504_070000.wav', 'ED4_20240504_080000.wav', 'ED4_20240504_090000.wav', 'ED4_20240505_040000.wav', 'ED4_20240505_050000.wav', 'ED4_20240505_060000.wav', 'ED4_20240505_070000.wav', 'ED4_20240505_080000.wav', 'ED4_20240505_090000.wav', 'ED4_20240506_040000.wav', 'ED4_20240506_050000.wav', 'ED4_20240506_060000.wav', 'ED4_20240506_070000.wav', 'ED4_20240506_080000.wav', 'ED4_20240506_090000.wav', 'ED4_20240507_040000.wav', 'ED4_20240507_050000.wav', 'ED4_20240507_060000.wav', 'ED4_20240507_070000.wav', 'ED4_20240507_080000.wav', 'ED4_20240507_090000.wav', 'ED4_20240508_040000.wav', 'ED4_20240508_050000.wav', 'ED4_20240508_060000.wav', 'ED4_20240508_070000.wav', 'ED4_20240508_080000.wav', 'ED4_20240508_090000.wav', 'ED4_20240509_040000.wav', 'ED4_20240509_050000.wav', 'ED4_20240509_060000.wav', 'ED4_20240509_070000.wav', 'ED4_20240509_080000.wav', 'ED4_20240509_090000.wav', 'ED4_20240510_040000.wav', 'ED4_20240510_050000.wav', 'ED4_20240510_060000.wav', 'ED4_20240510_070000.wav', 'ED4_20240510_080000.wav', 'ED4_20240510_090000.wav']\n",
            "Filtered files in Trans6: ['ED4_20240502_060000.wav', 'ED4_20240502_070000.wav', 'ED4_20240502_080000.wav', 'ED4_20240502_090000.wav', 'ED4_20240503_060000.wav', 'ED4_20240503_070000.wav', 'ED4_20240503_080000.wav', 'ED4_20240503_090000.wav', 'ED4_20240504_060000.wav', 'ED4_20240504_070000.wav', 'ED4_20240504_080000.wav', 'ED4_20240504_090000.wav', 'ED4_20240505_060000.wav', 'ED4_20240505_070000.wav', 'ED4_20240505_080000.wav', 'ED4_20240505_090000.wav', 'ED4_20240506_060000.wav', 'ED4_20240506_070000.wav', 'ED4_20240506_080000.wav', 'ED4_20240506_090000.wav', 'ED4_20240507_060000.wav', 'ED4_20240507_070000.wav', 'ED4_20240507_080000.wav', 'ED4_20240507_090000.wav', 'ED4_20240508_060000.wav', 'ED4_20240508_070000.wav', 'ED4_20240508_080000.wav', 'ED4_20240508_090000.wav', 'ED4_20240509_060000.wav', 'ED4_20240509_070000.wav', 'ED4_20240509_080000.wav', 'ED4_20240509_090000.wav', 'ED4_20240510_060000.wav', 'ED4_20240510_070000.wav', 'ED4_20240510_080000.wav', 'ED4_20240510_090000.wav']\n",
            "Selected files in Trans6: ['ED4_20240508_060000.wav']\n",
            "Checking directory: /content/drive/MyDrive/HAUtrans/Trans7\n",
            "All files in Trans7: ['ED1_20240502_040000.wav', 'ED1_20240502_050000.wav', 'ED1_20240502_060000.wav', 'ED1_20240502_070000.wav', 'ED1_20240502_080000.wav', 'ED1_20240502_090000.wav', 'ED1_20240503_040000.wav', 'ED1_20240503_050000.wav', 'ED1_20240503_060000.wav', 'ED1_20240503_070000.wav', 'ED1_20240503_080000.wav', 'ED1_20240503_090000.wav', 'ED1_20240504_040000.wav', 'ED1_20240504_050000.wav', 'ED1_20240504_060000.wav', 'ED1_20240504_070000.wav', 'ED1_20240504_080000.wav', 'ED1_20240504_090000.wav', 'ED1_20240505_040000.wav', 'ED1_20240505_050000.wav', 'ED1_20240505_060000.wav', 'ED1_20240505_070000.wav', 'ED1_20240505_080000.wav', 'ED1_20240505_090000.wav', 'ED1_20240506_040000.wav', 'ED1_20240506_050000.wav', 'ED1_20240506_060000.wav', 'ED1_20240506_070000.wav', 'ED1_20240506_080000.wav', 'ED1_20240506_090000.wav', 'ED1_20240507_040000.wav', 'ED1_20240507_050000.wav', 'ED1_20240507_060000.wav', 'ED1_20240507_070000.wav', 'ED1_20240507_080000.wav', 'ED1_20240507_090000.wav', 'ED1_20240508_040000.wav', 'ED1_20240508_050000.wav', 'ED1_20240508_060000.wav', 'ED1_20240508_070000.wav', 'ED1_20240508_080000.wav', 'ED1_20240508_090000.wav', 'ED1_20240509_040000.wav', 'ED1_20240509_050000.wav', 'ED1_20240509_060000.wav', 'ED1_20240509_070000.wav', 'ED1_20240509_080000.wav', 'ED1_20240509_090000.wav', 'ED1_20240510_040000.wav', 'ED1_20240510_050000.wav', 'ED1_20240510_060000.wav', 'ED1_20240510_070000.wav', 'ED1_20240510_080000.wav', 'ED1_20240510_090000.wav']\n",
            "Filtered files in Trans7: ['ED1_20240502_060000.wav', 'ED1_20240502_070000.wav', 'ED1_20240502_080000.wav', 'ED1_20240502_090000.wav', 'ED1_20240503_060000.wav', 'ED1_20240503_070000.wav', 'ED1_20240503_080000.wav', 'ED1_20240503_090000.wav', 'ED1_20240504_060000.wav', 'ED1_20240504_070000.wav', 'ED1_20240504_080000.wav', 'ED1_20240504_090000.wav', 'ED1_20240505_060000.wav', 'ED1_20240505_070000.wav', 'ED1_20240505_080000.wav', 'ED1_20240505_090000.wav', 'ED1_20240506_060000.wav', 'ED1_20240506_070000.wav', 'ED1_20240506_080000.wav', 'ED1_20240506_090000.wav', 'ED1_20240507_060000.wav', 'ED1_20240507_070000.wav', 'ED1_20240507_080000.wav', 'ED1_20240507_090000.wav', 'ED1_20240508_060000.wav', 'ED1_20240508_070000.wav', 'ED1_20240508_080000.wav', 'ED1_20240508_090000.wav', 'ED1_20240509_060000.wav', 'ED1_20240509_070000.wav', 'ED1_20240509_080000.wav', 'ED1_20240509_090000.wav', 'ED1_20240510_060000.wav', 'ED1_20240510_070000.wav', 'ED1_20240510_080000.wav', 'ED1_20240510_090000.wav']\n",
            "Selected files in Trans7: ['ED1_20240505_060000.wav']\n",
            "Checking directory: /content/drive/MyDrive/HAUtrans/Trans8\n",
            "All files in Trans8: ['ED2_20240502_040000.wav', 'ED2_20240502_050000.wav', 'ED2_20240502_060000.wav', 'ED2_20240502_070000.wav', 'ED2_20240502_080000.wav', 'ED2_20240502_090000.wav', 'ED2_20240503_040000.wav', 'ED2_20240503_050000.wav', 'ED2_20240503_060000.wav', 'ED2_20240503_070000.wav', 'ED2_20240503_080000.wav', 'ED2_20240503_090000.wav', 'ED2_20240504_040000.wav', 'ED2_20240504_050000.wav', 'ED2_20240504_060000.wav', 'ED2_20240504_070000.wav', 'ED2_20240504_080000.wav', 'ED2_20240504_090000.wav', 'ED2_20240505_040000.wav', 'ED2_20240505_050000.wav', 'ED2_20240505_060000.wav', 'ED2_20240505_070000.wav', 'ED2_20240505_080000.wav', 'ED2_20240505_090000.wav', 'ED2_20240506_040000.wav', 'ED2_20240506_050000.wav', 'ED2_20240506_060000.wav', 'ED2_20240506_070000.wav', 'ED2_20240506_080000.wav', 'ED2_20240506_090000.wav', 'ED2_20240507_040000.wav', 'ED2_20240507_050000.wav', 'ED2_20240507_060000.wav', 'ED2_20240507_070000.wav', 'ED2_20240507_080000.wav', 'ED2_20240507_090000.wav', 'ED2_20240508_040000.wav', 'ED2_20240508_050000.wav', 'ED2_20240508_060000.wav', 'ED2_20240508_070000.wav', 'ED2_20240508_080000.wav', 'ED2_20240508_090000.wav', 'ED2_20240509_040000.wav', 'ED2_20240509_050000.wav', 'ED2_20240509_060000.wav', 'ED2_20240509_070000.wav', 'ED2_20240509_080000.wav', 'ED2_20240509_090000.wav', 'ED2_20240510_040000.wav', 'ED2_20240510_050000.wav', 'ED2_20240510_060000.wav', 'ED2_20240510_070000.wav', 'ED2_20240510_080000.wav', 'ED2_20240510_090000.wav']\n",
            "Filtered files in Trans8: ['ED2_20240502_060000.wav', 'ED2_20240502_070000.wav', 'ED2_20240502_080000.wav', 'ED2_20240502_090000.wav', 'ED2_20240503_060000.wav', 'ED2_20240503_070000.wav', 'ED2_20240503_080000.wav', 'ED2_20240503_090000.wav', 'ED2_20240504_060000.wav', 'ED2_20240504_070000.wav', 'ED2_20240504_080000.wav', 'ED2_20240504_090000.wav', 'ED2_20240505_060000.wav', 'ED2_20240505_070000.wav', 'ED2_20240505_080000.wav', 'ED2_20240505_090000.wav', 'ED2_20240506_060000.wav', 'ED2_20240506_070000.wav', 'ED2_20240506_080000.wav', 'ED2_20240506_090000.wav', 'ED2_20240507_060000.wav', 'ED2_20240507_070000.wav', 'ED2_20240507_080000.wav', 'ED2_20240507_090000.wav', 'ED2_20240508_060000.wav', 'ED2_20240508_070000.wav', 'ED2_20240508_080000.wav', 'ED2_20240508_090000.wav', 'ED2_20240509_060000.wav', 'ED2_20240509_070000.wav', 'ED2_20240509_080000.wav', 'ED2_20240509_090000.wav', 'ED2_20240510_060000.wav', 'ED2_20240510_070000.wav', 'ED2_20240510_080000.wav', 'ED2_20240510_090000.wav']\n",
            "Selected files in Trans8: ['ED2_20240506_060000.wav']\n"
          ]
        }
      ],
      "source": [
        "#@title Select Files from Each Transect\n",
        "# Loop through each transect and select files\n",
        "select_files_all = []\n",
        "for transect in transects:\n",
        "    selected_files = select_files(transect)\n",
        "    select_files_all.extend(selected_files)"
      ]
    },
    {
      "cell_type": "code",
      "execution_count": null,
      "metadata": {
        "colab": {
          "base_uri": "https://localhost:8080/"
        },
        "id": "877hoEWvHuAu",
        "outputId": "b1cf87cc-d436-4c67-94ee-99a7926c99a7"
      },
      "outputs": [
        {
          "name": "stdout",
          "output_type": "stream",
          "text": [
            "All selected files from all transects:\n",
            "['ED3_20240505_090000.wav', 'ED4_20240508_060000.wav', 'ED1_20240505_060000.wav', 'ED2_20240506_060000.wav']\n"
          ]
        }
      ],
      "source": [
        "#@title Show Selected Files\n",
        "print(\"All selected files from all transects:\")\n",
        "print(select_files_all)"
      ]
    },
    {
      "cell_type": "code",
      "execution_count": null,
      "metadata": {
        "colab": {
          "base_uri": "https://localhost:8080/"
        },
        "id": "ZDJ6voT6KQ8k",
        "outputId": "b0349423-8cb7-4e6b-8702-f385d33fe105"
      },
      "outputs": [
        {
          "name": "stdout",
          "output_type": "stream",
          "text": [
            "Labels loaded.\n",
            "load model True\n",
            "Model loaded.\n",
            "Labels loaded.\n",
            "load_species_list_model\n",
            "Meta model loaded.\n"
          ]
        }
      ],
      "source": [
        "#@title Initialize BirdNET-Analyzer Model & Define Recording Metadata\n",
        "# Load and initialise the BirdNET-Analyzer model\n",
        "analyzer = Analyzer()\n",
        "\n",
        "# Define location coordinates and date for the recordings\n",
        "testamp = [52.911,-2.4441] # near Market Drayton year=2024, month=4, day=20\n",
        "recording_date = datetime(year=2024, month=5, day=5)"
      ]
    },
    {
      "cell_type": "code",
      "execution_count": null,
      "metadata": {
        "id": "_7EBEVnnKUYA"
      },
      "outputs": [],
      "source": [
        "#@title Initialise Result Storage\n",
        "# Dictionary to store filtered results\n",
        "filtered_results  = {}\n",
        "\n",
        "# Dictionary to store time taken for each file's analysis\n",
        "time_taken = {file_name: [] for file_name in select_files_all}"
      ]
    },
    {
      "cell_type": "code",
      "execution_count": null,
      "metadata": {
        "id": "42q5ytUVRxE5"
      },
      "outputs": [],
      "source": [
        "#@title Function to Analyse and Time Each File\n",
        "# Function to analyse a file and record time taken\n",
        "def analyze_and_time(file_name):\n",
        "    try:\n",
        "        start_time = time.time()\n",
        "\n",
        "        # Include the correct path to the data files\n",
        "        for transect in transects:\n",
        "            dir = os.path.join(base_dir, transect)\n",
        "            file_path = os.path.join(dir, file_name)\n",
        "            if os.path.exists(file_path):\n",
        "                break\n",
        "\n",
        "        # Create a Recording object and analyze it\n",
        "        recording = Recording(\n",
        "            analyzer,\n",
        "            file_path,  # path to the recording file\n",
        "            lat=testamp[0],  # latitude of the recording location\n",
        "            lon=testamp[1],  # longitude of the recording location\n",
        "            date=recording_date,  # use the predefined date\n",
        "            min_conf=0.25,\n",
        "        )\n",
        "        recording.analyze()\n",
        "        filtered_results[file_name] = recording.detections\n",
        "\n",
        "        # Record the time taken for analysis\n",
        "        end_time = time.time()\n",
        "        duration = end_time - start_time\n",
        "        time_taken[file_name].append(duration)\n",
        "        print(f\"Completed analysis for {file_name} in {duration} seconds\")\n",
        "    except Exception as e:\n",
        "        print(f\"Error processing {file_name}: {e}\")"
      ]
    },
    {
      "cell_type": "code",
      "execution_count": null,
      "metadata": {
        "colab": {
          "base_uri": "https://localhost:8080/"
        },
        "id": "oR7KdEPPR1VG",
        "outputId": "a52cf443-976f-450c-acc0-d593de33bc7e"
      },
      "outputs": [
        {
          "name": "stdout",
          "output_type": "stream",
          "text": [
            "read_audio_data\n",
            "read_audio_data: complete, read  600 chunks.\n",
            "analyze_recording ED3_20240505_090000.wav\n",
            "recording has lon/lat\n",
            "set_predicted_species_list_from_position\n",
            "return_predicted_species_list\n",
            "17\n",
            "138 species loaded.\n",
            "Completed analysis for ED3_20240505_090000.wav in 134.20243406295776 seconds\n",
            "read_audio_data\n",
            "read_audio_data: complete, read  600 chunks.\n",
            "analyze_recording ED4_20240508_060000.wav\n",
            "recording has lon/lat\n",
            "set_predicted_species_list_from_position\n",
            "Completed analysis for ED4_20240508_060000.wav in 133.96542477607727 seconds\n",
            "read_audio_data\n",
            "read_audio_data: complete, read  600 chunks.\n",
            "analyze_recording ED1_20240505_060000.wav\n",
            "recording has lon/lat\n",
            "set_predicted_species_list_from_position\n",
            "Completed analysis for ED1_20240505_060000.wav in 133.2010498046875 seconds\n",
            "read_audio_data\n",
            "read_audio_data: complete, read  600 chunks.\n",
            "analyze_recording ED2_20240506_060000.wav\n",
            "recording has lon/lat\n",
            "set_predicted_species_list_from_position\n",
            "Completed analysis for ED2_20240506_060000.wav in 134.88495683670044 seconds\n",
            "read_audio_data\n",
            "read_audio_data: complete, read  600 chunks.\n",
            "analyze_recording ED3_20240505_090000.wav\n",
            "recording has lon/lat\n",
            "set_predicted_species_list_from_position\n",
            "Completed analysis for ED3_20240505_090000.wav in 131.3118667602539 seconds\n",
            "read_audio_data\n",
            "read_audio_data: complete, read  600 chunks.\n",
            "analyze_recording ED4_20240508_060000.wav\n",
            "recording has lon/lat\n",
            "set_predicted_species_list_from_position\n",
            "Completed analysis for ED4_20240508_060000.wav in 131.701429605484 seconds\n",
            "read_audio_data\n",
            "read_audio_data: complete, read  600 chunks.\n",
            "analyze_recording ED1_20240505_060000.wav\n",
            "recording has lon/lat\n",
            "set_predicted_species_list_from_position\n",
            "Completed analysis for ED1_20240505_060000.wav in 131.9317605495453 seconds\n",
            "read_audio_data\n",
            "read_audio_data: complete, read  600 chunks.\n",
            "analyze_recording ED2_20240506_060000.wav\n",
            "recording has lon/lat\n",
            "set_predicted_species_list_from_position\n",
            "Completed analysis for ED2_20240506_060000.wav in 152.09776711463928 seconds\n",
            "read_audio_data\n",
            "read_audio_data: complete, read  600 chunks.\n",
            "analyze_recording ED3_20240505_090000.wav\n",
            "recording has lon/lat\n",
            "set_predicted_species_list_from_position\n",
            "Completed analysis for ED3_20240505_090000.wav in 145.11748242378235 seconds\n",
            "read_audio_data\n",
            "read_audio_data: complete, read  600 chunks.\n",
            "analyze_recording ED4_20240508_060000.wav\n",
            "recording has lon/lat\n",
            "set_predicted_species_list_from_position\n",
            "Completed analysis for ED4_20240508_060000.wav in 132.45288228988647 seconds\n",
            "read_audio_data\n",
            "read_audio_data: complete, read  600 chunks.\n",
            "analyze_recording ED1_20240505_060000.wav\n",
            "recording has lon/lat\n",
            "set_predicted_species_list_from_position\n",
            "Completed analysis for ED1_20240505_060000.wav in 134.0025405883789 seconds\n",
            "read_audio_data\n",
            "read_audio_data: complete, read  600 chunks.\n",
            "analyze_recording ED2_20240506_060000.wav\n",
            "recording has lon/lat\n",
            "set_predicted_species_list_from_position\n",
            "Completed analysis for ED2_20240506_060000.wav in 131.87685227394104 seconds\n"
          ]
        }
      ],
      "source": [
        "#@title Analyse Files and Record Time\n",
        "# Run the analysis twice for each selected file\n",
        "for _ in range(3):\n",
        "    for file_name in select_files_all:\n",
        "        analyze_and_time(file_name)"
      ]
    },
    {
      "cell_type": "code",
      "execution_count": null,
      "metadata": {
        "colab": {
          "base_uri": "https://localhost:8080/"
        },
        "id": "wZtwx27XUdmg",
        "outputId": "eb4a8442-5be5-4071-c539-5715cb02ee60"
      },
      "outputs": [
        {
          "name": "stdout",
          "output_type": "stream",
          "text": [
            "Time taken for ED3_20240505_090000.wav: [134.20243406295776, 131.3118667602539, 145.11748242378235]\n",
            "Time taken for ED4_20240508_060000.wav: [133.96542477607727, 131.701429605484, 132.45288228988647]\n",
            "Time taken for ED1_20240505_060000.wav: [133.2010498046875, 131.9317605495453, 134.0025405883789]\n",
            "Time taken for ED2_20240506_060000.wav: [134.88495683670044, 152.09776711463928, 131.87685227394104]\n"
          ]
        }
      ],
      "source": [
        "#@title Print Time Taken for Each File\n",
        "# Print the time taken for each file\n",
        "for file_name, times in time_taken.items():\n",
        "    print(f\"Time taken for {file_name}: {times}\")"
      ]
    },
    {
      "cell_type": "code",
      "execution_count": 11,
      "metadata": {
        "id": "nb271ZhfUZ7G"
      },
      "outputs": [],
      "source": [
        "#@title Define Time Taken for Each File\n",
        "time_taken = {\n",
        "    'ED3_20240504_060000.wav': [148.26567888259888, 131.3175413608551, 131.81006503105164],\n",
        "    'ED3_20240507_060000.wav': [135.44273924827576, 132.589524269104, 130.95629000663757],\n",
        "    'ED3_20240507_080000.wav': [132.7655291557312, 130.96111297607422, 132.50833368301392],\n",
        "    'ED4_20240506_080000.wav': [134.55523228645325, 131.93665766716003, 131.01889991760254],\n",
        "    'ED4_20240507_070000.wav': [133.07267451286316, 131.65339422225952, 130.59835863113403],\n",
        "    'ED4_20240509_090000.wav': [136.04011631011963, 130.6758518218994, 132.39158415794373],\n",
        "    'ED1_20240504_080000.wav': [132.42154240608215, 132.48319792747498, 130.7896022796631],\n",
        "    'ED1_20240502_060000.wav': [134.03174543380737, 131.08203983306885, 131.17507648468018],\n",
        "    'ED1_20240509_060000.wav': [133.2044644355774, 130.86867833137512, 131.52107191085815],\n",
        "    'ED2_20240506_080000.wav': [134.92906951904297, 132.47607445716858, 130.89053201675415],\n",
        "    'ED2_20240507_060000.wav': [133.40657448768616, 130.94219160079956, 132.01655673980713],\n",
        "    'ED2_20240502_060000.wav': [134.09416151046753, 131.09309935569763, 131.28739380836487],\n",
        "    'ED3_20240505_090000.wav': [134.20243406295776, 131.3118667602539, 145.11748242378235],\n",
        "    'ED4_20240508_060000.wav': [133.96542477607727, 131.701429605484, 132.45288228988647],\n",
        "    'ED1_20240505_060000.wav': [133.2010498046875, 131.9317605495453, 134.0025405883789],\n",
        "    'ED2_20240506_060000.wav': [134.88495683670044, 152.09776711463928, 131.87685227394104]\n",
        "}"
      ]
    },
    {
      "cell_type": "code",
      "source": [
        "#@title Convert Time Data to DataFrame\n",
        "# Convert time_taken dictionary into list of dictionaries\n",
        "data = []\n",
        "for file_name, times in time_taken.items():\n",
        "    for i, time_value in enumerate(times):\n",
        "        data.append({'file_name': file_name, 'run': i + 1, 'time': time_value})\n",
        "\n",
        "# Create DataFrame from list of dictionaries\n",
        "df = pd.DataFrame(data)"
      ],
      "metadata": {
        "id": "KWv6AyZbrfqJ"
      },
      "execution_count": 12,
      "outputs": []
    },
    {
      "cell_type": "code",
      "source": [
        "#@title Save Timing Data to CSV & Display Data\n",
        "# Save to CSV\n",
        "csv_path = '/content/drive/MyDrive/timing_data.csv'\n",
        "df.to_csv(csv_path, index=False)\n",
        "print(f\"Timing data saved to {csv_path}\")\n",
        "\n",
        "# Load timing data from CSV file\n",
        "df = pd.read_csv(csv_path)\n",
        "print(df)"
      ],
      "metadata": {
        "colab": {
          "base_uri": "https://localhost:8080/"
        },
        "id": "0FhmZXuZrr51",
        "outputId": "4bef0f77-5d96-4d64-ed1e-0a95f5bdab14"
      },
      "execution_count": 13,
      "outputs": [
        {
          "output_type": "stream",
          "name": "stdout",
          "text": [
            "Timing data saved to /content/drive/MyDrive/timing_data.csv\n",
            "                  file_name  run        time\n",
            "0   ED3_20240504_060000.wav    1  148.265679\n",
            "1   ED3_20240504_060000.wav    2  131.317541\n",
            "2   ED3_20240504_060000.wav    3  131.810065\n",
            "3   ED3_20240507_060000.wav    1  135.442739\n",
            "4   ED3_20240507_060000.wav    2  132.589524\n",
            "5   ED3_20240507_060000.wav    3  130.956290\n",
            "6   ED3_20240507_080000.wav    1  132.765529\n",
            "7   ED3_20240507_080000.wav    2  130.961113\n",
            "8   ED3_20240507_080000.wav    3  132.508334\n",
            "9   ED4_20240506_080000.wav    1  134.555232\n",
            "10  ED4_20240506_080000.wav    2  131.936658\n",
            "11  ED4_20240506_080000.wav    3  131.018900\n",
            "12  ED4_20240507_070000.wav    1  133.072675\n",
            "13  ED4_20240507_070000.wav    2  131.653394\n",
            "14  ED4_20240507_070000.wav    3  130.598359\n",
            "15  ED4_20240509_090000.wav    1  136.040116\n",
            "16  ED4_20240509_090000.wav    2  130.675852\n",
            "17  ED4_20240509_090000.wav    3  132.391584\n",
            "18  ED1_20240504_080000.wav    1  132.421542\n",
            "19  ED1_20240504_080000.wav    2  132.483198\n",
            "20  ED1_20240504_080000.wav    3  130.789602\n",
            "21  ED1_20240502_060000.wav    1  134.031745\n",
            "22  ED1_20240502_060000.wav    2  131.082040\n",
            "23  ED1_20240502_060000.wav    3  131.175076\n",
            "24  ED1_20240509_060000.wav    1  133.204464\n",
            "25  ED1_20240509_060000.wav    2  130.868678\n",
            "26  ED1_20240509_060000.wav    3  131.521072\n",
            "27  ED2_20240506_080000.wav    1  134.929070\n",
            "28  ED2_20240506_080000.wav    2  132.476074\n",
            "29  ED2_20240506_080000.wav    3  130.890532\n",
            "30  ED2_20240507_060000.wav    1  133.406574\n",
            "31  ED2_20240507_060000.wav    2  130.942192\n",
            "32  ED2_20240507_060000.wav    3  132.016557\n",
            "33  ED2_20240502_060000.wav    1  134.094162\n",
            "34  ED2_20240502_060000.wav    2  131.093099\n",
            "35  ED2_20240502_060000.wav    3  131.287394\n",
            "36  ED3_20240505_090000.wav    1  134.202434\n",
            "37  ED3_20240505_090000.wav    2  131.311867\n",
            "38  ED3_20240505_090000.wav    3  145.117482\n",
            "39  ED4_20240508_060000.wav    1  133.965425\n",
            "40  ED4_20240508_060000.wav    2  131.701430\n",
            "41  ED4_20240508_060000.wav    3  132.452882\n",
            "42  ED1_20240505_060000.wav    1  133.201050\n",
            "43  ED1_20240505_060000.wav    2  131.931761\n",
            "44  ED1_20240505_060000.wav    3  134.002541\n",
            "45  ED2_20240506_060000.wav    1  134.884957\n",
            "46  ED2_20240506_060000.wav    2  152.097767\n",
            "47  ED2_20240506_060000.wav    3  131.876852\n"
          ]
        }
      ]
    },
    {
      "cell_type": "code",
      "source": [
        "#@title Visualise Processing Time with Box Plot & ANOVA Analysis of Processing Times\n",
        "# Create Box Plots\n",
        "plt.figure(figsize=(12, 8))\n",
        "sns.boxplot(x='file_name', y='time', data=df)\n",
        "plt.xticks(rotation=90)\n",
        "plt.title('Box Plot of Processing Time for Each File')\n",
        "plt.xlabel('File Name')\n",
        "plt.ylabel('Time (seconds)')\n",
        "plt.show()\n",
        "\n",
        "# ANOVA\n",
        "# Group the times by file_name\n",
        "grouped_times = [df[df['file_name'] == file_name]['time'].values for file_name in df['file_name'].unique()]\n",
        "\n",
        "# Perform One-way ANOVA to check for significant differences in processing times\n",
        "f_stat, p_value = f_oneway(*grouped_times)\n",
        "\n",
        "print(f\"ANOVA results: F-statistic = {f_stat}, p-value = {p_value}\")\n",
        "\n",
        "# Interpretation\n",
        "if p_value < 0.05:\n",
        "    print(\"There is a significant difference in the time taken between different files.\")\n",
        "else:\n",
        "    print(\"There is no significant difference in the time taken between different files.\")\n"
      ],
      "metadata": {
        "colab": {
          "base_uri": "https://localhost:8080/",
          "height": 613
        },
        "id": "r1f_v51OrZXj",
        "outputId": "e4ec78e0-ed53-46ba-baf4-b1ab93120b59"
      },
      "execution_count": 14,
      "outputs": [
        {
          "output_type": "display_data",
          "data": {
            "text/plain": [
              "<Figure size 1200x800 with 1 Axes>"
            ],
            "image/png": "[encoded data removed]"
          },
          "metadata": {}
        },
        {
          "output_type": "stream",
          "name": "stdout",
          "text": [
            "ANOVA results: F-statistic = 0.8614089297007389, p-value = 0.6089314460200816\n",
            "There is no significant difference in the time taken between different files.\n"
          ]
        }
      ]
    },
    {
      "cell_type": "code",
      "source": [],
      "metadata": {
        "id": "6P9ZXSvWr2nN"
      },
      "execution_count": null,
      "outputs": []
    }
  ],
  "metadata": {
    "colab": {
      "provenance": [],
      "include_colab_link": true
    },
    "kernelspec": {
      "display_name": "Python 3",
      "name": "python3"
    },
    "language_info": {
      "name": "python"
    }
  },
  "nbformat": 4,
  "nbformat_minor": 0
}