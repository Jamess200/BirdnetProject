{
  "nbformat": 4,
  "nbformat_minor": 0,
  "metadata": {
    "colab": {
      "provenance": [],
      "mount_file_id": "https://github.com/Jamess200/birdnetTest/blob/James_Branch/Inital_BN_Test.ipynb",
      "authorship_tag": "ABX9TyPcgv36amJfQuPWY2KwMCpi",
      "include_colab_link": true
    },
    "kernelspec": {
      "name": "python3",
      "display_name": "Python 3"
    },
    "language_info": {
      "name": "python"
    }
  },
  "cells": [
    {
      "cell_type": "markdown",
      "metadata": {
        "id": "view-in-github",
        "colab_type": "text"
      },
      "source": [
        "<a href=\"https://colab.research.google.com/github/Jamess200/BirdnetProject/blob/main/Files/scripts/BirdNETAudio_To_CSV.ipynb\" target=\"_parent\"><img src=\"https://colab.research.google.com/assets/colab-badge.svg\" alt=\"Open In Colab\"/></a>"
      ]
    },
    {
      "cell_type": "code",
      "source": [
        "# Mount Google Drive\n",
        "from google.colab import drive\n",
        "drive.mount('/content/drive')"
      ],
      "metadata": {
        "colab": {
          "base_uri": "https://localhost:8080/"
        },
        "id": "UBQ0gb-zJaF7",
        "outputId": "2f5089eb-cb92-4e23-9d79-49f57d54b75f"
      },
      "execution_count": 1,
      "outputs": [
        {
          "output_type": "stream",
          "name": "stdout",
          "text": [
            "Mounted at /content/drive\n"
          ]
        }
      ]
    },
    {
      "cell_type": "code",
      "source": [
        "%cd /content/drive/MyDrive/"
      ],
      "metadata": {
        "colab": {
          "base_uri": "https://localhost:8080/"
        },
        "id": "6STr5lGE9sFd",
        "outputId": "fefb435b-eb11-4388-fd91-710c7b848d9b"
      },
      "execution_count": 2,
      "outputs": [
        {
          "output_type": "stream",
          "name": "stdout",
          "text": [
            "/content/drive/MyDrive\n"
          ]
        }
      ]
    },
    {
      "cell_type": "code",
      "source": [
        "import os\n",
        "# Define path in Google Drive where you want to clone the repository\n",
        "repo_path = '/content/drive/MyDrive/'\n",
        "\n",
        "# Check if directory already exists\n",
        "if not os.path.exists(repo_path):\n",
        "    os.makedirs(repo_path)\n",
        "\n",
        "# Change working directory to defined path\n",
        "os.chdir(repo_path)\n",
        "\n",
        "# Clone the repository if doesnt exist, otherwise pull latest changes\n",
        "if not os.path.exists(os.path.join(repo_path, 'BirdnetProject')):\n",
        "    !git clone https://github.com/Jamess200/BirdnetProject\n",
        "else:\n",
        "    os.chdir('BirdnetProject')\n",
        "    !git pull\n",
        "\n",
        "# Verify cloned repository\n",
        "!ls"
      ],
      "metadata": {
        "id": "CPfnA6GjBNJs",
        "outputId": "7df0eeb6-7566-4f2b-fc8b-da3ab4ec5e47",
        "colab": {
          "base_uri": "https://localhost:8080/"
        }
      },
      "execution_count": 6,
      "outputs": [
        {
          "output_type": "stream",
          "name": "stdout",
          "text": [
            "Cloning into 'BirdnetProject'...\n",
            "remote: Enumerating objects: 234, done.\u001b[K\n",
            "remote: Counting objects: 100% (41/41), done.\u001b[K\n",
            "remote: Compressing objects: 100% (36/36), done.\u001b[K\n",
            "remote: Total 234 (delta 20), reused 19 (delta 5), pack-reused 193\u001b[K\n",
            "Receiving objects: 100% (234/234), 1.27 GiB | 13.57 MiB/s, done.\n",
            "Resolving deltas: 100% (95/95), done.\n",
            "Updating files: 100% (42/42), done.\n",
            " BirdnetProject  'Colab Notebooks'   MyBirdNetTest\t timing_data.csv\n",
            " birdnetTest\t  HAUtrans\t     timing_data_2.csv\n"
          ]
        }
      ]
    },
    {
      "cell_type": "code",
      "execution_count": 7,
      "metadata": {
        "colab": {
          "base_uri": "https://localhost:8080/"
        },
        "id": "YoUfTX4x9MPW",
        "outputId": "95201ddc-fa8a-44f0-b0ca-f15ac70ce9e5"
      },
      "outputs": [
        {
          "output_type": "stream",
          "name": "stdout",
          "text": [
            "Collecting birdnetlib\n",
            "  Downloading birdnetlib-0.17.2-py3-none-any.whl.metadata (4.3 kB)\n",
            "Requirement already satisfied: matplotlib>=3.5.3 in /usr/local/lib/python3.10/dist-packages (from birdnetlib) (3.7.1)\n",
            "Collecting pydub==0.25.1 (from birdnetlib)\n",
            "  Downloading pydub-0.25.1-py2.py3-none-any.whl.metadata (1.4 kB)\n",
            "Requirement already satisfied: requests>=2.28.1 in /usr/local/lib/python3.10/dist-packages (from birdnetlib) (2.31.0)\n",
            "Collecting watchdog==2.1.9 (from birdnetlib)\n",
            "  Downloading watchdog-2.1.9-py3-none-manylinux2014_x86_64.whl.metadata (33 kB)\n",
            "Requirement already satisfied: contourpy>=1.0.1 in /usr/local/lib/python3.10/dist-packages (from matplotlib>=3.5.3->birdnetlib) (1.2.1)\n",
            "Requirement already satisfied: cycler>=0.10 in /usr/local/lib/python3.10/dist-packages (from matplotlib>=3.5.3->birdnetlib) (0.12.1)\n",
            "Requirement already satisfied: fonttools>=4.22.0 in /usr/local/lib/python3.10/dist-packages (from matplotlib>=3.5.3->birdnetlib) (4.53.1)\n",
            "Requirement already satisfied: kiwisolver>=1.0.1 in /usr/local/lib/python3.10/dist-packages (from matplotlib>=3.5.3->birdnetlib) (1.4.5)\n",
            "Requirement already satisfied: numpy>=1.20 in /usr/local/lib/python3.10/dist-packages (from matplotlib>=3.5.3->birdnetlib) (1.25.2)\n",
            "Requirement already satisfied: packaging>=20.0 in /usr/local/lib/python3.10/dist-packages (from matplotlib>=3.5.3->birdnetlib) (24.1)\n",
            "Requirement already satisfied: pillow>=6.2.0 in /usr/local/lib/python3.10/dist-packages (from matplotlib>=3.5.3->birdnetlib) (9.4.0)\n",
            "Requirement already satisfied: pyparsing>=2.3.1 in /usr/local/lib/python3.10/dist-packages (from matplotlib>=3.5.3->birdnetlib) (3.1.2)\n",
            "Requirement already satisfied: python-dateutil>=2.7 in /usr/local/lib/python3.10/dist-packages (from matplotlib>=3.5.3->birdnetlib) (2.8.2)\n",
            "Requirement already satisfied: charset-normalizer<4,>=2 in /usr/local/lib/python3.10/dist-packages (from requests>=2.28.1->birdnetlib) (3.3.2)\n",
            "Requirement already satisfied: idna<4,>=2.5 in /usr/local/lib/python3.10/dist-packages (from requests>=2.28.1->birdnetlib) (3.7)\n",
            "Requirement already satisfied: urllib3<3,>=1.21.1 in /usr/local/lib/python3.10/dist-packages (from requests>=2.28.1->birdnetlib) (2.0.7)\n",
            "Requirement already satisfied: certifi>=2017.4.17 in /usr/local/lib/python3.10/dist-packages (from requests>=2.28.1->birdnetlib) (2024.7.4)\n",
            "Requirement already satisfied: six>=1.5 in /usr/local/lib/python3.10/dist-packages (from python-dateutil>=2.7->matplotlib>=3.5.3->birdnetlib) (1.16.0)\n",
            "Downloading birdnetlib-0.17.2-py3-none-any.whl (61.1 MB)\n",
            "\u001b[2K   \u001b[90m━━━━━━━━━━━━━━━━━━━━━━━━━━━━━━━━━━━━━━━━\u001b[0m \u001b[32m61.1/61.1 MB\u001b[0m \u001b[31m10.8 MB/s\u001b[0m eta \u001b[36m0:00:00\u001b[0m\n",
            "\u001b[?25hDownloading pydub-0.25.1-py2.py3-none-any.whl (32 kB)\n",
            "Downloading watchdog-2.1.9-py3-none-manylinux2014_x86_64.whl (78 kB)\n",
            "\u001b[2K   \u001b[90m━━━━━━━━━━━━━━━━━━━━━━━━━━━━━━━━━━━━━━━━\u001b[0m \u001b[32m78.4/78.4 kB\u001b[0m \u001b[31m5.7 MB/s\u001b[0m eta \u001b[36m0:00:00\u001b[0m\n",
            "\u001b[?25hInstalling collected packages: pydub, watchdog, birdnetlib\n",
            "Successfully installed birdnetlib-0.17.2 pydub-0.25.1 watchdog-2.1.9\n",
            "Collecting tflite-runtime\n",
            "  Downloading tflite_runtime-2.14.0-cp310-cp310-manylinux2014_x86_64.whl.metadata (1.4 kB)\n",
            "Requirement already satisfied: numpy>=1.23.2 in /usr/local/lib/python3.10/dist-packages (from tflite-runtime) (1.25.2)\n",
            "Downloading tflite_runtime-2.14.0-cp310-cp310-manylinux2014_x86_64.whl (2.4 MB)\n",
            "\u001b[2K   \u001b[90m━━━━━━━━━━━━━━━━━━━━━━━━━━━━━━━━━━━━━━━━\u001b[0m \u001b[32m2.4/2.4 MB\u001b[0m \u001b[31m28.0 MB/s\u001b[0m eta \u001b[36m0:00:00\u001b[0m\n",
            "\u001b[?25hInstalling collected packages: tflite-runtime\n",
            "Successfully installed tflite-runtime-2.14.0\n",
            "Collecting resampy\n",
            "  Downloading resampy-0.4.3-py3-none-any.whl.metadata (3.0 kB)\n",
            "Requirement already satisfied: numpy>=1.17 in /usr/local/lib/python3.10/dist-packages (from resampy) (1.25.2)\n",
            "Requirement already satisfied: numba>=0.53 in /usr/local/lib/python3.10/dist-packages (from resampy) (0.60.0)\n",
            "Requirement already satisfied: llvmlite<0.44,>=0.43.0dev0 in /usr/local/lib/python3.10/dist-packages (from numba>=0.53->resampy) (0.43.0)\n",
            "Downloading resampy-0.4.3-py3-none-any.whl (3.1 MB)\n",
            "\u001b[2K   \u001b[90m━━━━━━━━━━━━━━━━━━━━━━━━━━━━━━━━━━━━━━━━\u001b[0m \u001b[32m3.1/3.1 MB\u001b[0m \u001b[31m40.9 MB/s\u001b[0m eta \u001b[36m0:00:00\u001b[0m\n",
            "\u001b[?25hInstalling collected packages: resampy\n",
            "Successfully installed resampy-0.4.3\n",
            "Collecting ffmpeg\n",
            "  Downloading ffmpeg-1.4.tar.gz (5.1 kB)\n",
            "  Preparing metadata (setup.py) ... \u001b[?25l\u001b[?25hdone\n",
            "Building wheels for collected packages: ffmpeg\n",
            "  Building wheel for ffmpeg (setup.py) ... \u001b[?25l\u001b[?25hdone\n",
            "  Created wheel for ffmpeg: filename=ffmpeg-1.4-py3-none-any.whl size=6083 sha256=d697ad0e2eb09218c93a910fe3af32525b78d784419da1ef689c91f450d179f6\n",
            "  Stored in directory: /root/.cache/pip/wheels/8e/7a/69/cd6aeb83b126a7f04cbe7c9d929028dc52a6e7d525ff56003a\n",
            "Successfully built ffmpeg\n",
            "Installing collected packages: ffmpeg\n",
            "Successfully installed ffmpeg-1.4\n"
          ]
        }
      ],
      "source": [
        "!pip3 install birdnetlib\n",
        "!pip3 install tflite-runtime\n",
        "!pip3 install resampy\n",
        "!pip3 install ffmpeg"
      ]
    },
    {
      "cell_type": "code",
      "source": [
        "import resampy\n",
        "import birdnetlib\n",
        "import tflite_runtime\n",
        "import ffmpeg\n",
        "import pandas as pd"
      ],
      "metadata": {
        "id": "ue-RsKMmISyR"
      },
      "execution_count": null,
      "outputs": []
    },
    {
      "cell_type": "code",
      "source": [
        "from birdnetlib import Recording\n",
        "from birdnetlib.analyzer import Analyzer\n",
        "from datetime import datetime"
      ],
      "metadata": {
        "id": "PUFdodEa9PpK"
      },
      "execution_count": null,
      "outputs": []
    },
    {
      "cell_type": "code",
      "source": [
        "import os\n",
        "# get the data\n",
        "dataDir = '/content/drive/MyDrive/HAUtrans/Trans8/'\n",
        "\n",
        "# List all files in the directory\n",
        "file_names = os.listdir(dataDir)\n",
        "\n",
        "# Get the file names\n",
        "print(file_names)"
      ],
      "metadata": {
        "colab": {
          "base_uri": "https://localhost:8080/"
        },
        "id": "9ke3hNq79dxN",
        "outputId": "c8787802-57b7-4e40-a8fa-5b13b20afa99"
      },
      "execution_count": null,
      "outputs": [
        {
          "output_type": "stream",
          "name": "stdout",
          "text": [
            "['ED2_20240502_040000.wav', 'ED2_20240502_050000.wav', 'ED2_20240502_060000.wav', 'ED2_20240502_070000.wav', 'ED2_20240502_080000.wav', 'ED2_20240502_090000.wav', 'ED2_20240503_040000.wav', 'ED2_20240503_050000.wav', 'ED2_20240503_060000.wav', 'ED2_20240503_070000.wav', 'ED2_20240503_080000.wav', 'ED2_20240503_090000.wav', 'ED2_20240504_040000.wav', 'ED2_20240504_050000.wav', 'ED2_20240504_060000.wav', 'ED2_20240504_070000.wav', 'ED2_20240504_080000.wav', 'ED2_20240504_090000.wav', 'ED2_20240505_040000.wav', 'ED2_20240505_050000.wav', 'ED2_20240505_060000.wav', 'ED2_20240505_070000.wav', 'ED2_20240505_080000.wav', 'ED2_20240505_090000.wav', 'ED2_20240506_040000.wav', 'ED2_20240506_050000.wav', 'ED2_20240506_060000.wav', 'ED2_20240506_070000.wav', 'ED2_20240506_080000.wav', 'ED2_20240506_090000.wav', 'ED2_20240507_040000.wav', 'ED2_20240507_050000.wav', 'ED2_20240507_060000.wav', 'ED2_20240507_070000.wav', 'ED2_20240507_080000.wav', 'ED2_20240507_090000.wav', 'ED2_20240508_040000.wav', 'ED2_20240508_050000.wav', 'ED2_20240508_060000.wav', 'ED2_20240508_070000.wav', 'ED2_20240508_080000.wav', 'ED2_20240508_090000.wav', 'ED2_20240509_040000.wav', 'ED2_20240509_050000.wav', 'ED2_20240509_060000.wav', 'ED2_20240509_070000.wav', 'ED2_20240509_080000.wav', 'ED2_20240509_090000.wav', 'ED2_20240510_040000.wav', 'ED2_20240510_050000.wav', 'ED2_20240510_060000.wav', 'ED2_20240510_070000.wav', 'ED2_20240510_080000.wav', 'ED2_20240510_090000.wav']\n"
          ]
        }
      ]
    },
    {
      "cell_type": "code",
      "source": [
        "# This cell uses BirdNET-Analyzer to analyze multiple recordings.\n",
        "# Load and initialize the BirdNET-Analyzer models.\n",
        "analyzer = Analyzer()"
      ],
      "metadata": {
        "colab": {
          "base_uri": "https://localhost:8080/"
        },
        "id": "ZDJ6voT6KQ8k",
        "outputId": "20e12652-515b-4f88-fd54-a52df2f6937d"
      },
      "execution_count": null,
      "outputs": [
        {
          "output_type": "stream",
          "name": "stdout",
          "text": [
            "Labels loaded.\n",
            "load model True\n",
            "Model loaded.\n",
            "Labels loaded.\n",
            "load_species_list_model\n",
            "Meta model loaded.\n"
          ]
        }
      ]
    },
    {
      "cell_type": "code",
      "source": [
        "testamp = [52.911,-2.4441] # near Market Drayton year=2024, month=4, day=20\n",
        "\n",
        "# Create a dictionary to store the results\n",
        "results = {}"
      ],
      "metadata": {
        "id": "_7EBEVnnKUYA"
      },
      "execution_count": null,
      "outputs": []
    },
    {
      "cell_type": "code",
      "execution_count": null,
      "metadata": {
        "id": "HLU34dwg2fR4",
        "outputId": "ea23c162-19cb-46e2-8e00-59ddf6a3a631",
        "colab": {
          "base_uri": "https://localhost:8080/"
        },
        "collapsed": true
      },
      "outputs": [
        {
          "output_type": "stream",
          "name": "stdout",
          "text": [
            "read_audio_data\n",
            "read_audio_data: complete, read  600 chunks.\n",
            "analyze_recording ED2_20240502_040000.wav\n",
            "recording has lon/lat\n",
            "set_predicted_species_list_from_position\n",
            "return_predicted_species_list\n",
            "15\n",
            "145 species loaded.\n"
          ]
        }
      ],
      "source": [
        "# Loop through all file names\n",
        "for file_name in file_names:\n",
        "    try:\n",
        "      # Include the correct path to the data files\n",
        "      file_path = os.path.join(dataDir, file_name)\n",
        "      recording = Recording(\n",
        "          analyzer,\n",
        "          file_path,  # path to the recording file\n",
        "          lat=testamp[0], # latitude of the recording location\n",
        "          lon=testamp[1], # longitude of the recording location\n",
        "          date=datetime(year=2024, month=4, day=20), # use date or week_48\n",
        "          min_conf=0.25,\n",
        "      )\n",
        "      # Analyze the recording and store the result in the dictionary\n",
        "      recording.analyze()\n",
        "      results[file_name] = recording.detections\n",
        "    except Exception as e:\n",
        "      print(f\"Error processing {file_name}: {e}\")"
      ]
    },
    {
      "cell_type": "code",
      "source": [
        "# Flatten the results dictionary\n",
        "flattened_data = []\n",
        "for filename, records in results.items():\n",
        "    for record in records:\n",
        "        record['filename'] = filename\n",
        "        flattened_data.append(record)\n",
        "\n",
        "# Convert the flattened data to a DataFrame\n",
        "df = pd.DataFrame(flattened_data)\n",
        "\n",
        "# Save the DataFrame to a CSV file\n",
        "csv_file_path = '/content/drive/MyDrive/BirdnetProject/Files/data/CSV_data/BirdNET_results8.csv'\n",
        "df.to_csv(csv_file_path, index=False)\n",
        "\n",
        "print(f\"Results have been successfully converted to CSV and saved to {csv_file_path}\")"
      ],
      "metadata": {
        "colab": {
          "base_uri": "https://localhost:8080/"
        },
        "id": "Wr3GNxvlQCUe",
        "outputId": "37383e52-faf0-4031-f5dd-c25114dba021"
      },
      "execution_count": null,
      "outputs": [
        {
          "output_type": "stream",
          "name": "stdout",
          "text": [
            "Results have been successfully converted to CSV and saved to /content/drive/MyDrive/MyBirdNetTest/data/CSV_data/BirdNET_results7.csv\n"
          ]
        }
      ]
    },
    {
      "cell_type": "code",
      "source": [
        "# Path to the CSV file\n",
        "csv_file_path = '/content/drive/MyDrive/BirdnetProject/Files/data/CSV_data/transect_8.csv'\n",
        "\n",
        "# Load the CSV file into a DataFrame\n",
        "df = pd.read_csv(csv_file_path)\n",
        "\n",
        "# Print the DataFrame to verify the data\n",
        "print(df.head)"
      ],
      "metadata": {
        "colab": {
          "base_uri": "https://localhost:8080/"
        },
        "id": "Norue-hirY7b",
        "outputId": "7c8e1afe-495c-41d3-80cc-ad8b1beb04cd"
      },
      "execution_count": null,
      "outputs": [
        {
          "output_type": "stream",
          "name": "stdout",
          "text": [
            "<bound method NDFrame.head of                   common_name      scientific_name  start_time  end_time  \\\n",
            "0                     Mallard   Anas platyrhynchos       228.0     231.0   \n",
            "1        Little Ringed Plover    Charadrius dubius       573.0     576.0   \n",
            "2                 Common Tern       Sterna hirundo       609.0     612.0   \n",
            "3      European Golden-Plover  Pluvialis apricaria       636.0     639.0   \n",
            "4        Little Ringed Plover    Charadrius dubius       720.0     723.0   \n",
            "...                       ...                  ...         ...       ...   \n",
            "18722      Common Wood-Pigeon     Columba palumbus      1788.0    1791.0   \n",
            "18723          European Robin   Erithacus rubecula      1788.0    1791.0   \n",
            "18724      Common Wood-Pigeon     Columba palumbus      1791.0    1794.0   \n",
            "18725      Common Wood-Pigeon     Columba palumbus      1794.0    1797.0   \n",
            "18726      Common Wood-Pigeon     Columba palumbus      1797.0    1800.0   \n",
            "\n",
            "       confidence                                       label  \\\n",
            "0        0.634652                  Anas platyrhynchos_Mallard   \n",
            "1        0.490524      Charadrius dubius_Little Ringed Plover   \n",
            "2        0.563732                  Sterna hirundo_Common Tern   \n",
            "3        0.348252  Pluvialis apricaria_European Golden-Plover   \n",
            "4        0.353781      Charadrius dubius_Little Ringed Plover   \n",
            "...           ...                                         ...   \n",
            "18722    0.670380         Columba palumbus_Common Wood-Pigeon   \n",
            "18723    0.263563           Erithacus rubecula_European Robin   \n",
            "18724    0.956161         Columba palumbus_Common Wood-Pigeon   \n",
            "18725    0.996883         Columba palumbus_Common Wood-Pigeon   \n",
            "18726    0.859620         Columba palumbus_Common Wood-Pigeon   \n",
            "\n",
            "                      filename  \n",
            "0      ED1_20240502_040000.wav  \n",
            "1      ED1_20240502_040000.wav  \n",
            "2      ED1_20240502_040000.wav  \n",
            "3      ED1_20240502_040000.wav  \n",
            "4      ED1_20240502_040000.wav  \n",
            "...                        ...  \n",
            "18722  ED1_20240510_090000.wav  \n",
            "18723  ED1_20240510_090000.wav  \n",
            "18724  ED1_20240510_090000.wav  \n",
            "18725  ED1_20240510_090000.wav  \n",
            "18726  ED1_20240510_090000.wav  \n",
            "\n",
            "[18727 rows x 7 columns]>\n"
          ]
        }
      ]
    }
  ]
}