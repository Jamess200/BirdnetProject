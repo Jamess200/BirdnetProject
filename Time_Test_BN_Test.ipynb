{
  "nbformat": 4,
  "nbformat_minor": 0,
  "metadata": {
    "colab": {
      "provenance": [],
      "mount_file_id": "https://github.com/Jamess200/MyBirdNetTest/blob/main/Time_Test_BN_Test.ipynb",
      "authorship_tag": "ABX9TyNs2iQD/bQb9XMCdJ+8zzD6",
      "include_colab_link": true
    },
    "kernelspec": {
      "name": "python3",
      "display_name": "Python 3"
    },
    "language_info": {
      "name": "python"
    }
  },
  "cells": [
    {
      "cell_type": "markdown",
      "metadata": {
        "id": "view-in-github",
        "colab_type": "text"
      },
      "source": [
        "<a href=\"https://colab.research.google.com/github/Jamess200/MyBirdNetTest/blob/main/Time_Test_BN_Test.ipynb\" target=\"_parent\"><img src=\"https://colab.research.google.com/assets/colab-badge.svg\" alt=\"Open In Colab\"/></a>"
      ]
    },
    {
      "cell_type": "code",
      "source": [
        "%cd /content/drive/MyDrive/"
      ],
      "metadata": {
        "colab": {
          "base_uri": "https://localhost:8080/"
        },
        "id": "6STr5lGE9sFd",
        "outputId": "04a08024-8a65-4b2d-c1a5-e8f0f4097b74"
      },
      "execution_count": 2,
      "outputs": [
        {
          "output_type": "stream",
          "name": "stdout",
          "text": [
            "/content/drive/MyDrive\n"
          ]
        }
      ]
    },
    {
      "cell_type": "code",
      "source": [
        "import os\n",
        "\n",
        "# Define path in Google Drive where you want to clone the repository\n",
        "repo_path = '/content/drive/MyDrive/'\n",
        "\n",
        "# Check if directory already exists\n",
        "if not os.path.exists(repo_path):\n",
        "    os.makedirs(repo_path)\n",
        "\n",
        "# Change working directory to defined path\n",
        "os.chdir(repo_path)\n",
        "\n",
        "# Clone the repository if doesnt exist, otherwise pull latest changes\n",
        "if not os.path.exists(os.path.join(repo_path, 'MyBirdNetTest')):\n",
        "    !git clone https://github.com/Jamess200/MyBirdNetTest.git\n",
        "else:\n",
        "    os.chdir('MyBirdNetTest')\n",
        "    !git pull\n",
        "\n",
        "# Verify cloned repository\n",
        "!ls"
      ],
      "metadata": {
        "id": "pKTS2Aex6pJJ",
        "outputId": "685e5174-e8cc-4a4e-a77d-fbb81c1fb880",
        "colab": {
          "base_uri": "https://localhost:8080/"
        }
      },
      "execution_count": 4,
      "outputs": [
        {
          "output_type": "stream",
          "name": "stdout",
          "text": [
            "remote: Enumerating objects: 11, done.\u001b[K\n",
            "remote: Counting objects:   9% (1/11)\u001b[K\rremote: Counting objects:  18% (2/11)\u001b[K\rremote: Counting objects:  27% (3/11)\u001b[K\rremote: Counting objects:  36% (4/11)\u001b[K\rremote: Counting objects:  45% (5/11)\u001b[K\rremote: Counting objects:  54% (6/11)\u001b[K\rremote: Counting objects:  63% (7/11)\u001b[K\rremote: Counting objects:  72% (8/11)\u001b[K\rremote: Counting objects:  81% (9/11)\u001b[K\rremote: Counting objects:  90% (10/11)\u001b[K\rremote: Counting objects: 100% (11/11)\u001b[K\rremote: Counting objects: 100% (11/11), done.\u001b[K\n",
            "remote: Compressing objects: 100% (9/9), done.\u001b[K\n",
            "remote: Total 9 (delta 6), reused 0 (delta 0), pack-reused 0\u001b[K\n",
            "Unpacking objects: 100% (9/9), 290.53 KiB | 319.00 KiB/s, done.\n",
            "From https://github.com/Jamess200/MyBirdNetTest\n",
            "   a8fbb7a..a264e6b  main       -> origin/main\n",
            "Updating e310bf8..a264e6b\n",
            "error: The following untracked working tree files would be overwritten by merge:\n",
            "\tdata/CSV_data/BirdNET_results7.csv\n",
            "\tdata/CSV_data/BirdNET_results8.csv\n",
            "\tdata/CSV_data/combined.csv\n",
            "Please move or remove them before you merge.\n",
            "Aborting\n",
            "data\t\t\t img\t\t       json_to_csv_converter.ipynb  Time_Test_BN_Test.ipynb\n",
            "Density_plot_code.ipynb  Inital_BN_Test.ipynb  README.md\n"
          ]
        }
      ]
    },
    {
      "cell_type": "code",
      "execution_count": 3,
      "metadata": {
        "colab": {
          "base_uri": "https://localhost:8080/"
        },
        "id": "YoUfTX4x9MPW",
        "outputId": "846d0eab-6397-44de-b1f6-b850bfbac270"
      },
      "outputs": [
        {
          "output_type": "stream",
          "name": "stdout",
          "text": [
            "Collecting birdnetlib\n",
            "  Downloading birdnetlib-0.17.2-py3-none-any.whl (61.1 MB)\n",
            "\u001b[2K     \u001b[90m━━━━━━━━━━━━━━━━━━━━━━━━━━━━━━━━━━━━━━━━\u001b[0m \u001b[32m61.1/61.1 MB\u001b[0m \u001b[31m10.0 MB/s\u001b[0m eta \u001b[36m0:00:00\u001b[0m\n",
            "\u001b[?25hRequirement already satisfied: matplotlib>=3.5.3 in /usr/local/lib/python3.10/dist-packages (from birdnetlib) (3.7.1)\n",
            "Collecting pydub==0.25.1 (from birdnetlib)\n",
            "  Downloading pydub-0.25.1-py2.py3-none-any.whl (32 kB)\n",
            "Requirement already satisfied: requests>=2.28.1 in /usr/local/lib/python3.10/dist-packages (from birdnetlib) (2.31.0)\n",
            "Collecting watchdog==2.1.9 (from birdnetlib)\n",
            "  Downloading watchdog-2.1.9-py3-none-manylinux2014_x86_64.whl (78 kB)\n",
            "\u001b[2K     \u001b[90m━━━━━━━━━━━━━━━━━━━━━━━━━━━━━━━━━━━━━━━━\u001b[0m \u001b[32m78.4/78.4 kB\u001b[0m \u001b[31m11.7 MB/s\u001b[0m eta \u001b[36m0:00:00\u001b[0m\n",
            "\u001b[?25hRequirement already satisfied: contourpy>=1.0.1 in /usr/local/lib/python3.10/dist-packages (from matplotlib>=3.5.3->birdnetlib) (1.2.1)\n",
            "Requirement already satisfied: cycler>=0.10 in /usr/local/lib/python3.10/dist-packages (from matplotlib>=3.5.3->birdnetlib) (0.12.1)\n",
            "Requirement already satisfied: fonttools>=4.22.0 in /usr/local/lib/python3.10/dist-packages (from matplotlib>=3.5.3->birdnetlib) (4.53.1)\n",
            "Requirement already satisfied: kiwisolver>=1.0.1 in /usr/local/lib/python3.10/dist-packages (from matplotlib>=3.5.3->birdnetlib) (1.4.5)\n",
            "Requirement already satisfied: numpy>=1.20 in /usr/local/lib/python3.10/dist-packages (from matplotlib>=3.5.3->birdnetlib) (1.25.2)\n",
            "Requirement already satisfied: packaging>=20.0 in /usr/local/lib/python3.10/dist-packages (from matplotlib>=3.5.3->birdnetlib) (24.1)\n",
            "Requirement already satisfied: pillow>=6.2.0 in /usr/local/lib/python3.10/dist-packages (from matplotlib>=3.5.3->birdnetlib) (9.4.0)\n",
            "Requirement already satisfied: pyparsing>=2.3.1 in /usr/local/lib/python3.10/dist-packages (from matplotlib>=3.5.3->birdnetlib) (3.1.2)\n",
            "Requirement already satisfied: python-dateutil>=2.7 in /usr/local/lib/python3.10/dist-packages (from matplotlib>=3.5.3->birdnetlib) (2.8.2)\n",
            "Requirement already satisfied: charset-normalizer<4,>=2 in /usr/local/lib/python3.10/dist-packages (from requests>=2.28.1->birdnetlib) (3.3.2)\n",
            "Requirement already satisfied: idna<4,>=2.5 in /usr/local/lib/python3.10/dist-packages (from requests>=2.28.1->birdnetlib) (3.7)\n",
            "Requirement already satisfied: urllib3<3,>=1.21.1 in /usr/local/lib/python3.10/dist-packages (from requests>=2.28.1->birdnetlib) (2.0.7)\n",
            "Requirement already satisfied: certifi>=2017.4.17 in /usr/local/lib/python3.10/dist-packages (from requests>=2.28.1->birdnetlib) (2024.7.4)\n",
            "Requirement already satisfied: six>=1.5 in /usr/local/lib/python3.10/dist-packages (from python-dateutil>=2.7->matplotlib>=3.5.3->birdnetlib) (1.16.0)\n",
            "Installing collected packages: pydub, watchdog, birdnetlib\n",
            "Successfully installed birdnetlib-0.17.2 pydub-0.25.1 watchdog-2.1.9\n",
            "Collecting tflite-runtime\n",
            "  Downloading tflite_runtime-2.14.0-cp310-cp310-manylinux2014_x86_64.whl (2.4 MB)\n",
            "\u001b[2K     \u001b[90m━━━━━━━━━━━━━━━━━━━━━━━━━━━━━━━━━━━━━━━━\u001b[0m \u001b[32m2.4/2.4 MB\u001b[0m \u001b[31m23.4 MB/s\u001b[0m eta \u001b[36m0:00:00\u001b[0m\n",
            "\u001b[?25hRequirement already satisfied: numpy>=1.23.2 in /usr/local/lib/python3.10/dist-packages (from tflite-runtime) (1.25.2)\n",
            "Installing collected packages: tflite-runtime\n",
            "Successfully installed tflite-runtime-2.14.0\n",
            "Collecting resampy\n",
            "  Downloading resampy-0.4.3-py3-none-any.whl (3.1 MB)\n",
            "\u001b[2K     \u001b[90m━━━━━━━━━━━━━━━━━━━━━━━━━━━━━━━━━━━━━━━━\u001b[0m \u001b[32m3.1/3.1 MB\u001b[0m \u001b[31m27.4 MB/s\u001b[0m eta \u001b[36m0:00:00\u001b[0m\n",
            "\u001b[?25hRequirement already satisfied: numpy>=1.17 in /usr/local/lib/python3.10/dist-packages (from resampy) (1.25.2)\n",
            "Requirement already satisfied: numba>=0.53 in /usr/local/lib/python3.10/dist-packages (from resampy) (0.58.1)\n",
            "Requirement already satisfied: llvmlite<0.42,>=0.41.0dev0 in /usr/local/lib/python3.10/dist-packages (from numba>=0.53->resampy) (0.41.1)\n",
            "Installing collected packages: resampy\n",
            "Successfully installed resampy-0.4.3\n",
            "Collecting ffmpeg\n",
            "  Downloading ffmpeg-1.4.tar.gz (5.1 kB)\n",
            "  Preparing metadata (setup.py) ... \u001b[?25l\u001b[?25hdone\n",
            "Building wheels for collected packages: ffmpeg\n",
            "  Building wheel for ffmpeg (setup.py) ... \u001b[?25l\u001b[?25hdone\n",
            "  Created wheel for ffmpeg: filename=ffmpeg-1.4-py3-none-any.whl size=6082 sha256=8ba9cf54ff2198b62f2f4de99b58faa3f1766aa05ee3f62e3759cd8f2fad7543\n",
            "  Stored in directory: /root/.cache/pip/wheels/8e/7a/69/cd6aeb83b126a7f04cbe7c9d929028dc52a6e7d525ff56003a\n",
            "Successfully built ffmpeg\n",
            "Installing collected packages: ffmpeg\n",
            "Successfully installed ffmpeg-1.4\n"
          ]
        }
      ],
      "source": [
        "!pip3 install birdnetlib\n",
        "!pip3 install tflite-runtime\n",
        "!pip3 install resampy\n",
        "!pip3 install ffmpeg"
      ]
    },
    {
      "cell_type": "code",
      "source": [
        "import resampy\n",
        "import birdnetlib\n",
        "import tflite_runtime\n",
        "import ffmpeg\n",
        "import os\n",
        "import random\n",
        "import time\n",
        "import pandas as pd\n",
        "import seaborn as sns\n",
        "import matplotlib.pyplot as plt"
      ],
      "metadata": {
        "id": "ue-RsKMmISyR"
      },
      "execution_count": 5,
      "outputs": []
    },
    {
      "cell_type": "code",
      "source": [
        "from birdnetlib import Recording\n",
        "from birdnetlib.analyzer import Analyzer\n",
        "from datetime import datetime\n",
        "from scipy.stats import f_oneway"
      ],
      "metadata": {
        "id": "PUFdodEa9PpK"
      },
      "execution_count": 6,
      "outputs": []
    },
    {
      "cell_type": "code",
      "source": [
        "# get data\n",
        "base_dir = '/content/drive/MyDrive/HAUtrans/'\n",
        "\n",
        "# Transect directories\n",
        "transects = ['Trans5', 'Trans6', 'Trans7', 'Trans8']"
      ],
      "metadata": {
        "id": "9ke3hNq79dxN"
      },
      "execution_count": 7,
      "outputs": []
    },
    {
      "cell_type": "code",
      "source": [
        "# Function to filter files past 5am and randomly select three\n",
        "def select_files(transect):\n",
        "    dir = os.path.join(base_dir, transect)\n",
        "    print(f\"Checking directory: {dir}\")\n",
        "\n",
        "    all_files = [f for f in os.listdir(dir) if os.path.isfile(os.path.join(dir, f))]\n",
        "    print(f\"All files in {transect}: {all_files}\")\n",
        "\n",
        "    # Filter files to include those past 5am\n",
        "    filtered_files = [f for f in all_files if f.split('_')[-1].endswith('.wav') and int(f.split('_')[-1].split('.')[0]) > 50000]\n",
        "\n",
        "    # Print filtered files\n",
        "    print(f\"Filtered files in {transect}: {filtered_files}\")\n",
        "\n",
        "    # Randomly select three files from filtered list\n",
        "    selected_files = random.sample(filtered_files, 3)\n",
        "\n",
        "    # Print selected files\n",
        "    print(f\"Selected files in {transect}: {selected_files}\")\n",
        "\n",
        "    return selected_files"
      ],
      "metadata": {
        "id": "_tEf2l5MK86H"
      },
      "execution_count": null,
      "outputs": []
    },
    {
      "cell_type": "code",
      "source": [
        "# Loop through each transect and select files\n",
        "select_files_all = []\n",
        "for transect in transects:\n",
        "    selected_files = select_files(transect)\n",
        "    select_files_all.extend(selected_files)"
      ],
      "metadata": {
        "id": "LCkH-u43Gjp3",
        "outputId": "9a7cae55-670f-4f6e-892a-29887803f478",
        "colab": {
          "base_uri": "https://localhost:8080/"
        }
      },
      "execution_count": null,
      "outputs": [
        {
          "output_type": "stream",
          "name": "stdout",
          "text": [
            "Checking directory: /content/drive/MyDrive/HAUtrans/Trans5\n",
            "All files in Trans5: ['ED3_20240502_040000.wav', 'ED3_20240502_050000.wav', 'ED3_20240502_060000.wav', 'ED3_20240502_070000.wav', 'ED3_20240502_080000.wav', 'ED3_20240502_090000.wav', 'ED3_20240503_040000.wav', 'ED3_20240503_050000.wav', 'ED3_20240503_060000.wav', 'ED3_20240503_070000.wav', 'ED3_20240503_080000.wav', 'ED3_20240503_090000.wav', 'ED3_20240504_040000.wav', 'ED3_20240504_050000.wav', 'ED3_20240504_060000.wav', 'ED3_20240504_070000.wav', 'ED3_20240504_080000.wav', 'ED3_20240504_090000.wav', 'ED3_20240505_040000.wav', 'ED3_20240505_050000.wav', 'ED3_20240505_060000.wav', 'ED3_20240505_070000.wav', 'ED3_20240505_080000.wav', 'ED3_20240505_090000.wav', 'ED3_20240506_040000.wav', 'ED3_20240506_050000.wav', 'ED3_20240506_060000.wav', 'ED3_20240506_070000.wav', 'ED3_20240506_080000.wav', 'ED3_20240506_090000.wav', 'ED3_20240507_040000.wav', 'ED3_20240507_050000.wav', 'ED3_20240507_060000.wav', 'ED3_20240507_070000.wav', 'ED3_20240507_080000.wav', 'ED3_20240507_090000.wav', 'ED3_20240508_040000.wav', 'ED3_20240508_050000.wav', 'ED3_20240508_060000.wav', 'ED3_20240508_070000.wav', 'ED3_20240508_080000.wav', 'ED3_20240508_090000.wav', 'ED3_20240509_040000.wav', 'ED3_20240509_050000.wav', 'ED3_20240509_060000.wav', 'ED3_20240509_070000.wav', 'ED3_20240509_080000.wav', 'ED3_20240509_090000.wav', 'ED3_20240510_040000.wav', 'ED3_20240510_050000.wav', 'ED3_20240510_060000.wav', 'ED3_20240510_070000.wav', 'ED3_20240510_080000.wav', 'ED3_20240510_090000.wav']\n",
            "Filtered files in Trans5: ['ED3_20240502_060000.wav', 'ED3_20240502_070000.wav', 'ED3_20240502_080000.wav', 'ED3_20240502_090000.wav', 'ED3_20240503_060000.wav', 'ED3_20240503_070000.wav', 'ED3_20240503_080000.wav', 'ED3_20240503_090000.wav', 'ED3_20240504_060000.wav', 'ED3_20240504_070000.wav', 'ED3_20240504_080000.wav', 'ED3_20240504_090000.wav', 'ED3_20240505_060000.wav', 'ED3_20240505_070000.wav', 'ED3_20240505_080000.wav', 'ED3_20240505_090000.wav', 'ED3_20240506_060000.wav', 'ED3_20240506_070000.wav', 'ED3_20240506_080000.wav', 'ED3_20240506_090000.wav', 'ED3_20240507_060000.wav', 'ED3_20240507_070000.wav', 'ED3_20240507_080000.wav', 'ED3_20240507_090000.wav', 'ED3_20240508_060000.wav', 'ED3_20240508_070000.wav', 'ED3_20240508_080000.wav', 'ED3_20240508_090000.wav', 'ED3_20240509_060000.wav', 'ED3_20240509_070000.wav', 'ED3_20240509_080000.wav', 'ED3_20240509_090000.wav', 'ED3_20240510_060000.wav', 'ED3_20240510_070000.wav', 'ED3_20240510_080000.wav', 'ED3_20240510_090000.wav']\n",
            "Selected files in Trans5: ['ED3_20240505_090000.wav']\n",
            "Checking directory: /content/drive/MyDrive/HAUtrans/Trans6\n",
            "All files in Trans6: ['ED4_20240502_040000.wav', 'ED4_20240502_050000.wav', 'ED4_20240502_060000.wav', 'ED4_20240502_070000.wav', 'ED4_20240502_080000.wav', 'ED4_20240502_090000.wav', 'ED4_20240503_040000.wav', 'ED4_20240503_050000.wav', 'ED4_20240503_060000.wav', 'ED4_20240503_070000.wav', 'ED4_20240503_080000.wav', 'ED4_20240503_090000.wav', 'ED4_20240504_040000.wav', 'ED4_20240504_050000.wav', 'ED4_20240504_060000.wav', 'ED4_20240504_070000.wav', 'ED4_20240504_080000.wav', 'ED4_20240504_090000.wav', 'ED4_20240505_040000.wav', 'ED4_20240505_050000.wav', 'ED4_20240505_060000.wav', 'ED4_20240505_070000.wav', 'ED4_20240505_080000.wav', 'ED4_20240505_090000.wav', 'ED4_20240506_040000.wav', 'ED4_20240506_050000.wav', 'ED4_20240506_060000.wav', 'ED4_20240506_070000.wav', 'ED4_20240506_080000.wav', 'ED4_20240506_090000.wav', 'ED4_20240507_040000.wav', 'ED4_20240507_050000.wav', 'ED4_20240507_060000.wav', 'ED4_20240507_070000.wav', 'ED4_20240507_080000.wav', 'ED4_20240507_090000.wav', 'ED4_20240508_040000.wav', 'ED4_20240508_050000.wav', 'ED4_20240508_060000.wav', 'ED4_20240508_070000.wav', 'ED4_20240508_080000.wav', 'ED4_20240508_090000.wav', 'ED4_20240509_040000.wav', 'ED4_20240509_050000.wav', 'ED4_20240509_060000.wav', 'ED4_20240509_070000.wav', 'ED4_20240509_080000.wav', 'ED4_20240509_090000.wav', 'ED4_20240510_040000.wav', 'ED4_20240510_050000.wav', 'ED4_20240510_060000.wav', 'ED4_20240510_070000.wav', 'ED4_20240510_080000.wav', 'ED4_20240510_090000.wav']\n",
            "Filtered files in Trans6: ['ED4_20240502_060000.wav', 'ED4_20240502_070000.wav', 'ED4_20240502_080000.wav', 'ED4_20240502_090000.wav', 'ED4_20240503_060000.wav', 'ED4_20240503_070000.wav', 'ED4_20240503_080000.wav', 'ED4_20240503_090000.wav', 'ED4_20240504_060000.wav', 'ED4_20240504_070000.wav', 'ED4_20240504_080000.wav', 'ED4_20240504_090000.wav', 'ED4_20240505_060000.wav', 'ED4_20240505_070000.wav', 'ED4_20240505_080000.wav', 'ED4_20240505_090000.wav', 'ED4_20240506_060000.wav', 'ED4_20240506_070000.wav', 'ED4_20240506_080000.wav', 'ED4_20240506_090000.wav', 'ED4_20240507_060000.wav', 'ED4_20240507_070000.wav', 'ED4_20240507_080000.wav', 'ED4_20240507_090000.wav', 'ED4_20240508_060000.wav', 'ED4_20240508_070000.wav', 'ED4_20240508_080000.wav', 'ED4_20240508_090000.wav', 'ED4_20240509_060000.wav', 'ED4_20240509_070000.wav', 'ED4_20240509_080000.wav', 'ED4_20240509_090000.wav', 'ED4_20240510_060000.wav', 'ED4_20240510_070000.wav', 'ED4_20240510_080000.wav', 'ED4_20240510_090000.wav']\n",
            "Selected files in Trans6: ['ED4_20240508_060000.wav']\n",
            "Checking directory: /content/drive/MyDrive/HAUtrans/Trans7\n",
            "All files in Trans7: ['ED1_20240502_040000.wav', 'ED1_20240502_050000.wav', 'ED1_20240502_060000.wav', 'ED1_20240502_070000.wav', 'ED1_20240502_080000.wav', 'ED1_20240502_090000.wav', 'ED1_20240503_040000.wav', 'ED1_20240503_050000.wav', 'ED1_20240503_060000.wav', 'ED1_20240503_070000.wav', 'ED1_20240503_080000.wav', 'ED1_20240503_090000.wav', 'ED1_20240504_040000.wav', 'ED1_20240504_050000.wav', 'ED1_20240504_060000.wav', 'ED1_20240504_070000.wav', 'ED1_20240504_080000.wav', 'ED1_20240504_090000.wav', 'ED1_20240505_040000.wav', 'ED1_20240505_050000.wav', 'ED1_20240505_060000.wav', 'ED1_20240505_070000.wav', 'ED1_20240505_080000.wav', 'ED1_20240505_090000.wav', 'ED1_20240506_040000.wav', 'ED1_20240506_050000.wav', 'ED1_20240506_060000.wav', 'ED1_20240506_070000.wav', 'ED1_20240506_080000.wav', 'ED1_20240506_090000.wav', 'ED1_20240507_040000.wav', 'ED1_20240507_050000.wav', 'ED1_20240507_060000.wav', 'ED1_20240507_070000.wav', 'ED1_20240507_080000.wav', 'ED1_20240507_090000.wav', 'ED1_20240508_040000.wav', 'ED1_20240508_050000.wav', 'ED1_20240508_060000.wav', 'ED1_20240508_070000.wav', 'ED1_20240508_080000.wav', 'ED1_20240508_090000.wav', 'ED1_20240509_040000.wav', 'ED1_20240509_050000.wav', 'ED1_20240509_060000.wav', 'ED1_20240509_070000.wav', 'ED1_20240509_080000.wav', 'ED1_20240509_090000.wav', 'ED1_20240510_040000.wav', 'ED1_20240510_050000.wav', 'ED1_20240510_060000.wav', 'ED1_20240510_070000.wav', 'ED1_20240510_080000.wav', 'ED1_20240510_090000.wav']\n",
            "Filtered files in Trans7: ['ED1_20240502_060000.wav', 'ED1_20240502_070000.wav', 'ED1_20240502_080000.wav', 'ED1_20240502_090000.wav', 'ED1_20240503_060000.wav', 'ED1_20240503_070000.wav', 'ED1_20240503_080000.wav', 'ED1_20240503_090000.wav', 'ED1_20240504_060000.wav', 'ED1_20240504_070000.wav', 'ED1_20240504_080000.wav', 'ED1_20240504_090000.wav', 'ED1_20240505_060000.wav', 'ED1_20240505_070000.wav', 'ED1_20240505_080000.wav', 'ED1_20240505_090000.wav', 'ED1_20240506_060000.wav', 'ED1_20240506_070000.wav', 'ED1_20240506_080000.wav', 'ED1_20240506_090000.wav', 'ED1_20240507_060000.wav', 'ED1_20240507_070000.wav', 'ED1_20240507_080000.wav', 'ED1_20240507_090000.wav', 'ED1_20240508_060000.wav', 'ED1_20240508_070000.wav', 'ED1_20240508_080000.wav', 'ED1_20240508_090000.wav', 'ED1_20240509_060000.wav', 'ED1_20240509_070000.wav', 'ED1_20240509_080000.wav', 'ED1_20240509_090000.wav', 'ED1_20240510_060000.wav', 'ED1_20240510_070000.wav', 'ED1_20240510_080000.wav', 'ED1_20240510_090000.wav']\n",
            "Selected files in Trans7: ['ED1_20240505_060000.wav']\n",
            "Checking directory: /content/drive/MyDrive/HAUtrans/Trans8\n",
            "All files in Trans8: ['ED2_20240502_040000.wav', 'ED2_20240502_050000.wav', 'ED2_20240502_060000.wav', 'ED2_20240502_070000.wav', 'ED2_20240502_080000.wav', 'ED2_20240502_090000.wav', 'ED2_20240503_040000.wav', 'ED2_20240503_050000.wav', 'ED2_20240503_060000.wav', 'ED2_20240503_070000.wav', 'ED2_20240503_080000.wav', 'ED2_20240503_090000.wav', 'ED2_20240504_040000.wav', 'ED2_20240504_050000.wav', 'ED2_20240504_060000.wav', 'ED2_20240504_070000.wav', 'ED2_20240504_080000.wav', 'ED2_20240504_090000.wav', 'ED2_20240505_040000.wav', 'ED2_20240505_050000.wav', 'ED2_20240505_060000.wav', 'ED2_20240505_070000.wav', 'ED2_20240505_080000.wav', 'ED2_20240505_090000.wav', 'ED2_20240506_040000.wav', 'ED2_20240506_050000.wav', 'ED2_20240506_060000.wav', 'ED2_20240506_070000.wav', 'ED2_20240506_080000.wav', 'ED2_20240506_090000.wav', 'ED2_20240507_040000.wav', 'ED2_20240507_050000.wav', 'ED2_20240507_060000.wav', 'ED2_20240507_070000.wav', 'ED2_20240507_080000.wav', 'ED2_20240507_090000.wav', 'ED2_20240508_040000.wav', 'ED2_20240508_050000.wav', 'ED2_20240508_060000.wav', 'ED2_20240508_070000.wav', 'ED2_20240508_080000.wav', 'ED2_20240508_090000.wav', 'ED2_20240509_040000.wav', 'ED2_20240509_050000.wav', 'ED2_20240509_060000.wav', 'ED2_20240509_070000.wav', 'ED2_20240509_080000.wav', 'ED2_20240509_090000.wav', 'ED2_20240510_040000.wav', 'ED2_20240510_050000.wav', 'ED2_20240510_060000.wav', 'ED2_20240510_070000.wav', 'ED2_20240510_080000.wav', 'ED2_20240510_090000.wav']\n",
            "Filtered files in Trans8: ['ED2_20240502_060000.wav', 'ED2_20240502_070000.wav', 'ED2_20240502_080000.wav', 'ED2_20240502_090000.wav', 'ED2_20240503_060000.wav', 'ED2_20240503_070000.wav', 'ED2_20240503_080000.wav', 'ED2_20240503_090000.wav', 'ED2_20240504_060000.wav', 'ED2_20240504_070000.wav', 'ED2_20240504_080000.wav', 'ED2_20240504_090000.wav', 'ED2_20240505_060000.wav', 'ED2_20240505_070000.wav', 'ED2_20240505_080000.wav', 'ED2_20240505_090000.wav', 'ED2_20240506_060000.wav', 'ED2_20240506_070000.wav', 'ED2_20240506_080000.wav', 'ED2_20240506_090000.wav', 'ED2_20240507_060000.wav', 'ED2_20240507_070000.wav', 'ED2_20240507_080000.wav', 'ED2_20240507_090000.wav', 'ED2_20240508_060000.wav', 'ED2_20240508_070000.wav', 'ED2_20240508_080000.wav', 'ED2_20240508_090000.wav', 'ED2_20240509_060000.wav', 'ED2_20240509_070000.wav', 'ED2_20240509_080000.wav', 'ED2_20240509_090000.wav', 'ED2_20240510_060000.wav', 'ED2_20240510_070000.wav', 'ED2_20240510_080000.wav', 'ED2_20240510_090000.wav']\n",
            "Selected files in Trans8: ['ED2_20240506_060000.wav']\n"
          ]
        }
      ]
    },
    {
      "cell_type": "code",
      "source": [
        "print(\"All selected files from all transects:\")\n",
        "print(select_files_all)"
      ],
      "metadata": {
        "id": "877hoEWvHuAu",
        "outputId": "b1cf87cc-d436-4c67-94ee-99a7926c99a7",
        "colab": {
          "base_uri": "https://localhost:8080/"
        }
      },
      "execution_count": null,
      "outputs": [
        {
          "output_type": "stream",
          "name": "stdout",
          "text": [
            "All selected files from all transects:\n",
            "['ED3_20240505_090000.wav', 'ED4_20240508_060000.wav', 'ED1_20240505_060000.wav', 'ED2_20240506_060000.wav']\n"
          ]
        }
      ]
    },
    {
      "cell_type": "code",
      "source": [
        "# This cell uses BirdNET-Analyzer to analyze multiple recordings.\n",
        "# Load and initialize the BirdNET-Analyzer models.\n",
        "analyzer = Analyzer()\n",
        "\n",
        "testamp = [52.911,-2.4441] # near Market Drayton year=2024, month=4, day=20\n",
        "recording_date = datetime(year=2024, month=5, day=5)"
      ],
      "metadata": {
        "colab": {
          "base_uri": "https://localhost:8080/"
        },
        "id": "ZDJ6voT6KQ8k",
        "outputId": "b0349423-8cb7-4e6b-8702-f385d33fe105"
      },
      "execution_count": null,
      "outputs": [
        {
          "output_type": "stream",
          "name": "stdout",
          "text": [
            "Labels loaded.\n",
            "load model True\n",
            "Model loaded.\n",
            "Labels loaded.\n",
            "load_species_list_model\n",
            "Meta model loaded.\n"
          ]
        }
      ]
    },
    {
      "cell_type": "code",
      "source": [
        "# Create a dictionary to store the results\n",
        "filtered_results  = {}\n",
        "\n",
        "# Initialise a dictionary to store time taken for each file\n",
        "time_taken = {file_name: [] for file_name in select_files_all}"
      ],
      "metadata": {
        "id": "_7EBEVnnKUYA"
      },
      "execution_count": null,
      "outputs": []
    },
    {
      "cell_type": "code",
      "source": [
        "# Function to analyze a file and record time taken\n",
        "def analyze_and_time(file_name):\n",
        "    try:\n",
        "        start_time = time.time()\n",
        "\n",
        "        # Include the correct path to the data files\n",
        "        for transect in transects:\n",
        "            dir = os.path.join(base_dir, transect)\n",
        "            file_path = os.path.join(dir, file_name)\n",
        "            if os.path.exists(file_path):\n",
        "                break\n",
        "\n",
        "        recording = Recording(\n",
        "            analyzer,\n",
        "            file_path,  # path to the recording file\n",
        "            lat=testamp[0],  # latitude of the recording location\n",
        "            lon=testamp[1],  # longitude of the recording location\n",
        "            date=recording_date,  # use the predefined date\n",
        "            min_conf=0.25,\n",
        "        )\n",
        "        # Analyze the recording and store the result in the dictionary\n",
        "        recording.analyze()\n",
        "        filtered_results[file_name] = recording.detections\n",
        "\n",
        "        end_time = time.time()\n",
        "        duration = end_time - start_time\n",
        "        time_taken[file_name].append(duration)\n",
        "        print(f\"Completed analysis for {file_name} in {duration} seconds\")\n",
        "    except Exception as e:\n",
        "        print(f\"Error processing {file_name}: {e}\")"
      ],
      "metadata": {
        "id": "42q5ytUVRxE5"
      },
      "execution_count": null,
      "outputs": []
    },
    {
      "cell_type": "code",
      "source": [
        "# Run the analysis twice for each selected file\n",
        "for _ in range(3):\n",
        "    for file_name in select_files_all:\n",
        "        analyze_and_time(file_name)"
      ],
      "metadata": {
        "colab": {
          "base_uri": "https://localhost:8080/"
        },
        "id": "oR7KdEPPR1VG",
        "outputId": "a52cf443-976f-450c-acc0-d593de33bc7e"
      },
      "execution_count": null,
      "outputs": [
        {
          "output_type": "stream",
          "name": "stdout",
          "text": [
            "read_audio_data\n",
            "read_audio_data: complete, read  600 chunks.\n",
            "analyze_recording ED3_20240505_090000.wav\n",
            "recording has lon/lat\n",
            "set_predicted_species_list_from_position\n",
            "return_predicted_species_list\n",
            "17\n",
            "138 species loaded.\n",
            "Completed analysis for ED3_20240505_090000.wav in 134.20243406295776 seconds\n",
            "read_audio_data\n",
            "read_audio_data: complete, read  600 chunks.\n",
            "analyze_recording ED4_20240508_060000.wav\n",
            "recording has lon/lat\n",
            "set_predicted_species_list_from_position\n",
            "Completed analysis for ED4_20240508_060000.wav in 133.96542477607727 seconds\n",
            "read_audio_data\n",
            "read_audio_data: complete, read  600 chunks.\n",
            "analyze_recording ED1_20240505_060000.wav\n",
            "recording has lon/lat\n",
            "set_predicted_species_list_from_position\n",
            "Completed analysis for ED1_20240505_060000.wav in 133.2010498046875 seconds\n",
            "read_audio_data\n",
            "read_audio_data: complete, read  600 chunks.\n",
            "analyze_recording ED2_20240506_060000.wav\n",
            "recording has lon/lat\n",
            "set_predicted_species_list_from_position\n",
            "Completed analysis for ED2_20240506_060000.wav in 134.88495683670044 seconds\n",
            "read_audio_data\n",
            "read_audio_data: complete, read  600 chunks.\n",
            "analyze_recording ED3_20240505_090000.wav\n",
            "recording has lon/lat\n",
            "set_predicted_species_list_from_position\n",
            "Completed analysis for ED3_20240505_090000.wav in 131.3118667602539 seconds\n",
            "read_audio_data\n",
            "read_audio_data: complete, read  600 chunks.\n",
            "analyze_recording ED4_20240508_060000.wav\n",
            "recording has lon/lat\n",
            "set_predicted_species_list_from_position\n",
            "Completed analysis for ED4_20240508_060000.wav in 131.701429605484 seconds\n",
            "read_audio_data\n",
            "read_audio_data: complete, read  600 chunks.\n",
            "analyze_recording ED1_20240505_060000.wav\n",
            "recording has lon/lat\n",
            "set_predicted_species_list_from_position\n",
            "Completed analysis for ED1_20240505_060000.wav in 131.9317605495453 seconds\n",
            "read_audio_data\n",
            "read_audio_data: complete, read  600 chunks.\n",
            "analyze_recording ED2_20240506_060000.wav\n",
            "recording has lon/lat\n",
            "set_predicted_species_list_from_position\n",
            "Completed analysis for ED2_20240506_060000.wav in 152.09776711463928 seconds\n",
            "read_audio_data\n",
            "read_audio_data: complete, read  600 chunks.\n",
            "analyze_recording ED3_20240505_090000.wav\n",
            "recording has lon/lat\n",
            "set_predicted_species_list_from_position\n",
            "Completed analysis for ED3_20240505_090000.wav in 145.11748242378235 seconds\n",
            "read_audio_data\n",
            "read_audio_data: complete, read  600 chunks.\n",
            "analyze_recording ED4_20240508_060000.wav\n",
            "recording has lon/lat\n",
            "set_predicted_species_list_from_position\n",
            "Completed analysis for ED4_20240508_060000.wav in 132.45288228988647 seconds\n",
            "read_audio_data\n",
            "read_audio_data: complete, read  600 chunks.\n",
            "analyze_recording ED1_20240505_060000.wav\n",
            "recording has lon/lat\n",
            "set_predicted_species_list_from_position\n",
            "Completed analysis for ED1_20240505_060000.wav in 134.0025405883789 seconds\n",
            "read_audio_data\n",
            "read_audio_data: complete, read  600 chunks.\n",
            "analyze_recording ED2_20240506_060000.wav\n",
            "recording has lon/lat\n",
            "set_predicted_species_list_from_position\n",
            "Completed analysis for ED2_20240506_060000.wav in 131.87685227394104 seconds\n"
          ]
        }
      ]
    },
    {
      "cell_type": "code",
      "source": [
        "# Print the time taken for each file\n",
        "for file_name, times in time_taken.items():\n",
        "    print(f\"Time taken for {file_name}: {times}\")"
      ],
      "metadata": {
        "id": "wZtwx27XUdmg",
        "outputId": "eb4a8442-5be5-4071-c539-5715cb02ee60",
        "colab": {
          "base_uri": "https://localhost:8080/"
        }
      },
      "execution_count": null,
      "outputs": [
        {
          "output_type": "stream",
          "name": "stdout",
          "text": [
            "Time taken for ED3_20240505_090000.wav: [134.20243406295776, 131.3118667602539, 145.11748242378235]\n",
            "Time taken for ED4_20240508_060000.wav: [133.96542477607727, 131.701429605484, 132.45288228988647]\n",
            "Time taken for ED1_20240505_060000.wav: [133.2010498046875, 131.9317605495453, 134.0025405883789]\n",
            "Time taken for ED2_20240506_060000.wav: [134.88495683670044, 152.09776711463928, 131.87685227394104]\n"
          ]
        }
      ]
    },
    {
      "cell_type": "code",
      "source": [
        "# Define the time_taken dictionary from 4x3x3\n",
        "time_taken = {\n",
        "    'ED3_20240504_060000.wav': [148.26567888259888, 131.3175413608551, 131.81006503105164],\n",
        "    'ED3_20240507_060000.wav': [135.44273924827576, 132.589524269104, 130.95629000663757],\n",
        "    'ED3_20240507_080000.wav': [132.7655291557312, 130.96111297607422, 132.50833368301392],\n",
        "    'ED4_20240506_080000.wav': [134.55523228645325, 131.93665766716003, 131.01889991760254],\n",
        "    'ED4_20240507_070000.wav': [133.07267451286316, 131.65339422225952, 130.59835863113403],\n",
        "    'ED4_20240509_090000.wav': [136.04011631011963, 130.6758518218994, 132.39158415794373],\n",
        "    'ED1_20240504_080000.wav': [132.42154240608215, 132.48319792747498, 130.7896022796631],\n",
        "    'ED1_20240502_060000.wav': [134.03174543380737, 131.08203983306885, 131.17507648468018],\n",
        "    'ED1_20240509_060000.wav': [133.2044644355774, 130.86867833137512, 131.52107191085815],\n",
        "    'ED2_20240506_080000.wav': [134.92906951904297, 132.47607445716858, 130.89053201675415],\n",
        "    'ED2_20240507_060000.wav': [133.40657448768616, 130.94219160079956, 132.01655673980713],\n",
        "    'ED2_20240502_060000.wav': [134.09416151046753, 131.09309935569763, 131.28739380836487]\n",
        "}"
      ],
      "metadata": {
        "id": "yXxj3LUiTxX2"
      },
      "execution_count": 8,
      "outputs": []
    },
    {
      "cell_type": "code",
      "source": [
        "# Define the time_taken_2 dictionary from 4x1x3\n",
        "time_taken_2 = {\n",
        "    'ED3_20240505_090000.wav': [134.20243406295776, 131.3118667602539, 145.11748242378235],\n",
        "    'ED4_20240508_060000.wav': [133.96542477607727, 131.701429605484, 132.45288228988647],\n",
        "    'ED1_20240505_060000.wav': [133.2010498046875, 131.9317605495453, 134.0025405883789],\n",
        "    'ED2_20240506_060000.wav': [134.88495683670044, 152.09776711463928, 131.87685227394104]\n",
        "}"
      ],
      "metadata": {
        "id": "p8pklLwTe-Fu"
      },
      "execution_count": 9,
      "outputs": []
    },
    {
      "cell_type": "code",
      "source": [
        "# Convert time_taken dictionary into list of dictionaries\n",
        "data = []\n",
        "for file_name, times in time_taken.items():\n",
        "    for i, time_value in enumerate(times):\n",
        "        data.append({'file_name': file_name, 'run': i + 1, 'time': time_value})\n",
        "\n",
        "# Create DataFrame from list of dictionaries\n",
        "df = pd.DataFrame(data)\n",
        "\n",
        "# Save to CSV\n",
        "csv_path = '/content/drive/MyDrive/timing_data.csv'\n",
        "df.to_csv(csv_path, index=False)\n",
        "print(f\"Timing data saved to {csv_path}\")\n",
        "\n",
        "# Load timing data from CSV file\n",
        "df = pd.read_csv(csv_path)\n",
        "print(df)\n",
        "\n",
        "# Create Box Plots\n",
        "plt.figure(figsize=(12, 8))\n",
        "sns.boxplot(x='file_name', y='time', data=df)\n",
        "plt.xticks(rotation=90)\n",
        "plt.title('Box Plot of Processing Time for Each File')\n",
        "plt.xlabel('File Name')\n",
        "plt.ylabel('Time (seconds)')\n",
        "plt.show()\n",
        "\n",
        "# ANOVA\n",
        "# Group the times by file_name\n",
        "grouped_times = [df[df['file_name'] == file_name]['time'].values for file_name in df['file_name'].unique()]\n",
        "\n",
        "# One-way ANOVA\n",
        "f_stat, p_value = f_oneway(*grouped_times)\n",
        "\n",
        "print(f\"ANOVA results: F-statistic = {f_stat}, p-value = {p_value}\")\n",
        "\n",
        "# Interpretation\n",
        "if p_value < 0.05:\n",
        "    print(\"There is a significant difference in the time taken between different files.\")\n",
        "else:\n",
        "    print(\"There is no significant difference in the time taken between different files.\")\n"
      ],
      "metadata": {
        "colab": {
          "base_uri": "https://localhost:8080/",
          "height": 1000
        },
        "id": "nb271ZhfUZ7G",
        "outputId": "5ae2b3e5-fa18-458b-aa3d-d79ebe5c1aea"
      },
      "execution_count": 10,
      "outputs": [
        {
          "output_type": "stream",
          "name": "stdout",
          "text": [
            "Timing data saved to /content/drive/MyDrive/timing_data.csv\n",
            "                  file_name  run        time\n",
            "0   ED3_20240504_060000.wav    1  148.265679\n",
            "1   ED3_20240504_060000.wav    2  131.317541\n",
            "2   ED3_20240504_060000.wav    3  131.810065\n",
            "3   ED3_20240507_060000.wav    1  135.442739\n",
            "4   ED3_20240507_060000.wav    2  132.589524\n",
            "5   ED3_20240507_060000.wav    3  130.956290\n",
            "6   ED3_20240507_080000.wav    1  132.765529\n",
            "7   ED3_20240507_080000.wav    2  130.961113\n",
            "8   ED3_20240507_080000.wav    3  132.508334\n",
            "9   ED4_20240506_080000.wav    1  134.555232\n",
            "10  ED4_20240506_080000.wav    2  131.936658\n",
            "11  ED4_20240506_080000.wav    3  131.018900\n",
            "12  ED4_20240507_070000.wav    1  133.072675\n",
            "13  ED4_20240507_070000.wav    2  131.653394\n",
            "14  ED4_20240507_070000.wav    3  130.598359\n",
            "15  ED4_20240509_090000.wav    1  136.040116\n",
            "16  ED4_20240509_090000.wav    2  130.675852\n",
            "17  ED4_20240509_090000.wav    3  132.391584\n",
            "18  ED1_20240504_080000.wav    1  132.421542\n",
            "19  ED1_20240504_080000.wav    2  132.483198\n",
            "20  ED1_20240504_080000.wav    3  130.789602\n",
            "21  ED1_20240502_060000.wav    1  134.031745\n",
            "22  ED1_20240502_060000.wav    2  131.082040\n",
            "23  ED1_20240502_060000.wav    3  131.175076\n",
            "24  ED1_20240509_060000.wav    1  133.204464\n",
            "25  ED1_20240509_060000.wav    2  130.868678\n",
            "26  ED1_20240509_060000.wav    3  131.521072\n",
            "27  ED2_20240506_080000.wav    1  134.929070\n",
            "28  ED2_20240506_080000.wav    2  132.476074\n",
            "29  ED2_20240506_080000.wav    3  130.890532\n",
            "30  ED2_20240507_060000.wav    1  133.406574\n",
            "31  ED2_20240507_060000.wav    2  130.942192\n",
            "32  ED2_20240507_060000.wav    3  132.016557\n",
            "33  ED2_20240502_060000.wav    1  134.094162\n",
            "34  ED2_20240502_060000.wav    2  131.093099\n",
            "35  ED2_20240502_060000.wav    3  131.287394\n"
          ]
        },
        {
          "output_type": "display_data",
          "data": {
            "text/plain": [
              "<Figure size 1200x800 with 1 Axes>"
            ],
            "image/png": "[encoded data removed]"
          },
          "metadata": {}
        },
        {
          "output_type": "stream",
          "name": "stdout",
          "text": [
            "ANOVA results: F-statistic = 0.6128672382387197, p-value = 0.7999044174905225\n",
            "There is no significant difference in the time taken between different files.\n"
          ]
        }
      ]
    },
    {
      "cell_type": "code",
      "source": [
        "# Convert time_taken_2 dictionary into list of dictionaries\n",
        "data = []\n",
        "for file_name, times in time_taken_2.items():\n",
        "    for i, time_value in enumerate(times):\n",
        "        data.append({'file_name': file_name, 'run': i + 1, 'time': time_value})\n",
        "\n",
        "# Create DataFrame from list of dictionaries\n",
        "df = pd.DataFrame(data)\n",
        "\n",
        "# Save to CSV\n",
        "csv_path2 = '/content/drive/MyDrive/timing_data_2.csv'\n",
        "df.to_csv(csv_path2, index=False)\n",
        "print(f\"Timing data saved to {csv_path2}\")\n",
        "\n",
        "# Load timing data from CSV file\n",
        "df = pd.read_csv(csv_path2)\n",
        "print(df)\n",
        "\n",
        "# Create Box Plots\n",
        "plt.figure(figsize=(12, 8))\n",
        "sns.boxplot(x='file_name', y='time', data=df)\n",
        "plt.xticks(rotation=90)\n",
        "plt.title('Box Plot of Processing Time for Each File')\n",
        "plt.xlabel('File Name')\n",
        "plt.ylabel('Time (seconds)')\n",
        "plt.show()\n",
        "\n",
        "# ANOVA\n",
        "# Group the times by file_name\n",
        "grouped_times = [df[df['file_name'] == file_name]['time'].values for file_name in df['file_name'].unique()]\n",
        "\n",
        "# One-way ANOVA\n",
        "f_stat, p_value = f_oneway(*grouped_times)\n",
        "\n",
        "print(f\"ANOVA results: F-statistic = {f_stat}, p-value = {p_value}\")\n",
        "\n",
        "# Interpretation\n",
        "if p_value < 0.05:\n",
        "    print(\"There is a significant difference in the time taken between different files.\")\n",
        "else:\n",
        "    print(\"There is no significant difference in the time taken between different files.\")\n"
      ],
      "metadata": {
        "colab": {
          "base_uri": "https://localhost:8080/",
          "height": 866
        },
        "id": "TNwuuAnPiZ0O",
        "outputId": "c3d09a4f-935d-466a-92f8-0e9f7ec308cd"
      },
      "execution_count": 12,
      "outputs": [
        {
          "output_type": "stream",
          "name": "stdout",
          "text": [
            "Timing data saved to /content/drive/MyDrive/timing_data_2.csv\n",
            "                  file_name  run        time\n",
            "0   ED3_20240505_090000.wav    1  134.202434\n",
            "1   ED3_20240505_090000.wav    2  131.311867\n",
            "2   ED3_20240505_090000.wav    3  145.117482\n",
            "3   ED4_20240508_060000.wav    1  133.965425\n",
            "4   ED4_20240508_060000.wav    2  131.701430\n",
            "5   ED4_20240508_060000.wav    3  132.452882\n",
            "6   ED1_20240505_060000.wav    1  133.201050\n",
            "7   ED1_20240505_060000.wav    2  131.931761\n",
            "8   ED1_20240505_060000.wav    3  134.002541\n",
            "9   ED2_20240506_060000.wav    1  134.884957\n",
            "10  ED2_20240506_060000.wav    2  152.097767\n",
            "11  ED2_20240506_060000.wav    3  131.876852\n"
          ]
        },
        {
          "output_type": "display_data",
          "data": {
            "text/plain": [
              "<Figure size 1200x800 with 1 Axes>"
            ],
            "image/png": "[encoded data removed]"
          },
          "metadata": {}
        },
        {
          "output_type": "stream",
          "name": "stdout",
          "text": [
            "ANOVA results: F-statistic = 0.7493357922670073, p-value = 0.552649714514654\n",
            "There is no significant difference in the time taken between different files.\n"
          ]
        }
      ]
    }
  ]
}